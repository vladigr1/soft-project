{
 "cells": [
  {
   "cell_type": "markdown",
   "metadata": {},
   "source": [
    "# Lab1 - effect of filters\n",
    "\n",
    "run steypwise on data\n",
    "\n"
   ]
  },
  {
   "cell_type": "code",
   "execution_count": 9,
   "metadata": {},
   "outputs": [
    {
     "name": "stdout",
     "output_type": "stream",
     "text": [
      "       mood amount of sleep  physical activity  cognitive load     water  \\\n",
      "0  3.666667               4           1.666667       -0.333333  1.666667   \n",
      "1  1.000000               5          -0.333333        1.666667  4.000000   \n",
      "2  3.000000               1          -1.000000        3.333333  3.666667   \n",
      "3  2.333333               2           0.666667        2.000000  5.000000   \n",
      "\n",
      "   quality of sleep  \n",
      "0          3.000000  \n",
      "1         -0.333333  \n",
      "2          1.666667  \n",
      "3         -1.666667  \n",
      "add-params: ['mood'], pvalue: 0.31964130256131673\n",
      "add-params: ['mood', 'physical activity'], pvalue: 0.28086289962816396\n",
      "add-params: ['mood', 'physical activity', 'cognitive load'], pvalue: 0.330564931278184\n",
      "add-params: ['mood', 'physical activity', 'cognitive load', 'water'], pvalue: 0.330564931278184\n",
      "add-params: ['mood', 'physical activity', 'cognitive load', 'water', 'quality of sleep'], pvalue: 0.12010471024735143\n",
      "['mood', 'physical activity', 'cognitive load', 'water', 'quality of sleep']\n"
     ]
    }
   ],
   "source": [
    "import algorithms\n",
    "from data_manipulation import filter, avg_filter\n",
    "\n",
    "\n",
    "in_threshold = 0.4\n",
    "out_threshold = 0.1\n",
    "sderived = 'amount of sleep'\n",
    "filter_size = 3\n",
    "func = avg_filter(filter_size)\n",
    "lfilters = 6 * [func]\n",
    "data = algorithms.load_data_with_fiters(\"30days.csv\", sderived, lfilters, filter_size)\n",
    "\n",
    "lbasics = list(data.columns.values)\n",
    "lbasics.remove(sderived)\n",
    "\n",
    "print(data[:][0:4])\n",
    "\n",
    "from algorithms import stepwise_regression\n",
    "(fit_model, param_in_model) = stepwise_regression(data, sderived, lbasics, in_threshold, out_threshold)\n",
    "print(param_in_model)\n"
   ]
  },
  {
   "cell_type": "markdown",
   "metadata": {},
   "source": [
    "# Result - analysis"
   ]
  },
  {
   "cell_type": "code",
   "execution_count": 10,
   "metadata": {},
   "outputs": [
    {
     "name": "stdout",
     "output_type": "stream",
     "text": [
      "   derived  pred  dist\n",
      "0        4     4     0\n",
      "1        5     4     1\n",
      "2        1     0     1\n",
      "3        2     1     1\n",
      "4        5     2     3\n",
      "accuracy: 11\n"
     ]
    }
   ],
   "source": [
    "import evaluation\n",
    "distance = evaluation.distance_vec(data, sderived, param_in_model, fit_model)\n",
    "print(distance[:][0:5])\n",
    "print(f'accuracy: {evaluation.accuracy(distance)}')"
   ]
  }
 ],
 "metadata": {
  "interpreter": {
   "hash": "8e78747238e939523e0ccabebcbcad03fef5307bc0952566b45b121ad126abc3"
  },
  "kernelspec": {
   "display_name": "Python 3.8.11 ('base')",
   "language": "python",
   "name": "python3"
  },
  "language_info": {
   "codemirror_mode": {
    "name": "ipython",
    "version": 3
   },
   "file_extension": ".py",
   "mimetype": "text/x-python",
   "name": "python",
   "nbconvert_exporter": "python",
   "pygments_lexer": "ipython3",
   "version": "3.8.11"
  },
  "orig_nbformat": 4
 },
 "nbformat": 4,
 "nbformat_minor": 2
}
