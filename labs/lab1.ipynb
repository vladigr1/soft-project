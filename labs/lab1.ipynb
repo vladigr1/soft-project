{
 "cells": [
  {
   "cell_type": "markdown",
   "metadata": {},
   "source": [
    "# Lab1 - effect of filters\n",
    "\n",
    "run steypwise on data\n",
    "\n"
   ]
  },
  {
   "cell_type": "code",
   "execution_count": 1,
   "metadata": {},
   "outputs": [
    {
     "name": "stderr",
     "output_type": "stream",
     "text": [
      "c:\\Users\\do2vl\\anaconda3\\lib\\site-packages\\statsmodels\\base\\model.py:592: HessianInversionWarning: Inverting hessian failed, no bse or cov_params available\n",
      "  warnings.warn('Inverting hessian failed, no bse or cov_params '\n",
      "c:\\Users\\do2vl\\anaconda3\\lib\\site-packages\\statsmodels\\base\\model.py:592: HessianInversionWarning: Inverting hessian failed, no bse or cov_params available\n",
      "  warnings.warn('Inverting hessian failed, no bse or cov_params '\n"
     ]
    },
    {
     "name": "stdout",
     "output_type": "stream",
     "text": [
      "param_in_model: ['cognitive load', 'mood', 'water']\n",
      "cur_pvalue: 0.24003965276286104\n",
      "                             OrderedModel Results                             \n",
      "==============================================================================\n",
      "Dep. Variable:        amount of sleep   Log-Likelihood:                -6.0419\n",
      "Model:                   OrderedModel   AIC:                             26.08\n",
      "Method:            Maximum Likelihood   BIC:                             24.63\n",
      "Date:                Sat, 21 May 2022                                         \n",
      "Time:                        19:56:11                                         \n",
      "No. Observations:                   6                                         \n",
      "Df Residuals:                      -1                                         \n",
      "Df Model:                           7                                         \n",
      "==================================================================================\n",
      "                     coef    std err          z      P>|z|      [0.025      0.975]\n",
      "----------------------------------------------------------------------------------\n",
      "cognitive load    -4.3891      2.351     -1.867      0.062      -8.997       0.219\n",
      "mood              -4.1497      2.505     -1.657      0.098      -9.059       0.760\n",
      "water             -0.3964      1.532     -0.259      0.796      -3.399       2.606\n",
      "1/2              -15.0554      8.247     -1.826      0.068     -31.218       1.108\n",
      "2/3                1.0847      0.954      1.137      0.256      -0.785       2.954\n",
      "3/4                0.4912      0.924      0.531      0.595      -1.320       2.302\n",
      "4/5                0.1605      0.945      0.170      0.865      -1.692       2.013\n",
      "==================================================================================\n",
      "['cognitive load', 'mood', 'water', '1/2', '2/3', '3/4', '4/5']\n",
      "[ -4.3890917   -4.14965907  -0.39637471 -15.05536705   1.08467983\n",
      "   0.49117062   0.16053611]\n"
     ]
    }
   ],
   "source": [
    "import algorithms\n",
    "from data_manipulation import filter, avg_filter\n",
    "from algorithms import stepwise_regression\n",
    "\n",
    "\n",
    "in_threshold = 0.3\n",
    "out_threshold = 0.05\n",
    "sderived = 'amount of sleep'\n",
    "\n",
    "\n",
    "filter_size = 5\n",
    "func3 = avg_filter(filter_size)\n",
    "lfilters = 6 * [func3]\n",
    "data = algorithms.load_data_with_fiters(\"30days.csv\", sderived, lfilters, filter_size)\n",
    "lbasics = list(data.columns.values)\n",
    "lbasics.remove(sderived)\n",
    "\n",
    "(fit_model, param_in_model, cur_pvalue) = stepwise_regression(data, sderived, lbasics, in_threshold, out_threshold)\n",
    "print(f'param_in_model: {param_in_model}')\n",
    "print(f'cur_pvalue: {cur_pvalue}')\n",
    "\n",
    "print(fit_model.summary())\n",
    "print(fit_model.model.exog_names)\n",
    "print(fit_model.params.values)"
   ]
  },
  {
   "cell_type": "markdown",
   "metadata": {},
   "source": [
    "# Result - analysis"
   ]
  },
  {
   "cell_type": "code",
   "execution_count": 2,
   "metadata": {},
   "outputs": [
    {
     "name": "stdout",
     "output_type": "stream",
     "text": [
      "   derived  pred  dist\n",
      "0        4     4     0\n",
      "1        5     4     1\n",
      "2        1     0     1\n",
      "3        2     1     1\n",
      "4        5     2     3\n",
      "5        3     2     1\n",
      "accuracy: 7\n"
     ]
    }
   ],
   "source": [
    "import evaluation\n",
    "distance = evaluation.distance_vec(data, sderived, param_in_model, fit_model)\n",
    "print(distance[:])\n",
    "print(f'accuracy: {evaluation.accuracy(distance)}')"
   ]
  }
 ],
 "metadata": {
  "interpreter": {
   "hash": "8e78747238e939523e0ccabebcbcad03fef5307bc0952566b45b121ad126abc3"
  },
  "kernelspec": {
   "display_name": "Python 3.8.11 ('base')",
   "language": "python",
   "name": "python3"
  },
  "language_info": {
   "codemirror_mode": {
    "name": "ipython",
    "version": 3
   },
   "file_extension": ".py",
   "mimetype": "text/x-python",
   "name": "python",
   "nbconvert_exporter": "python",
   "pygments_lexer": "ipython3",
   "version": "3.8.11"
  },
  "orig_nbformat": 4
 },
 "nbformat": 4,
 "nbformat_minor": 2
}
