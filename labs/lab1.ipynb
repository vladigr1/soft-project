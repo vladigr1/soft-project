{
 "cells": [
  {
   "cell_type": "markdown",
   "metadata": {},
   "source": [
    "# Lab1 - effect of filters\n",
    "\n",
    "run steypwise on data\n",
    "\n"
   ]
  },
  {
   "cell_type": "code",
   "execution_count": 1,
   "metadata": {},
   "outputs": [
    {
     "name": "stdout",
     "output_type": "stream",
     "text": [
      "param_in_model: ['water']\n",
      "cur_pvalue: 0.8378142038012927\n",
      "['water', '0/1', '1/2', '2/3', '3/4']\n",
      "[ -3.18792179 -13.7192845    0.4028324    0.5482538    0.42291164]\n"
     ]
    }
   ],
   "source": [
    "import algorithms\n",
    "from data_manipulation import filter, avg_filter,max_filter,weighted_filter\n",
    "from algorithms import stepwise_regression\n",
    "import numpy as np\n",
    "\n",
    "\n",
    "in_threshold = 0.5\n",
    "out_threshold = 0.05\n",
    "sderived = 'quality of sleep'\n",
    "\n",
    "\n",
    "filter_size = 5\n",
    "func3 = avg_filter(filter_size)\n",
    "available_filters = [avg_filter(3),max_filter(3),weighted_filter(np.array([0.25,0.5,0.25]))]\n",
    "lfilters = 6 * [func3]\n",
    "data = algorithms.load_data_with_fiters(\"30days.csv\", sderived, lfilters, filter_size)\n",
    "lbasics = list(data.columns.values)\n",
    "lbasics.remove(sderived)\n",
    "\n",
    "(fit_model, param_in_model, cur_pvalue) = stepwise_regression(data, sderived, lbasics, in_threshold, out_threshold)\n",
    "print(f'param_in_model: {param_in_model}')\n",
    "print(f'cur_pvalue: {cur_pvalue}')\n",
    "\n",
    "# print(fit_model.summary())\n",
    "print(fit_model.model.exog_names)\n",
    "print(fit_model.params.values)"
   ]
  },
  {
   "cell_type": "markdown",
   "metadata": {},
   "source": [
    "# Result - analysis"
   ]
  },
  {
   "cell_type": "code",
   "execution_count": 2,
   "metadata": {},
   "outputs": [
    {
     "name": "stdout",
     "output_type": "stream",
     "text": [
      "    derived  pred  dist\n",
      "0         2     4     2\n",
      "1         1     3     2\n",
      "2         2     1     1\n",
      "3         2     1     1\n",
      "4         1     2     1\n",
      "5         1     1     0\n",
      "6         0     0     0\n",
      "7         0     1     1\n",
      "8         0     1     1\n",
      "9         1     0     1\n",
      "10        2     2     0\n",
      "11        3     3     0\n",
      "12        3     4     1\n",
      "13        2     3     1\n",
      "14        3     3     0\n",
      "15        2     3     1\n",
      "16        3     2     1\n",
      "17        3     2     1\n",
      "18        4     3     1\n",
      "19        4     3     1\n",
      "20        4     3     1\n",
      "21        4     4     0\n",
      "22        4     4     0\n",
      "23        4     4     0\n",
      "24        4     4     0\n",
      "25        4     4     0\n",
      "accuracy: 0.6923076923076923\n"
     ]
    }
   ],
   "source": [
    "import evaluation\n",
    "distance = evaluation.distance_vec(data, sderived, param_in_model, fit_model)\n",
    "print(distance[:])\n",
    "print(f'accuracy: {evaluation.accuracy(distance)}')"
   ]
  },
  {
   "cell_type": "markdown",
   "metadata": {},
   "source": [
    "# try all combination for all the filters"
   ]
  },
  {
   "cell_type": "code",
   "execution_count": 3,
   "metadata": {},
   "outputs": [
    {
     "name": "stdout",
     "output_type": "stream",
     "text": [
      "Best p-value:\n",
      "param_in_model: ['cognitive load']\n",
      "cur_pvalue: 3.7129239722562755e-06\n",
      "cur_acc: 1.3571428571428572\n",
      "----------\n",
      "Best accurecy:\n",
      "param_in_model: ['mood', 'amount of sleep', 'cognitive load', 'water', 'physical activity']\n",
      "cur_pvalue: 0.3399045722532331\n",
      "cur_acc: 0.32142857142857145\n"
     ]
    }
   ],
   "source": [
    "import algorithms\n",
    "from data_manipulation import filter, avg_filter,max_filter,weighted_filter\n",
    "from algorithms import stepwise_regression,best_subset\n",
    "import numpy as np\n",
    "from itertools import product\n",
    "import evaluation\n",
    "\n",
    "in_threshold = 0.5\n",
    "out_threshold = 0.05\n",
    "sderived = 'quality of sleep'\n",
    "\n",
    "\n",
    "filter_size = 3\n",
    "func3 = avg_filter(filter_size)\n",
    "available_filters = [avg_filter(filter_size),max_filter(filter_size),weighted_filter(np.array([0.25,0.5,0.25]))]\n",
    "best_acc = [5,0,0]\n",
    "\n",
    "class best_model:\n",
    "\n",
    "    def __init__(self):\n",
    "        self.pvalue = 1\n",
    "        self.acc = 5\n",
    "        self.param_in_model = []\n",
    "        self.filters = None\n",
    "    \n",
    "    def comp_pvalue(self,pvalue,acc,params,lfilters):\n",
    "        if(pvalue < self.pvalue):\n",
    "            self.pvalue = pvalue\n",
    "            self.acc = acc\n",
    "            self.param_in_model = params\n",
    "            self.filters = lfilters\n",
    "\n",
    "    \n",
    "    def comp_acc(self,pvalue,acc,params,lfilters):\n",
    "        if(acc < self.acc):\n",
    "            self.pvalue = pvalue\n",
    "            self.acc = acc\n",
    "            self.param_in_model = params\n",
    "            self.filters = lfilters\n",
    "\n",
    "acc_model = best_model()\n",
    "pval_model = best_model()\n",
    "\n",
    "for lfilters in product(available_filters,repeat=6):\n",
    "    data = algorithms.load_data_with_fiters(\"30days.csv\", sderived, lfilters, filter_size)\n",
    "    lbasics = list(data.columns.values)\n",
    "    lbasics.remove(sderived)\n",
    "    (fit_model, param_in_model, cur_pvalue) = stepwise_regression(data, sderived, lbasics, in_threshold, out_threshold)\n",
    "    distance = evaluation.distance_vec(data, sderived, param_in_model, fit_model)\n",
    "    acc = evaluation.accuracy(distance)\n",
    "    acc_model.comp_acc(cur_pvalue,acc,param_in_model,lfilters)\n",
    "    pval_model.comp_pvalue(cur_pvalue,acc,param_in_model,lfilters)\n",
    "\n",
    "print(\"Best p-value:\")\n",
    "print(f'param_in_model: {pval_model.param_in_model}')\n",
    "print(f'cur_pvalue: {pval_model.pvalue}')\n",
    "print(f'cur_acc: {pval_model.acc}')\n",
    "print('-'*10)\n",
    "print(\"Best accurecy:\")\n",
    "print(f'param_in_model: {acc_model.param_in_model}')\n",
    "print(f'cur_pvalue: {acc_model.pvalue}')\n",
    "print(f'cur_acc: {acc_model.acc}')\n"
   ]
  },
  {
   "cell_type": "code",
   "execution_count": 4,
   "metadata": {},
   "outputs": [
    {
     "name": "stdout",
     "output_type": "stream",
     "text": [
      "(<function avg_filter.<locals>.<lambda> at 0x0000021701ABF3A0>, <function max_filter.<locals>.<lambda> at 0x0000021706683310>, <function avg_filter.<locals>.<lambda> at 0x0000021701ABF3A0>, <function weighted_filter.<locals>.<lambda> at 0x0000021706683280>, <function avg_filter.<locals>.<lambda> at 0x0000021701ABF3A0>, <function avg_filter.<locals>.<lambda> at 0x0000021701ABF3A0>)\n",
      "(<function max_filter.<locals>.<lambda> at 0x0000021706683310>, <function avg_filter.<locals>.<lambda> at 0x0000021701ABF3A0>, <function avg_filter.<locals>.<lambda> at 0x0000021701ABF3A0>, <function max_filter.<locals>.<lambda> at 0x0000021706683310>, <function weighted_filter.<locals>.<lambda> at 0x0000021706683280>, <function max_filter.<locals>.<lambda> at 0x0000021706683310>)\n"
     ]
    }
   ],
   "source": [
    "from data_manipulation import filter, avg_filter,max_filter,weighted_filter\n",
    "import numpy as np\n",
    "\n",
    "filter = weighted_filter(np.array([0.25,0.5,0.25]))\n",
    "filter(np.array([1,1,1]))\n",
    "\n",
    "print(pval_model.filters)\n",
    "print(acc_model.filters)\n"
   ]
  },
  {
   "cell_type": "code",
   "execution_count": 5,
   "metadata": {},
   "outputs": [
    {
     "name": "stdout",
     "output_type": "stream",
     "text": [
      "Best p-value:\n",
      "param_in_model: ['cognitive load']\n",
      "cur_pvalue: 3.7129239722562755e-06\n",
      "cur_acc: 1.3571428571428572\n",
      "filters: (<function avg_filter.<locals>.<lambda> at 0x00000217038FD550>, <function avg_filter.<locals>.<lambda> at 0x00000217038FD550>, <function avg_filter.<locals>.<lambda> at 0x00000217038FD550>, <function avg_filter.<locals>.<lambda> at 0x00000217038FD550>, <function avg_filter.<locals>.<lambda> at 0x00000217038FD550>, <function avg_filter.<locals>.<lambda> at 0x00000217038FD550>)\n",
      "----------\n",
      "Best accurecy:\n",
      "param_in_model: ['water']\n",
      "cur_pvalue: 0.00503005276048003\n",
      "cur_acc: 0.5714285714285714\n",
      "filters: (<function avg_filter.<locals>.<lambda> at 0x00000217038FD550>, <function avg_filter.<locals>.<lambda> at 0x00000217038FD550>, <function avg_filter.<locals>.<lambda> at 0x00000217038FD550>, <function avg_filter.<locals>.<lambda> at 0x00000217038FD550>, <function avg_filter.<locals>.<lambda> at 0x00000217038FD550>, <function max_filter.<locals>.<lambda> at 0x0000021706DA3940>)\n"
     ]
    }
   ],
   "source": [
    "import algorithms\n",
    "from data_manipulation import filter, avg_filter,max_filter,weighted_filter\n",
    "from algorithms import stepwise_regression,best_subset\n",
    "import numpy as np\n",
    "from itertools import product\n",
    "import evaluation\n",
    "\n",
    "in_threshold = 0.5\n",
    "out_threshold = 0.05\n",
    "sderived = 'quality of sleep'\n",
    "\n",
    "\n",
    "filter_size = 3\n",
    "func3 = avg_filter(filter_size)\n",
    "available_filters = [avg_filter(filter_size),max_filter(filter_size),weighted_filter(np.array([0.25,0.5,0.25]))]\n",
    "best_acc = [5,0,0]\n",
    "\n",
    "class best_model:\n",
    "\n",
    "    def __init__(self):\n",
    "        self.pvalue = 1\n",
    "        self.acc = 5\n",
    "        self.param_in_model = []\n",
    "        self.filters = None\n",
    "    \n",
    "    def comp_pvalue(self,pvalue,acc,params,lfilters):\n",
    "        if(pvalue < self.pvalue):\n",
    "            self.pvalue = pvalue\n",
    "            self.acc = acc\n",
    "            self.param_in_model = params\n",
    "            self.filters = lfilters\n",
    "\n",
    "    \n",
    "    def comp_acc(self,pvalue,acc,params,lfilters):\n",
    "        if(acc < self.acc):\n",
    "            self.pvalue = pvalue\n",
    "            self.acc = acc\n",
    "            self.param_in_model = params\n",
    "            self.filters = lfilters\n",
    "\n",
    "acc_model = best_model()\n",
    "pval_model = best_model()\n",
    "\n",
    "for lfilters in product(available_filters,repeat=6):\n",
    "    data = algorithms.load_data_with_fiters(\"30days.csv\", sderived, lfilters, filter_size)\n",
    "    lbasics = list(data.columns.values)\n",
    "    lbasics.remove(sderived)\n",
    "    (fit_model, param_in_model, cur_pvalue) = best_subset(data, sderived, lbasics)\n",
    "    distance = evaluation.distance_vec(data, sderived, param_in_model, fit_model)\n",
    "    acc = evaluation.accuracy(distance)\n",
    "    acc_model.comp_acc(cur_pvalue,acc,param_in_model,lfilters)\n",
    "    pval_model.comp_pvalue(cur_pvalue,acc,param_in_model,lfilters)\n",
    "\n",
    "print(\"Best p-value:\")\n",
    "print(f'param_in_model: {pval_model.param_in_model}')\n",
    "print(f'cur_pvalue: {pval_model.pvalue}')\n",
    "print(f'cur_acc: {pval_model.acc}')\n",
    "print(f'filters: {pval_model.filters}')\n",
    "print('-'*10)\n",
    "print(\"Best accurecy:\")\n",
    "print(f'param_in_model: {acc_model.param_in_model}')\n",
    "print(f'cur_pvalue: {acc_model.pvalue}')\n",
    "print(f'cur_acc: {acc_model.acc}')\n",
    "print(f'filters: {acc_model.filters}')"
   ]
  }
 ],
 "metadata": {
  "interpreter": {
   "hash": "ad2bdc8ecc057115af97d19610ffacc2b4e99fae6737bb82f5d7fb13d2f2c186"
  },
  "kernelspec": {
   "display_name": "Python 3.9.12 ('base')",
   "language": "python",
   "name": "python3"
  },
  "language_info": {
   "codemirror_mode": {
    "name": "ipython",
    "version": 3
   },
   "file_extension": ".py",
   "mimetype": "text/x-python",
   "name": "python",
   "nbconvert_exporter": "python",
   "pygments_lexer": "ipython3",
   "version": "3.9.12"
  },
  "orig_nbformat": 4
 },
 "nbformat": 4,
 "nbformat_minor": 2
}
