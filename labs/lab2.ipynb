{
 "cells": [
  {
   "cell_type": "markdown",
   "metadata": {},
   "source": [
    "# Lab2 - effect of stepwise parameters\n",
    "\n",
    "run steypwise on data\n",
    "\n"
   ]
  },
  {
   "cell_type": "code",
   "execution_count": 1,
   "metadata": {},
   "outputs": [
    {
     "name": "stdout",
     "output_type": "stream",
     "text": [
      "   mood amount of sleep  physical activity  cognitive load  water  \\\n",
      "0   3.0               5                5.0            -1.0    2.0   \n",
      "1   5.0               2               -3.0             1.0    1.0   \n",
      "2   3.0               5                3.0            -1.0    2.0   \n",
      "3  -1.0               5                3.0             5.0    4.0   \n",
      "\n",
      "   quality of sleep  \n",
      "0               5.0  \n",
      "1               1.0  \n",
      "2               3.0  \n",
      "3              -1.0  \n",
      "add-params: ['physical activity'], pvalue: 0.01622256533918167\n",
      "add-params: ['physical activity', 'mood'], pvalue: 0.00925285577907701\n",
      "add-params: ['physical activity', 'mood', 'cognitive load'], pvalue: 0.01622256533918167\n",
      "add-params: ['physical activity', 'mood', 'cognitive load', 'quality of sleep'], pvalue: 0.01622256533918167\n",
      "['physical activity', 'mood', 'cognitive load', 'quality of sleep']\n"
     ]
    }
   ],
   "source": [
    "import algorithms\n",
    "data = algorithms.load_data('30days.csv')\n",
    "\n",
    "in_threshold = 0.02\n",
    "out_threshold = 0.01\n",
    "sderived = 'amount of sleep'\n",
    "lbasics = list(data.columns.values)\n",
    "lbasics.remove(sderived)\n",
    "\n",
    "print(data[:][0:4])\n",
    "\n",
    "from algorithms import stepwise_regression\n",
    "(fit_model, param_in_model) = stepwise_regression(data, sderived, lbasics, in_threshold, out_threshold)\n",
    "print(param_in_model)\n"
   ]
  },
  {
   "cell_type": "markdown",
   "metadata": {},
   "source": [
    "# Result - analysis"
   ]
  },
  {
   "cell_type": "code",
   "execution_count": 2,
   "metadata": {},
   "outputs": [
    {
     "name": "stdout",
     "output_type": "stream",
     "text": [
      "   derived  pred  dist\n",
      "0        5     4     1\n",
      "1        2     2     0\n",
      "2        5     4     1\n",
      "3        5     4     1\n",
      "4        4     2     2\n",
      "accuracy: 30\n"
     ]
    }
   ],
   "source": [
    "import evaluation\n",
    "distance = evaluation.distance_vec(data, sderived, param_in_model, fit_model)\n",
    "print(distance[:][0:5])\n",
    "print(f'accuracy: {evaluation.accuracy(distance)}')"
   ]
  }
 ],
 "metadata": {
  "interpreter": {
   "hash": "8e78747238e939523e0ccabebcbcad03fef5307bc0952566b45b121ad126abc3"
  },
  "kernelspec": {
   "display_name": "Python 3.8.11 ('base')",
   "language": "python",
   "name": "python3"
  },
  "language_info": {
   "codemirror_mode": {
    "name": "ipython",
    "version": 3
   },
   "file_extension": ".py",
   "mimetype": "text/x-python",
   "name": "python",
   "nbconvert_exporter": "python",
   "pygments_lexer": "ipython3",
   "version": "3.8.11"
  },
  "orig_nbformat": 4
 },
 "nbformat": 4,
 "nbformat_minor": 2
}
