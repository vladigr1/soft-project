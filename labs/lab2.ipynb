{
 "cells": [
  {
   "cell_type": "markdown",
   "metadata": {},
   "source": [
    "# Lab2 - effect of stepwise parameters\n",
    "\n",
    "run steypwise on data\n",
    "\n"
   ]
  },
  {
   "cell_type": "code",
   "execution_count": 2,
   "metadata": {},
   "outputs": [
    {
     "name": "stdout",
     "output_type": "stream",
     "text": [
      "   mood amount of sleep  physical activity  cognitive load  water  \\\n",
      "0   3.0               5                5.0            -1.0    2.0   \n",
      "1   5.0               2               -3.0             1.0    1.0   \n",
      "2   3.0               5                3.0            -1.0    2.0   \n",
      "3  -1.0               5                3.0             5.0    4.0   \n",
      "\n",
      "   quality of sleep  \n",
      "0               5.0  \n",
      "1               1.0  \n",
      "2               3.0  \n",
      "3              -1.0  \n",
      "param_in_model: ['quality of sleep']\n",
      "cur_pvalue: 0.11554958470822174\n",
      "param_in_model: ['quality of sleep']\n",
      "cur_pvalue: 0.11554958470822174\n",
      "param_in_model: ['quality of sleep']\n",
      "cur_pvalue: 0.11554958470822174\n",
      "param_in_model: ['quality of sleep', 'mood', 'physical activity', 'cognitive load', 'water']\n",
      "cur_pvalue: 0.02025507968992961\n",
      "param_in_model: ['mood', 'physical activity', 'cognitive load', 'water', 'quality of sleep']\n",
      "cur_pvalue: 0.02025507968992961\n",
      "param_in_model: ['physical activity', 'quality of sleep', 'mood', 'cognitive load', 'water']\n",
      "cur_pvalue: 0.02025507968992961\n",
      "param_in_model: ['quality of sleep', 'mood', 'physical activity', 'cognitive load', 'water']\n",
      "cur_pvalue: 0.02025507968992961\n",
      "param_in_model: ['mood', 'physical activity', 'cognitive load', 'water', 'quality of sleep']\n",
      "cur_pvalue: 0.02025507968992961\n",
      "param_in_model: ['physical activity', 'quality of sleep', 'mood', 'cognitive load', 'water']\n",
      "cur_pvalue: 0.02025507968992961\n"
     ]
    }
   ],
   "source": [
    "import algorithms\n",
    "\n",
    "\n",
    "in_threshold = [0.03, 0.3, 0.5]\n",
    "out_threshold = [0.01, 0.05, 0.1]\n",
    "sderived = 'amount of sleep'\n",
    "data = algorithms.load_data('30days.csv', sderived)\n",
    "\n",
    "lbasics = list(data.columns.values)\n",
    "lbasics.remove(sderived)\n",
    "\n",
    "print(data[:][0:4])\n",
    "\n",
    "from algorithms import stepwise_regression\n",
    "for in_ in in_threshold:\n",
    "     for out_ in out_threshold:\n",
    "        (fit_model, param_in_model, cur_pvalue) = stepwise_regression(data, sderived, lbasics, in_, out_)\n",
    "        print(f'param_in_model: {param_in_model}')\n",
    "        print(f'cur_pvalue: {cur_pvalue}')\n"
   ]
  },
  {
   "cell_type": "markdown",
   "metadata": {},
   "source": [
    "# Result - analysis"
   ]
  },
  {
   "cell_type": "code",
   "execution_count": 3,
   "metadata": {},
   "outputs": [
    {
     "name": "stdout",
     "output_type": "stream",
     "text": [
      "   derived  pred  dist\n",
      "0        5     4     1\n",
      "1        2     2     0\n",
      "2        5     4     1\n",
      "3        5     4     1\n",
      "4        4     2     2\n",
      "accuracy: 29\n"
     ]
    }
   ],
   "source": [
    "import evaluation\n",
    "distance = evaluation.distance_vec(data, sderived, param_in_model, fit_model)\n",
    "print(distance[:][0:5])\n",
    "print(f'accuracy: {evaluation.accuracy(distance)}')"
   ]
  }
 ],
 "metadata": {
  "interpreter": {
   "hash": "8e78747238e939523e0ccabebcbcad03fef5307bc0952566b45b121ad126abc3"
  },
  "kernelspec": {
   "display_name": "Python 3.8.11 ('base')",
   "language": "python",
   "name": "python3"
  },
  "language_info": {
   "codemirror_mode": {
    "name": "ipython",
    "version": 3
   },
   "file_extension": ".py",
   "mimetype": "text/x-python",
   "name": "python",
   "nbconvert_exporter": "python",
   "pygments_lexer": "ipython3",
   "version": "3.8.11"
  },
  "orig_nbformat": 4
 },
 "nbformat": 4,
 "nbformat_minor": 2
}
