{
 "cells": [
  {
   "cell_type": "markdown",
   "metadata": {},
   "source": [
    "# Load files"
   ]
  },
  {
   "cell_type": "code",
   "execution_count": 71,
   "metadata": {},
   "outputs": [
    {
     "name": "stdout",
     "output_type": "stream",
     "text": [
      "data_diam:\n",
      "   mood  amount of sleep  physical activity  cognative load  water  \\\n",
      "0     4                9                  5               2      2   \n",
      "1     5                6                  1               3      1   \n",
      "2     4               10                  4               2      2   \n",
      "3     1                8                  4               5      4   \n",
      "4     2                7                  1               3      4   \n",
      "5     3                8                  2               2      4   \n",
      "\n",
      "   quality of sleep  \n",
      "0                 5  \n",
      "1                 3  \n",
      "2                 4  \n",
      "3                 2  \n",
      "4                 2  \n",
      "5                 3  \n",
      "boundaries: [ 7  8  9 10]\n",
      "<class 'pandas.core.series.Series'>\n",
      "[4 1 5 3 2 3]\n"
     ]
    }
   ],
   "source": [
    "import pandas as pd\n",
    "import numpy as np\n",
    "from derived import categories_derived\n",
    "data_diam = pd.read_csv('data.csv', dtype =  np.int64)\n",
    "print(f'data_diam:\\n{data_diam}')\n",
    "cat_derivied = categories_derived(data_diam['amount of sleep'])\n",
    "data_diam['amount of sleep'] = cat_derivied\n",
    "print(type(data_diam['amount of sleep']))\n",
    "print(data_diam['amount of sleep'].to_numpy())"
   ]
  },
  {
   "cell_type": "markdown",
   "metadata": {},
   "source": [
    "# Ordinal logistic regression - playground\n",
    "\n",
    "test logistic regression on derived modd and basic amount sleep phiscal activity and water\n",
    "\n",
    "The method determines which solver from scipy.optimize is used, and it can be chosen from among the following strings:\n",
    "\n",
    "*    ‘newton’ for Newton-Raphson, ‘nm’ for Nelder-Mead\n",
    "\n",
    "*    ‘bfgs’ for Broyden-Fletcher-Goldfarb-Shanno (BFGS)\n",
    "\n",
    "*   ‘lbfgs’ for limited-memory BFGS with optional box constraints\n",
    "\n",
    "*    ‘powell’ for modified Powell’s method\n",
    "\n",
    "*    ‘cg’ for conjugate gradient\n",
    "\n",
    "*   ‘ncg’ for Newton-conjugate gradient\n",
    "\n",
    "*   ‘basinhopping’ for global basin-hopping solver\n",
    "\n",
    "*   ‘minimize’ for generic wrapper of scipy minimize (BFGS by default)\n"
   ]
  },
  {
   "cell_type": "code",
   "execution_count": 72,
   "metadata": {},
   "outputs": [
    {
     "name": "stdout",
     "output_type": "stream",
     "text": [
      "Optimization terminated successfully.\n",
      "         Current function value: 0.000002\n",
      "         Iterations: 112\n",
      "         Function evaluations: 120\n",
      "         Gradient evaluations: 120\n",
      "                             OrderedModel Results                             \n",
      "==============================================================================\n",
      "Dep. Variable:                   mood   Log-Likelihood:            -1.0450e-05\n",
      "Model:                   OrderedModel   AIC:                             14.00\n",
      "Method:            Maximum Likelihood   BIC:                             12.54\n",
      "Date:                Sat, 14 May 2022                                         \n",
      "Time:                        16:19:28                                         \n",
      "No. Observations:                   6                                         \n",
      "Df Residuals:                      -1                                         \n",
      "Df Model:                           7                                         \n",
      "=====================================================================================\n",
      "                        coef    std err          z      P>|z|      [0.025      0.975]\n",
      "-------------------------------------------------------------------------------------\n",
      "amount of sleep     112.4381    3.2e+06   3.52e-05      1.000   -6.27e+06    6.27e+06\n",
      "physical activity   -88.0881    3.2e+06  -2.75e-05      1.000   -6.27e+06    6.27e+06\n",
      "water              -263.1780   1.06e+06     -0.000      1.000   -2.08e+06    2.08e+06\n",
      "1/2                -951.1628   1.06e+06     -0.001      0.999   -2.09e+06    2.08e+06\n",
      "2/3                   3.8598    196.124      0.020      0.984    -380.537     388.257\n",
      "3/4                   5.1829    210.222      0.025      0.980    -406.845     417.211\n",
      "4/5                   6.1544    122.395      0.050      0.960    -233.734     246.043\n",
      "=====================================================================================\n"
     ]
    }
   ],
   "source": [
    "from statsmodels.miscmodels.ordinal_model import OrderedModel\n",
    "import numpy as np\n",
    "np.seterr(divide='ignore', invalid='ignore')\n",
    "\n",
    "#print(data_diam)\n",
    "\n",
    "# generate logistic regression\n",
    "mod_prob = OrderedModel(data_diam['mood'],\n",
    "                        data_diam[['amount of sleep',  'physical activity', 'water']],\n",
    "                        distr='logit')\n",
    " \n",
    "res_log = mod_prob.fit(method='bfgs')\n",
    "print(res_log.summary())"
   ]
  },
  {
   "cell_type": "markdown",
   "metadata": {},
   "source": [
    "# check t value to p value"
   ]
  },
  {
   "cell_type": "code",
   "execution_count": 73,
   "metadata": {},
   "outputs": [
    {
     "name": "stdout",
     "output_type": "stream",
     "text": [
      "pred_row\n",
      "     0    1    2    3    4\n",
      "0  0.0  0.0  0.0  1.0  0.0\n",
      "1  0.0  0.0  0.0  0.0  1.0\n",
      "2  0.0  0.0  0.0  1.0  0.0\n",
      "3  1.0  0.0  0.0  0.0  0.0\n",
      "4  0.0  1.0  0.0  0.0  0.0\n",
      "5  0.0  0.0  1.0  0.0  0.0\n",
      "pred\n",
      "[3 4 3 0 1 2]\n",
      "real_value\n",
      "[4 5 4 1 2 3]\n",
      "tvalue\n",
      "1.1766968108291043\n",
      "pvalue\n",
      "0.2665662286967403\n"
     ]
    }
   ],
   "source": [
    "pred_row = res_log.predict(data_diam[['amount of sleep',  'physical activity', 'water']]).round(2)\n",
    "print(f'pred_row\\n{pred_row}')\n",
    "pred = np.where(pred_row == 1)[1]\n",
    "print(f'pred\\n{pred}')\n",
    "real_value = data_diam['mood'].to_numpy()\n",
    "print(f'real_value\\n{real_value}')\n",
    "# Independent t-test: https://www.pythonfordatascience.org/independent-samples-t-test-python/ \n",
    "from scipy.stats import ttest_ind\n",
    "# Calculate the T-test for the means of two independent samples of scores.\n",
    "(tvalue, pvalue) = ttest_ind(real_value, pred)\n",
    "print(f'tvalue\\n{tvalue}')\n",
    "print(f'pvalue\\n{pvalue}')"
   ]
  }
 ],
 "metadata": {
  "interpreter": {
   "hash": "8e78747238e939523e0ccabebcbcad03fef5307bc0952566b45b121ad126abc3"
  },
  "kernelspec": {
   "display_name": "Python 3.8.11 ('base')",
   "language": "python",
   "name": "python3"
  },
  "language_info": {
   "codemirror_mode": {
    "name": "ipython",
    "version": 3
   },
   "file_extension": ".py",
   "mimetype": "text/x-python",
   "name": "python",
   "nbconvert_exporter": "python",
   "pygments_lexer": "ipython3",
   "version": "3.8.11"
  },
  "orig_nbformat": 4
 },
 "nbformat": 4,
 "nbformat_minor": 2
}
