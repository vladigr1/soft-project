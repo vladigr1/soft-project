{
 "cells": [
  {
   "cell_type": "markdown",
   "metadata": {},
   "source": [
    "# Load files"
   ]
  },
  {
   "cell_type": "code",
   "execution_count": 32,
   "metadata": {},
   "outputs": [
    {
     "name": "stdout",
     "output_type": "stream",
     "text": [
      "  mood  amount of sleep  physical activity  cognative load  water  \\\n",
      "0    4                8                  5               2      2   \n",
      "1    5                6                  1               3      1   \n",
      "2    4                9                  4               2      2   \n",
      "3    1                8                  4               5      4   \n",
      "4    2                7                  1               3      4   \n",
      "5    3                8                  2               2      4   \n",
      "\n",
      "   quality of sleep  \n",
      "0                 5  \n",
      "1                 3  \n",
      "2                 4  \n",
      "3                 2  \n",
      "4                 2  \n",
      "5                 3  \n",
      "mood                 category\n",
      "amount of sleep         int64\n",
      "physical activity       int64\n",
      "cognative load          int64\n",
      "water                   int64\n",
      "quality of sleep        int64\n",
      "dtype: object\n"
     ]
    }
   ],
   "source": [
    "import pandas as pd\n",
    "import numpy as np\n",
    "data_diam = pd.read_csv('data.csv', dtype =  np.int64)\n",
    "\n",
    "\n",
    "from pandas.api.types import CategoricalDtype\n",
    "cat_type = CategoricalDtype(categories=[1, 2, 3, 4, 5], ordered=True)\n",
    "data_diam[\"mood\"] = data_diam[\"mood\"].astype(cat_type)\n",
    "print(data_diam)\n",
    "print(data_diam.dtypes)"
   ]
  },
  {
   "cell_type": "markdown",
   "metadata": {},
   "source": [
    "# Ordinal logistic regression"
   ]
  },
  {
   "cell_type": "code",
   "execution_count": 33,
   "metadata": {},
   "outputs": [
    {
     "name": "stdout",
     "output_type": "stream",
     "text": [
      "  mood  amount of sleep  physical activity  cognative load  water  \\\n",
      "0    4                8                  5               2      2   \n",
      "1    5                6                  1               3      1   \n",
      "2    4                9                  4               2      2   \n",
      "3    1                8                  4               5      4   \n",
      "4    2                7                  1               3      4   \n",
      "5    3                8                  2               2      4   \n",
      "\n",
      "   quality of sleep  \n",
      "0                 5  \n",
      "1                 3  \n",
      "2                 4  \n",
      "3                 2  \n",
      "4                 2  \n",
      "5                 3  \n",
      "Optimization terminated successfully.\n",
      "         Current function value: 0.000001\n",
      "         Iterations: 73\n",
      "         Function evaluations: 80\n",
      "         Gradient evaluations: 80\n"
     ]
    },
    {
     "data": {
      "text/html": [
       "<table class=\"simpletable\">\n",
       "<caption>OrderedModel Results</caption>\n",
       "<tr>\n",
       "  <th>Dep. Variable:</th>           <td>mood</td>        <th>  Log-Likelihood:    </th> <td>-3.1312e-06</td>\n",
       "</tr>\n",
       "<tr>\n",
       "  <th>Model:</th>               <td>OrderedModel</td>    <th>  AIC:               </th>  <td>   14.00</td>  \n",
       "</tr>\n",
       "<tr>\n",
       "  <th>Method:</th>           <td>Maximum Likelihood</td> <th>  BIC:               </th>  <td>   12.54</td>  \n",
       "</tr>\n",
       "<tr>\n",
       "  <th>Date:</th>              <td>Fri, 13 May 2022</td>  <th>                     </th>      <td> </td>     \n",
       "</tr>\n",
       "<tr>\n",
       "  <th>Time:</th>                  <td>15:58:31</td>      <th>                     </th>      <td> </td>     \n",
       "</tr>\n",
       "<tr>\n",
       "  <th>No. Observations:</th>       <td>     6</td>       <th>                     </th>      <td> </td>     \n",
       "</tr>\n",
       "<tr>\n",
       "  <th>Df Residuals:</th>           <td>    -1</td>       <th>                     </th>      <td> </td>     \n",
       "</tr>\n",
       "<tr>\n",
       "  <th>Df Model:</th>               <td>     7</td>       <th>                     </th>      <td> </td>     \n",
       "</tr>\n",
       "</table>\n",
       "<table class=\"simpletable\">\n",
       "<tr>\n",
       "          <td></td>             <th>coef</th>     <th>std err</th>      <th>z</th>      <th>P>|z|</th>  <th>[0.025</th>    <th>0.975]</th>  \n",
       "</tr>\n",
       "<tr>\n",
       "  <th>amount of sleep</th>   <td>   81.7722</td> <td> 5.32e+04</td> <td>    0.002</td> <td> 0.999</td> <td>-1.04e+05</td> <td> 1.04e+05</td>\n",
       "</tr>\n",
       "<tr>\n",
       "  <th>physical activity</th> <td>  -45.7290</td> <td> 4.94e+04</td> <td>   -0.001</td> <td> 0.999</td> <td>-9.69e+04</td> <td> 9.68e+04</td>\n",
       "</tr>\n",
       "<tr>\n",
       "  <th>water</th>             <td> -135.6062</td> <td> 1.86e+04</td> <td>   -0.007</td> <td> 0.994</td> <td>-3.65e+04</td> <td> 3.62e+04</td>\n",
       "</tr>\n",
       "<tr>\n",
       "  <th>1/2</th>               <td>  -31.6852</td> <td> 2.78e+05</td> <td>   -0.000</td> <td> 1.000</td> <td>-5.45e+05</td> <td> 5.45e+05</td>\n",
       "</tr>\n",
       "<tr>\n",
       "  <th>2/3</th>               <td>    3.6375</td> <td>  150.221</td> <td>    0.024</td> <td> 0.981</td> <td> -290.791</td> <td>  298.065</td>\n",
       "</tr>\n",
       "<tr>\n",
       "  <th>3/4</th>               <td>    3.5166</td> <td>  375.201</td> <td>    0.009</td> <td> 0.993</td> <td> -731.863</td> <td>  738.897</td>\n",
       "</tr>\n",
       "<tr>\n",
       "  <th>4/5</th>               <td>    5.5437</td> <td>  156.554</td> <td>    0.035</td> <td> 0.972</td> <td> -301.297</td> <td>  312.384</td>\n",
       "</tr>\n",
       "</table>"
      ],
      "text/plain": [
       "<class 'statsmodels.iolib.summary.Summary'>\n",
       "\"\"\"\n",
       "                             OrderedModel Results                             \n",
       "==============================================================================\n",
       "Dep. Variable:                   mood   Log-Likelihood:            -3.1312e-06\n",
       "Model:                   OrderedModel   AIC:                             14.00\n",
       "Method:            Maximum Likelihood   BIC:                             12.54\n",
       "Date:                Fri, 13 May 2022                                         \n",
       "Time:                        15:58:31                                         \n",
       "No. Observations:                   6                                         \n",
       "Df Residuals:                      -1                                         \n",
       "Df Model:                           7                                         \n",
       "=====================================================================================\n",
       "                        coef    std err          z      P>|z|      [0.025      0.975]\n",
       "-------------------------------------------------------------------------------------\n",
       "amount of sleep      81.7722   5.32e+04      0.002      0.999   -1.04e+05    1.04e+05\n",
       "physical activity   -45.7290   4.94e+04     -0.001      0.999   -9.69e+04    9.68e+04\n",
       "water              -135.6062   1.86e+04     -0.007      0.994   -3.65e+04    3.62e+04\n",
       "1/2                 -31.6852   2.78e+05     -0.000      1.000   -5.45e+05    5.45e+05\n",
       "2/3                   3.6375    150.221      0.024      0.981    -290.791     298.065\n",
       "3/4                   3.5166    375.201      0.009      0.993    -731.863     738.897\n",
       "4/5                   5.5437    156.554      0.035      0.972    -301.297     312.384\n",
       "=====================================================================================\n",
       "\"\"\""
      ]
     },
     "execution_count": 33,
     "metadata": {},
     "output_type": "execute_result"
    }
   ],
   "source": [
    "from statsmodels.miscmodels.ordinal_model import OrderedModel\n",
    "import numpy as np\n",
    "np.seterr(divide='ignore', invalid='ignore')\n",
    "\n",
    "print(data_diam)\n",
    "\n",
    "mod_prob = OrderedModel(data_diam['mood'],\n",
    "                        data_diam[['amount of sleep',  'physical activity', 'water']],\n",
    "                        distr='logit')\n",
    " \n",
    "res_log = mod_prob.fit(method='bfgs')\n",
    "res_log.summary()"
   ]
  }
 ],
 "metadata": {
  "interpreter": {
   "hash": "8e78747238e939523e0ccabebcbcad03fef5307bc0952566b45b121ad126abc3"
  },
  "kernelspec": {
   "display_name": "Python 3.8.11 ('base')",
   "language": "python",
   "name": "python3"
  },
  "language_info": {
   "codemirror_mode": {
    "name": "ipython",
    "version": 3
   },
   "file_extension": ".py",
   "mimetype": "text/x-python",
   "name": "python",
   "nbconvert_exporter": "python",
   "pygments_lexer": "ipython3",
   "version": "3.8.11"
  },
  "orig_nbformat": 4
 },
 "nbformat": 4,
 "nbformat_minor": 2
}
