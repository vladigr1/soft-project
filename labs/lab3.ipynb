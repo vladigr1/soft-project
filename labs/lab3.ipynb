{
 "cells": [
  {
   "cell_type": "markdown",
   "metadata": {},
   "source": [
    "# Lab3 - effect of days\n",
    "\n",
    "run steypwise on data\n",
    "\n"
   ]
  },
  {
   "cell_type": "code",
   "execution_count": 12,
   "metadata": {},
   "outputs": [
    {
     "name": "stdout",
     "output_type": "stream",
     "text": [
      "add-params: ['physical activity'], pvalue: 0.02745529540319398\n",
      "add-params: ['physical activity', 'mood'], pvalue: 0.014085889948620518\n",
      "['physical activity', 'mood']\n"
     ]
    }
   ],
   "source": [
    "import algorithms\n",
    "\n",
    "\n",
    "in_threshold = 0.03\n",
    "out_threshold = 0.02\n",
    "sderived = 'amount of sleep'\n",
    "data = algorithms.load_data('30days.csv', sderived)\n",
    "data_15_days = algorithms.load_data('15days.csv', sderived)\n",
    "\n",
    "lbasics = list(data.columns.values)\n",
    "lbasics.remove(sderived)\n",
    "\n",
    "# print(data_15_days)\n",
    "\n",
    "from algorithms import stepwise_regression\n",
    "(fit_model, param_in_model) = stepwise_regression(data_15_days, sderived, lbasics, in_threshold, out_threshold)\n",
    "print(param_in_model)\n"
   ]
  },
  {
   "cell_type": "markdown",
   "metadata": {},
   "source": [
    "# Result - analysis"
   ]
  },
  {
   "cell_type": "code",
   "execution_count": 30,
   "metadata": {},
   "outputs": [
    {
     "name": "stdout",
     "output_type": "stream",
     "text": [
      "14    3.0\n",
      "15    1.0\n",
      "16   -2.0\n",
      "17    4.0\n",
      "18    3.0\n",
      "19    2.0\n",
      "20    4.0\n",
      "21    5.0\n",
      "22   -3.0\n",
      "23    2.0\n",
      "24   -4.0\n",
      "25    3.0\n",
      "26   -2.0\n",
      "27   -4.0\n",
      "28    1.0\n",
      "29    4.0\n",
      "Name: mood, dtype: float64\n",
      "['physical activity', 'mood']\n",
      "   derived  pred  dist\n",
      "0        5     3     2\n",
      "1        4     1     3\n",
      "2        3     1     2\n",
      "3        5     3     2\n",
      "4        4     3     1\n",
      "accuracy: 27\n"
     ]
    }
   ],
   "source": [
    "import evaluation\n",
    "print(data['mood'][14:30])\n",
    "distance = evaluation.distance_vec(data[14:30], sderived, param_in_model, fit_model)\n",
    "print(param_in_model)\n",
    "print(distance[:][0:5])\n",
    "print(f'accuracy: {evaluation.accuracy(distance)}')"
   ]
  }
 ],
 "metadata": {
  "interpreter": {
   "hash": "8e78747238e939523e0ccabebcbcad03fef5307bc0952566b45b121ad126abc3"
  },
  "kernelspec": {
   "display_name": "Python 3.8.11 ('base')",
   "language": "python",
   "name": "python3"
  },
  "language_info": {
   "codemirror_mode": {
    "name": "ipython",
    "version": 3
   },
   "file_extension": ".py",
   "mimetype": "text/x-python",
   "name": "python",
   "nbconvert_exporter": "python",
   "pygments_lexer": "ipython3",
   "version": "3.8.11"
  },
  "orig_nbformat": 4
 },
 "nbformat": 4,
 "nbformat_minor": 2
}
