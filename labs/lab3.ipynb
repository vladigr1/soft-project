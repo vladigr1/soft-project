{
 "cells": [
  {
   "cell_type": "markdown",
   "metadata": {},
   "source": [
    "# Lab3 - effect of days\n",
    "\n",
    "run steypwise on data\n",
    "\n"
   ]
  },
  {
   "cell_type": "code",
   "execution_count": 1,
   "metadata": {},
   "outputs": [
    {
     "name": "stdout",
     "output_type": "stream",
     "text": [
      "param_in_model: ['quality of sleep', 'mood', 'physical activity', 'cognitive load', 'water']\n",
      "cur_pvalue: 0.12009624428271506\n",
      "accuracy: 17\n",
      "param_in_model: ['quality of sleep', 'mood', 'water', 'physical activity', 'cognitive load']\n",
      "cur_pvalue: 0.0857829879727628\n",
      "accuracy: 19\n",
      "param_in_model: ['water', 'quality of sleep', 'mood', 'physical activity', 'cognitive load']\n",
      "cur_pvalue: 0.018702784326489297\n",
      "accuracy: 17\n"
     ]
    }
   ],
   "source": [
    "import algorithms\n",
    "\n",
    "\n",
    "in_threshold = 0.3\n",
    "out_threshold = 0.05\n",
    "sderived = 'amount of sleep'\n",
    "data = algorithms.load_data('30days.csv', sderived)\n",
    "\n",
    "data_10_days = algorithms.load_data('10days.csv', sderived)\n",
    "data_15_days = algorithms.load_data('15days.csv', sderived)\n",
    "data_20_days = algorithms.load_data('20days.csv', sderived)\n",
    "\n",
    "lbasics = list(data.columns.values)\n",
    "lbasics.remove(sderived)\n",
    "\n",
    "# print(data_15_days)\n",
    "\n",
    "from algorithms import stepwise_regression\n",
    "import evaluation\n",
    "\n",
    "(fit_model, param_in_model, cur_pvalue) = stepwise_regression(data_10_days, sderived, lbasics, in_threshold, out_threshold)\n",
    "print(f'param_in_model: {param_in_model}')\n",
    "print(f'cur_pvalue: {cur_pvalue}')\n",
    "distance = evaluation.distance_vec(data[20:30], sderived, param_in_model, fit_model)\n",
    "print(f'accuracy: {evaluation.accuracy(distance)}')\n",
    "\n",
    "(fit_model, param_in_model, cur_pvalue) = stepwise_regression(data_15_days, sderived, lbasics, in_threshold, out_threshold)\n",
    "print(f'param_in_model: {param_in_model}')\n",
    "print(f'cur_pvalue: {cur_pvalue}')\n",
    "distance = evaluation.distance_vec(data[20:30], sderived, param_in_model, fit_model)\n",
    "print(f'accuracy: {evaluation.accuracy(distance)}')\n",
    "\n",
    "(fit_model, param_in_model, cur_pvalue) = stepwise_regression(data_20_days, sderived, lbasics, in_threshold, out_threshold)\n",
    "print(f'param_in_model: {param_in_model}')\n",
    "print(f'cur_pvalue: {cur_pvalue}')\n",
    "distance = evaluation.distance_vec(data[20:30], sderived, param_in_model, fit_model)\n",
    "print(f'accuracy: {evaluation.accuracy(distance)}')"
   ]
  },
  {
   "cell_type": "markdown",
   "metadata": {},
   "source": [
    "# Result - analysis"
   ]
  },
  {
   "cell_type": "code",
   "execution_count": 5,
   "metadata": {},
   "outputs": [
    {
     "name": "stdout",
     "output_type": "stream",
     "text": [
      "['water', 'quality of sleep', 'mood', 'physical activity', 'cognitive load']\n",
      "   derived  pred  dist\n",
      "0        5     3     2\n",
      "1        1     1     0\n",
      "2        5     3     2\n",
      "3        3     3     0\n",
      "4        4     4     0\n",
      "5        5     1     4\n",
      "6        5     3     2\n",
      "7        5     3     2\n",
      "8        5     3     2\n",
      "9        4     1     3\n",
      "accuracy: 17\n"
     ]
    }
   ],
   "source": [
    "import evaluation\n",
    "#print(data['mood'][14:30])\n",
    "distance = evaluation.distance_vec(data[20:30], sderived, param_in_model, fit_model)\n",
    "print(param_in_model)\n",
    "print(distance)\n",
    "print(f'accuracy: {evaluation.accuracy(distance)}')"
   ]
  }
 ],
 "metadata": {
  "interpreter": {
   "hash": "8e78747238e939523e0ccabebcbcad03fef5307bc0952566b45b121ad126abc3"
  },
  "kernelspec": {
   "display_name": "Python 3.8.11 ('base')",
   "language": "python",
   "name": "python3"
  },
  "language_info": {
   "codemirror_mode": {
    "name": "ipython",
    "version": 3
   },
   "file_extension": ".py",
   "mimetype": "text/x-python",
   "name": "python",
   "nbconvert_exporter": "python",
   "pygments_lexer": "ipython3",
   "version": "3.8.11"
  },
  "orig_nbformat": 4
 },
 "nbformat": 4,
 "nbformat_minor": 2
}
