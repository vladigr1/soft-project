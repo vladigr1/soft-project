{
 "cells": [
  {
   "cell_type": "markdown",
   "metadata": {},
   "source": [
    "# Lab 5 - derived param + diffrent people\n",
    "\n",
    "run steypwise on data\n",
    "\n"
   ]
  },
  {
   "cell_type": "markdown",
   "metadata": {},
   "source": [
    "## Vlad data"
   ]
  },
  {
   "cell_type": "code",
   "execution_count": 1,
   "metadata": {},
   "outputs": [
    {
     "name": "stdout",
     "output_type": "stream",
     "text": [
      "num days: 15\n",
      "param_in_model: ['quality of sleep']\n",
      "cur_pvalue: 0.3286878849452297\n",
      "['quality of sleep', '0/1', '1/2', '2/3', '3/4']\n",
      "[ 0.31 -1.98  0.29 -0.3   0.83]\n",
      "accuracy: 10\n"
     ]
    }
   ],
   "source": [
    "import algorithms\n",
    "from data_manipulation import filter, avg_filter\n",
    "from algorithms import stepwise_regression\n",
    "\n",
    "import warnings\n",
    "warnings.filterwarnings(\"ignore\") # ignore warning\n",
    "\n",
    "\n",
    "in_threshold = 0.3\n",
    "out_threshold = 0.05\n",
    "\n",
    "sderived = 'amount of sleep'\n",
    "data = algorithms.load_data('15days.csv', sderived)\n",
    "lbasics = list(data.columns.values)\n",
    "lbasics.remove(sderived)\n",
    "\n",
    "print(f'num days: {data.shape[0]}')\n",
    "\n",
    "(fit_model, param_in_model, cur_pvalue) = stepwise_regression(data, sderived, lbasics, in_threshold, out_threshold)\n",
    "print(f'param_in_model: {param_in_model}')\n",
    "print(f'cur_pvalue: {cur_pvalue}')\n",
    "\n",
    "# print(fit_model.summary())\n",
    "print(fit_model.model.exog_names)\n",
    "print(fit_model.params.values.round(2))\n",
    "\n",
    "import evaluation\n",
    "distance = evaluation.distance_vec(data, sderived, param_in_model, fit_model)\n",
    "print(f'accuracy: {evaluation.accuracy(distance)}')"
   ]
  },
  {
   "cell_type": "code",
   "execution_count": 2,
   "metadata": {},
   "outputs": [
    {
     "name": "stdout",
     "output_type": "stream",
     "text": [
      "num days: 15\n",
      "param_in_model: ['water', 'mood', 'cognitive load']\n",
      "cur_pvalue: 0.0347563459016164\n",
      "['water', 'mood', 'cognitive load', '0/1', '1/2', '2/3', '3/4']\n",
      "[-0.61  0.34 -0.06 -4.43 -0.17 -0.65 -0.21]\n",
      "accuracy: 11\n"
     ]
    }
   ],
   "source": [
    "import algorithms\n",
    "from data_manipulation import filter, avg_filter\n",
    "from algorithms import stepwise_regression\n",
    "\n",
    "\n",
    "in_threshold = 0.3\n",
    "out_threshold = 0.05\n",
    "\n",
    "sderived = 'quality of sleep'\n",
    "data = algorithms.load_data('15days.csv', sderived)\n",
    "lbasics = list(data.columns.values)\n",
    "lbasics.remove(sderived)\n",
    "\n",
    "print(f'num days: {data.shape[0]}')\n",
    "\n",
    "(fit_model, param_in_model, cur_pvalue) = stepwise_regression(data, sderived, lbasics, in_threshold, out_threshold)\n",
    "print(f'param_in_model: {param_in_model}')\n",
    "print(f'cur_pvalue: {cur_pvalue}')\n",
    "\n",
    "# print(fit_model.summary())\n",
    "print(fit_model.model.exog_names)\n",
    "print(fit_model.params.values.round(2))\n",
    "\n",
    "import evaluation\n",
    "distance = evaluation.distance_vec(data, sderived, param_in_model, fit_model)\n",
    "print(f'accuracy: {evaluation.accuracy(distance)}')"
   ]
  },
  {
   "cell_type": "markdown",
   "metadata": {},
   "source": [
    "# Mom Data"
   ]
  },
  {
   "cell_type": "code",
   "execution_count": 8,
   "metadata": {},
   "outputs": [
    {
     "name": "stdout",
     "output_type": "stream",
     "text": [
      "num days: 15\n",
      "param_in_model: ['quality of sleep', 'time socializing', 'mood', 'phiscal activity', 'cognative load']\n",
      "cur_pvalue: 0.008033881017805592\n",
      "['quality of sleep', 'time socializing', 'mood', 'phiscal activity', 'cognative load', '1/2', '2/3', '3/4', '4/5']\n",
      "[162.08  12.31 -28.54  20.65  17.7  443.18   3.19   5.1    5.66]\n",
      "accuracy: 16\n"
     ]
    }
   ],
   "source": [
    "import algorithms\n",
    "from data_manipulation import filter, avg_filter\n",
    "from algorithms import stepwise_regression\n",
    "\n",
    "\n",
    "in_threshold = 0.3\n",
    "out_threshold = 0.05\n",
    "\n",
    "sderived = 'amount of sleep'\n",
    "data = algorithms.load_data('mama.csv', sderived)\n",
    "lbasics = list(data.columns.values)\n",
    "lbasics.remove(sderived)\n",
    "\n",
    "print(f'num days: {data.shape[0]}')\n",
    "\n",
    "(fit_model, param_in_model, cur_pvalue) = stepwise_regression(data, sderived, lbasics, in_threshold, out_threshold)\n",
    "print(f'param_in_model: {param_in_model}')\n",
    "print(f'cur_pvalue: {cur_pvalue}')\n",
    "\n",
    "# print(fit_model.summary())\n",
    "print(fit_model.model.exog_names)\n",
    "print(fit_model.params.values.round(2))\n",
    "\n",
    "import evaluation\n",
    "distance = evaluation.distance_vec(data, sderived, param_in_model, fit_model)\n",
    "print(f'accuracy: {evaluation.accuracy(distance)}')"
   ]
  },
  {
   "cell_type": "code",
   "execution_count": 9,
   "metadata": {},
   "outputs": [
    {
     "ename": "Exception",
     "evalue": "can't category derived, not enough unique values.",
     "output_type": "error",
     "traceback": [
      "\u001b[1;31m---------------------------------------------------------------------------\u001b[0m",
      "\u001b[1;31mException\u001b[0m                                 Traceback (most recent call last)",
      "\u001b[1;32m~\\AppData\\Local\\Temp/ipykernel_1276/711325859.py\u001b[0m in \u001b[0;36m<module>\u001b[1;34m\u001b[0m\n\u001b[0;32m      8\u001b[0m \u001b[1;33m\u001b[0m\u001b[0m\n\u001b[0;32m      9\u001b[0m \u001b[0msderived\u001b[0m \u001b[1;33m=\u001b[0m \u001b[1;34m'quality of sleep'\u001b[0m\u001b[1;33m\u001b[0m\u001b[1;33m\u001b[0m\u001b[0m\n\u001b[1;32m---> 10\u001b[1;33m \u001b[0mdata\u001b[0m \u001b[1;33m=\u001b[0m \u001b[0malgorithms\u001b[0m\u001b[1;33m.\u001b[0m\u001b[0mload_data\u001b[0m\u001b[1;33m(\u001b[0m\u001b[1;34m'mama.csv'\u001b[0m\u001b[1;33m,\u001b[0m \u001b[0msderived\u001b[0m\u001b[1;33m)\u001b[0m\u001b[1;33m\u001b[0m\u001b[1;33m\u001b[0m\u001b[0m\n\u001b[0m\u001b[0;32m     11\u001b[0m \u001b[0mlbasics\u001b[0m \u001b[1;33m=\u001b[0m \u001b[0mlist\u001b[0m\u001b[1;33m(\u001b[0m\u001b[0mdata\u001b[0m\u001b[1;33m.\u001b[0m\u001b[0mcolumns\u001b[0m\u001b[1;33m.\u001b[0m\u001b[0mvalues\u001b[0m\u001b[1;33m)\u001b[0m\u001b[1;33m\u001b[0m\u001b[1;33m\u001b[0m\u001b[0m\n\u001b[0;32m     12\u001b[0m \u001b[0mlbasics\u001b[0m\u001b[1;33m.\u001b[0m\u001b[0mremove\u001b[0m\u001b[1;33m(\u001b[0m\u001b[0msderived\u001b[0m\u001b[1;33m)\u001b[0m\u001b[1;33m\u001b[0m\u001b[1;33m\u001b[0m\u001b[0m\n",
      "\u001b[1;32mc:\\Users\\do2vl\\Desktop\\soft-project\\soft-proj\\labs\\algorithms.py\u001b[0m in \u001b[0;36mload_data\u001b[1;34m(csv_path, sderived)\u001b[0m\n\u001b[0;32m     54\u001b[0m \u001b[1;32mdef\u001b[0m \u001b[0mload_data\u001b[0m\u001b[1;33m(\u001b[0m\u001b[0mcsv_path\u001b[0m\u001b[1;33m,\u001b[0m \u001b[0msderived\u001b[0m\u001b[1;33m)\u001b[0m\u001b[1;33m:\u001b[0m\u001b[1;33m\u001b[0m\u001b[1;33m\u001b[0m\u001b[0m\n\u001b[0;32m     55\u001b[0m     \u001b[0mdata_diam\u001b[0m \u001b[1;33m=\u001b[0m \u001b[0mpd\u001b[0m\u001b[1;33m.\u001b[0m\u001b[0mread_csv\u001b[0m\u001b[1;33m(\u001b[0m\u001b[0mcsv_path\u001b[0m\u001b[1;33m,\u001b[0m \u001b[0mdtype\u001b[0m \u001b[1;33m=\u001b[0m  \u001b[0mnp\u001b[0m\u001b[1;33m.\u001b[0m\u001b[0mdouble\u001b[0m\u001b[1;33m)\u001b[0m\u001b[1;33m\u001b[0m\u001b[1;33m\u001b[0m\u001b[0m\n\u001b[1;32m---> 56\u001b[1;33m     \u001b[0mcat_derivied\u001b[0m \u001b[1;33m=\u001b[0m \u001b[0mcategories_derived\u001b[0m\u001b[1;33m(\u001b[0m\u001b[0mdata_diam\u001b[0m\u001b[1;33m[\u001b[0m\u001b[0msderived\u001b[0m\u001b[1;33m]\u001b[0m\u001b[1;33m)\u001b[0m\u001b[1;33m\u001b[0m\u001b[1;33m\u001b[0m\u001b[0m\n\u001b[0m\u001b[0;32m     57\u001b[0m     \u001b[0mdata_diam\u001b[0m\u001b[1;33m[\u001b[0m\u001b[0msderived\u001b[0m\u001b[1;33m]\u001b[0m \u001b[1;33m=\u001b[0m \u001b[0mcat_derivied\u001b[0m\u001b[1;33m\u001b[0m\u001b[1;33m\u001b[0m\u001b[0m\n\u001b[0;32m     58\u001b[0m     \u001b[1;32mreturn\u001b[0m \u001b[0mdata_diam\u001b[0m\u001b[1;33m\u001b[0m\u001b[1;33m\u001b[0m\u001b[0m\n",
      "\u001b[1;32mc:\\Users\\do2vl\\Desktop\\soft-project\\soft-proj\\labs\\algorithms.py\u001b[0m in \u001b[0;36mcategories_derived\u001b[1;34m(pd_derivied)\u001b[0m\n\u001b[0;32m     38\u001b[0m \u001b[1;33m\u001b[0m\u001b[0m\n\u001b[0;32m     39\u001b[0m \u001b[1;32mdef\u001b[0m \u001b[0mcategories_derived\u001b[0m\u001b[1;33m(\u001b[0m\u001b[0mpd_derivied\u001b[0m\u001b[1;33m)\u001b[0m\u001b[1;33m:\u001b[0m\u001b[1;33m\u001b[0m\u001b[1;33m\u001b[0m\u001b[0m\n\u001b[1;32m---> 40\u001b[1;33m     \u001b[0mboundaries\u001b[0m \u001b[1;33m=\u001b[0m \u001b[0mgenerate_boundary\u001b[0m\u001b[1;33m(\u001b[0m\u001b[0mpd_derivied\u001b[0m\u001b[1;33m)\u001b[0m\u001b[1;33m\u001b[0m\u001b[1;33m\u001b[0m\u001b[0m\n\u001b[0m\u001b[0;32m     41\u001b[0m     \u001b[1;32mreturn\u001b[0m \u001b[0mcategories_derived_with_boundaries\u001b[0m\u001b[1;33m(\u001b[0m\u001b[0mpd_derivied\u001b[0m\u001b[1;33m,\u001b[0m \u001b[0mboundaries\u001b[0m\u001b[1;33m)\u001b[0m\u001b[1;33m\u001b[0m\u001b[1;33m\u001b[0m\u001b[0m\n\u001b[0;32m     42\u001b[0m \u001b[1;33m\u001b[0m\u001b[0m\n",
      "\u001b[1;32mc:\\Users\\do2vl\\Desktop\\soft-project\\soft-proj\\labs\\algorithms.py\u001b[0m in \u001b[0;36mgenerate_boundary\u001b[1;34m(pd_derivied)\u001b[0m\n\u001b[0;32m     14\u001b[0m     \u001b[0mderived\u001b[0m \u001b[1;33m=\u001b[0m \u001b[0mlist\u001b[0m\u001b[1;33m(\u001b[0m\u001b[0mset\u001b[0m\u001b[1;33m(\u001b[0m\u001b[0mpd_derivied\u001b[0m\u001b[1;33m.\u001b[0m\u001b[0mto_numpy\u001b[0m\u001b[1;33m(\u001b[0m\u001b[1;33m)\u001b[0m\u001b[1;33m)\u001b[0m\u001b[1;33m)\u001b[0m\u001b[1;33m\u001b[0m\u001b[1;33m\u001b[0m\u001b[0m\n\u001b[0;32m     15\u001b[0m     \u001b[1;32mif\u001b[0m  \u001b[0mlen\u001b[0m\u001b[1;33m(\u001b[0m\u001b[0mderived\u001b[0m\u001b[1;33m)\u001b[0m \u001b[1;33m<\u001b[0m \u001b[1;36m5\u001b[0m \u001b[1;33m:\u001b[0m\u001b[1;33m\u001b[0m\u001b[1;33m\u001b[0m\u001b[0m\n\u001b[1;32m---> 16\u001b[1;33m         \u001b[1;32mraise\u001b[0m \u001b[0mException\u001b[0m\u001b[1;33m(\u001b[0m\u001b[1;34m\"can't category derived, not enough unique values.\"\u001b[0m\u001b[1;33m)\u001b[0m\u001b[1;33m\u001b[0m\u001b[1;33m\u001b[0m\u001b[0m\n\u001b[0m\u001b[0;32m     17\u001b[0m     \u001b[0mderived\u001b[0m\u001b[1;33m.\u001b[0m\u001b[0msort\u001b[0m\u001b[1;33m(\u001b[0m\u001b[1;33m)\u001b[0m\u001b[1;33m\u001b[0m\u001b[1;33m\u001b[0m\u001b[0m\n\u001b[0;32m     18\u001b[0m     \u001b[0mstep\u001b[0m \u001b[1;33m=\u001b[0m \u001b[0mlen\u001b[0m\u001b[1;33m(\u001b[0m\u001b[0mderived\u001b[0m\u001b[1;33m)\u001b[0m\u001b[1;33m//\u001b[0m\u001b[1;36m5\u001b[0m \u001b[1;31m# 5 categories\u001b[0m\u001b[1;33m\u001b[0m\u001b[1;33m\u001b[0m\u001b[0m\n",
      "\u001b[1;31mException\u001b[0m: can't category derived, not enough unique values."
     ]
    }
   ],
   "source": [
    "import algorithms\n",
    "from data_manipulation import filter, avg_filter\n",
    "from algorithms import stepwise_regression\n",
    "\n",
    "\n",
    "in_threshold = 0.3\n",
    "out_threshold = 0.05\n",
    "\n",
    "sderived = 'quality of sleep'\n",
    "data = algorithms.load_data('mama.csv', sderived)\n",
    "lbasics = list(data.columns.values)\n",
    "lbasics.remove(sderived)\n",
    "\n",
    "print(f'num days: {data.shape[0]}')\n",
    "\n",
    "(fit_model, param_in_model, cur_pvalue) = stepwise_regression(data, sderived, lbasics, in_threshold, out_threshold)\n",
    "print(f'param_in_model: {param_in_model}')\n",
    "print(f'cur_pvalue: {cur_pvalue}')\n",
    "\n",
    "# print(fit_model.summary())\n",
    "print(fit_model.model.exog_names)\n",
    "print(fit_model.params.values.round(2))\n",
    "\n",
    "import evaluation\n",
    "distance = evaluation.distance_vec(data, sderived, param_in_model, fit_model)\n",
    "print(f'accuracy: {evaluation.accuracy(distance)}')"
   ]
  },
  {
   "cell_type": "markdown",
   "metadata": {},
   "source": [
    "## Grandma"
   ]
  },
  {
   "cell_type": "code",
   "execution_count": null,
   "metadata": {},
   "outputs": [
    {
     "ename": "Exception",
     "evalue": "can't category derived, not enough unique values.",
     "output_type": "error",
     "traceback": [
      "\u001b[1;31m---------------------------------------------------------------------------\u001b[0m",
      "\u001b[1;31mException\u001b[0m                                 Traceback (most recent call last)",
      "\u001b[1;32m~\\AppData\\Local\\Temp/ipykernel_14604/788590377.py\u001b[0m in \u001b[0;36m<module>\u001b[1;34m\u001b[0m\n\u001b[0;32m      8\u001b[0m \u001b[1;33m\u001b[0m\u001b[0m\n\u001b[0;32m      9\u001b[0m \u001b[0msderived\u001b[0m \u001b[1;33m=\u001b[0m \u001b[1;34m'amount of sleep'\u001b[0m\u001b[1;33m\u001b[0m\u001b[1;33m\u001b[0m\u001b[0m\n\u001b[1;32m---> 10\u001b[1;33m \u001b[0mdata\u001b[0m \u001b[1;33m=\u001b[0m \u001b[0malgorithms\u001b[0m\u001b[1;33m.\u001b[0m\u001b[0mload_data\u001b[0m\u001b[1;33m(\u001b[0m\u001b[1;34m'./grandma.csv'\u001b[0m\u001b[1;33m,\u001b[0m \u001b[0msderived\u001b[0m\u001b[1;33m)\u001b[0m\u001b[1;33m\u001b[0m\u001b[1;33m\u001b[0m\u001b[0m\n\u001b[0m\u001b[0;32m     11\u001b[0m \u001b[0mlbasics\u001b[0m \u001b[1;33m=\u001b[0m \u001b[0mlist\u001b[0m\u001b[1;33m(\u001b[0m\u001b[0mdata\u001b[0m\u001b[1;33m.\u001b[0m\u001b[0mcolumns\u001b[0m\u001b[1;33m.\u001b[0m\u001b[0mvalues\u001b[0m\u001b[1;33m)\u001b[0m\u001b[1;33m\u001b[0m\u001b[1;33m\u001b[0m\u001b[0m\n\u001b[0;32m     12\u001b[0m \u001b[0mlbasics\u001b[0m\u001b[1;33m.\u001b[0m\u001b[0mremove\u001b[0m\u001b[1;33m(\u001b[0m\u001b[0msderived\u001b[0m\u001b[1;33m)\u001b[0m\u001b[1;33m\u001b[0m\u001b[1;33m\u001b[0m\u001b[0m\n",
      "\u001b[1;32mc:\\Users\\do2vl\\Desktop\\soft-project\\soft-proj\\labs\\algorithms.py\u001b[0m in \u001b[0;36mload_data\u001b[1;34m(csv_path, sderived)\u001b[0m\n\u001b[0;32m     54\u001b[0m \u001b[1;32mdef\u001b[0m \u001b[0mload_data\u001b[0m\u001b[1;33m(\u001b[0m\u001b[0mcsv_path\u001b[0m\u001b[1;33m,\u001b[0m \u001b[0msderived\u001b[0m\u001b[1;33m)\u001b[0m\u001b[1;33m:\u001b[0m\u001b[1;33m\u001b[0m\u001b[1;33m\u001b[0m\u001b[0m\n\u001b[0;32m     55\u001b[0m     \u001b[0mdata_diam\u001b[0m \u001b[1;33m=\u001b[0m \u001b[0mpd\u001b[0m\u001b[1;33m.\u001b[0m\u001b[0mread_csv\u001b[0m\u001b[1;33m(\u001b[0m\u001b[0mcsv_path\u001b[0m\u001b[1;33m,\u001b[0m \u001b[0mdtype\u001b[0m \u001b[1;33m=\u001b[0m  \u001b[0mnp\u001b[0m\u001b[1;33m.\u001b[0m\u001b[0mdouble\u001b[0m\u001b[1;33m)\u001b[0m\u001b[1;33m\u001b[0m\u001b[1;33m\u001b[0m\u001b[0m\n\u001b[1;32m---> 56\u001b[1;33m     \u001b[0mcat_derivied\u001b[0m \u001b[1;33m=\u001b[0m \u001b[0mcategories_derived\u001b[0m\u001b[1;33m(\u001b[0m\u001b[0mdata_diam\u001b[0m\u001b[1;33m[\u001b[0m\u001b[0msderived\u001b[0m\u001b[1;33m]\u001b[0m\u001b[1;33m)\u001b[0m\u001b[1;33m\u001b[0m\u001b[1;33m\u001b[0m\u001b[0m\n\u001b[0m\u001b[0;32m     57\u001b[0m     \u001b[0mdata_diam\u001b[0m\u001b[1;33m[\u001b[0m\u001b[0msderived\u001b[0m\u001b[1;33m]\u001b[0m \u001b[1;33m=\u001b[0m \u001b[0mcat_derivied\u001b[0m\u001b[1;33m\u001b[0m\u001b[1;33m\u001b[0m\u001b[0m\n\u001b[0;32m     58\u001b[0m     \u001b[1;32mreturn\u001b[0m \u001b[0mdata_diam\u001b[0m\u001b[1;33m\u001b[0m\u001b[1;33m\u001b[0m\u001b[0m\n",
      "\u001b[1;32mc:\\Users\\do2vl\\Desktop\\soft-project\\soft-proj\\labs\\algorithms.py\u001b[0m in \u001b[0;36mcategories_derived\u001b[1;34m(pd_derivied)\u001b[0m\n\u001b[0;32m     38\u001b[0m \u001b[1;33m\u001b[0m\u001b[0m\n\u001b[0;32m     39\u001b[0m \u001b[1;32mdef\u001b[0m \u001b[0mcategories_derived\u001b[0m\u001b[1;33m(\u001b[0m\u001b[0mpd_derivied\u001b[0m\u001b[1;33m)\u001b[0m\u001b[1;33m:\u001b[0m\u001b[1;33m\u001b[0m\u001b[1;33m\u001b[0m\u001b[0m\n\u001b[1;32m---> 40\u001b[1;33m     \u001b[0mboundaries\u001b[0m \u001b[1;33m=\u001b[0m \u001b[0mgenerate_boundary\u001b[0m\u001b[1;33m(\u001b[0m\u001b[0mpd_derivied\u001b[0m\u001b[1;33m)\u001b[0m\u001b[1;33m\u001b[0m\u001b[1;33m\u001b[0m\u001b[0m\n\u001b[0m\u001b[0;32m     41\u001b[0m     \u001b[1;32mreturn\u001b[0m \u001b[0mcategories_derived_with_boundaries\u001b[0m\u001b[1;33m(\u001b[0m\u001b[0mpd_derivied\u001b[0m\u001b[1;33m,\u001b[0m \u001b[0mboundaries\u001b[0m\u001b[1;33m)\u001b[0m\u001b[1;33m\u001b[0m\u001b[1;33m\u001b[0m\u001b[0m\n\u001b[0;32m     42\u001b[0m \u001b[1;33m\u001b[0m\u001b[0m\n",
      "\u001b[1;32mc:\\Users\\do2vl\\Desktop\\soft-project\\soft-proj\\labs\\algorithms.py\u001b[0m in \u001b[0;36mgenerate_boundary\u001b[1;34m(pd_derivied)\u001b[0m\n\u001b[0;32m     14\u001b[0m     \u001b[0mderived\u001b[0m \u001b[1;33m=\u001b[0m \u001b[0mlist\u001b[0m\u001b[1;33m(\u001b[0m\u001b[0mset\u001b[0m\u001b[1;33m(\u001b[0m\u001b[0mpd_derivied\u001b[0m\u001b[1;33m.\u001b[0m\u001b[0mto_numpy\u001b[0m\u001b[1;33m(\u001b[0m\u001b[1;33m)\u001b[0m\u001b[1;33m)\u001b[0m\u001b[1;33m)\u001b[0m\u001b[1;33m\u001b[0m\u001b[1;33m\u001b[0m\u001b[0m\n\u001b[0;32m     15\u001b[0m     \u001b[1;32mif\u001b[0m  \u001b[0mlen\u001b[0m\u001b[1;33m(\u001b[0m\u001b[0mderived\u001b[0m\u001b[1;33m)\u001b[0m \u001b[1;33m<\u001b[0m \u001b[1;36m5\u001b[0m \u001b[1;33m:\u001b[0m\u001b[1;33m\u001b[0m\u001b[1;33m\u001b[0m\u001b[0m\n\u001b[1;32m---> 16\u001b[1;33m         \u001b[1;32mraise\u001b[0m \u001b[0mException\u001b[0m\u001b[1;33m(\u001b[0m\u001b[1;34m\"can't category derived, not enough unique values.\"\u001b[0m\u001b[1;33m)\u001b[0m\u001b[1;33m\u001b[0m\u001b[1;33m\u001b[0m\u001b[0m\n\u001b[0m\u001b[0;32m     17\u001b[0m     \u001b[0mderived\u001b[0m\u001b[1;33m.\u001b[0m\u001b[0msort\u001b[0m\u001b[1;33m(\u001b[0m\u001b[1;33m)\u001b[0m\u001b[1;33m\u001b[0m\u001b[1;33m\u001b[0m\u001b[0m\n\u001b[0;32m     18\u001b[0m     \u001b[0mstep\u001b[0m \u001b[1;33m=\u001b[0m \u001b[0mlen\u001b[0m\u001b[1;33m(\u001b[0m\u001b[0mderived\u001b[0m\u001b[1;33m)\u001b[0m\u001b[1;33m//\u001b[0m\u001b[1;36m5\u001b[0m \u001b[1;31m# 5 categories\u001b[0m\u001b[1;33m\u001b[0m\u001b[1;33m\u001b[0m\u001b[0m\n",
      "\u001b[1;31mException\u001b[0m: can't category derived, not enough unique values."
     ]
    }
   ],
   "source": [
    "import algorithms\n",
    "from data_manipulation import filter, avg_filter\n",
    "from algorithms import stepwise_regression\n",
    "\n",
    "\n",
    "in_threshold = 0.3\n",
    "out_threshold = 0.05\n",
    "\n",
    "sderived = 'amount of sleep'\n",
    "data = algorithms.load_data('./grandma.csv', sderived)\n",
    "lbasics = list(data.columns.values)\n",
    "lbasics.remove(sderived)\n",
    "\n",
    "print(f'num days: {data.shape[0]}')\n",
    "\n",
    "(fit_model, param_in_model, cur_pvalue) = stepwise_regression(data, sderived, lbasics, in_threshold, out_threshold)\n",
    "print(f'param_in_model: {param_in_model}')\n",
    "print(f'cur_pvalue: {cur_pvalue}')\n",
    "\n",
    "# print(fit_model.summary())\n",
    "print(fit_model.model.exog_names)\n",
    "print(fit_model.params.values.round(2))\n",
    "\n",
    "import evaluation\n",
    "distance = evaluation.distance_vec(data, sderived, param_in_model, fit_model)\n",
    "print(f'accuracy: {evaluation.accuracy(distance)}')"
   ]
  },
  {
   "cell_type": "code",
   "execution_count": null,
   "metadata": {},
   "outputs": [
    {
     "ename": "Exception",
     "evalue": "can't category derived, not enough unique values.",
     "output_type": "error",
     "traceback": [
      "\u001b[1;31m---------------------------------------------------------------------------\u001b[0m",
      "\u001b[1;31mException\u001b[0m                                 Traceback (most recent call last)",
      "\u001b[1;32m~\\AppData\\Local\\Temp/ipykernel_14604/2779007161.py\u001b[0m in \u001b[0;36m<module>\u001b[1;34m\u001b[0m\n\u001b[0;32m      8\u001b[0m \u001b[1;33m\u001b[0m\u001b[0m\n\u001b[0;32m      9\u001b[0m \u001b[0msderived\u001b[0m \u001b[1;33m=\u001b[0m \u001b[1;34m'quality of sleep'\u001b[0m\u001b[1;33m\u001b[0m\u001b[1;33m\u001b[0m\u001b[0m\n\u001b[1;32m---> 10\u001b[1;33m \u001b[0mdata\u001b[0m \u001b[1;33m=\u001b[0m \u001b[0malgorithms\u001b[0m\u001b[1;33m.\u001b[0m\u001b[0mload_data\u001b[0m\u001b[1;33m(\u001b[0m\u001b[1;34m'./grandma.csv'\u001b[0m\u001b[1;33m,\u001b[0m \u001b[0msderived\u001b[0m\u001b[1;33m)\u001b[0m\u001b[1;33m\u001b[0m\u001b[1;33m\u001b[0m\u001b[0m\n\u001b[0m\u001b[0;32m     11\u001b[0m \u001b[0mlbasics\u001b[0m \u001b[1;33m=\u001b[0m \u001b[0mlist\u001b[0m\u001b[1;33m(\u001b[0m\u001b[0mdata\u001b[0m\u001b[1;33m.\u001b[0m\u001b[0mcolumns\u001b[0m\u001b[1;33m.\u001b[0m\u001b[0mvalues\u001b[0m\u001b[1;33m)\u001b[0m\u001b[1;33m\u001b[0m\u001b[1;33m\u001b[0m\u001b[0m\n\u001b[0;32m     12\u001b[0m \u001b[0mlbasics\u001b[0m\u001b[1;33m.\u001b[0m\u001b[0mremove\u001b[0m\u001b[1;33m(\u001b[0m\u001b[0msderived\u001b[0m\u001b[1;33m)\u001b[0m\u001b[1;33m\u001b[0m\u001b[1;33m\u001b[0m\u001b[0m\n",
      "\u001b[1;32mc:\\Users\\do2vl\\Desktop\\soft-project\\soft-proj\\labs\\algorithms.py\u001b[0m in \u001b[0;36mload_data\u001b[1;34m(csv_path, sderived)\u001b[0m\n\u001b[0;32m     54\u001b[0m \u001b[1;32mdef\u001b[0m \u001b[0mload_data\u001b[0m\u001b[1;33m(\u001b[0m\u001b[0mcsv_path\u001b[0m\u001b[1;33m,\u001b[0m \u001b[0msderived\u001b[0m\u001b[1;33m)\u001b[0m\u001b[1;33m:\u001b[0m\u001b[1;33m\u001b[0m\u001b[1;33m\u001b[0m\u001b[0m\n\u001b[0;32m     55\u001b[0m     \u001b[0mdata_diam\u001b[0m \u001b[1;33m=\u001b[0m \u001b[0mpd\u001b[0m\u001b[1;33m.\u001b[0m\u001b[0mread_csv\u001b[0m\u001b[1;33m(\u001b[0m\u001b[0mcsv_path\u001b[0m\u001b[1;33m,\u001b[0m \u001b[0mdtype\u001b[0m \u001b[1;33m=\u001b[0m  \u001b[0mnp\u001b[0m\u001b[1;33m.\u001b[0m\u001b[0mdouble\u001b[0m\u001b[1;33m)\u001b[0m\u001b[1;33m\u001b[0m\u001b[1;33m\u001b[0m\u001b[0m\n\u001b[1;32m---> 56\u001b[1;33m     \u001b[0mcat_derivied\u001b[0m \u001b[1;33m=\u001b[0m \u001b[0mcategories_derived\u001b[0m\u001b[1;33m(\u001b[0m\u001b[0mdata_diam\u001b[0m\u001b[1;33m[\u001b[0m\u001b[0msderived\u001b[0m\u001b[1;33m]\u001b[0m\u001b[1;33m)\u001b[0m\u001b[1;33m\u001b[0m\u001b[1;33m\u001b[0m\u001b[0m\n\u001b[0m\u001b[0;32m     57\u001b[0m     \u001b[0mdata_diam\u001b[0m\u001b[1;33m[\u001b[0m\u001b[0msderived\u001b[0m\u001b[1;33m]\u001b[0m \u001b[1;33m=\u001b[0m \u001b[0mcat_derivied\u001b[0m\u001b[1;33m\u001b[0m\u001b[1;33m\u001b[0m\u001b[0m\n\u001b[0;32m     58\u001b[0m     \u001b[1;32mreturn\u001b[0m \u001b[0mdata_diam\u001b[0m\u001b[1;33m\u001b[0m\u001b[1;33m\u001b[0m\u001b[0m\n",
      "\u001b[1;32mc:\\Users\\do2vl\\Desktop\\soft-project\\soft-proj\\labs\\algorithms.py\u001b[0m in \u001b[0;36mcategories_derived\u001b[1;34m(pd_derivied)\u001b[0m\n\u001b[0;32m     38\u001b[0m \u001b[1;33m\u001b[0m\u001b[0m\n\u001b[0;32m     39\u001b[0m \u001b[1;32mdef\u001b[0m \u001b[0mcategories_derived\u001b[0m\u001b[1;33m(\u001b[0m\u001b[0mpd_derivied\u001b[0m\u001b[1;33m)\u001b[0m\u001b[1;33m:\u001b[0m\u001b[1;33m\u001b[0m\u001b[1;33m\u001b[0m\u001b[0m\n\u001b[1;32m---> 40\u001b[1;33m     \u001b[0mboundaries\u001b[0m \u001b[1;33m=\u001b[0m \u001b[0mgenerate_boundary\u001b[0m\u001b[1;33m(\u001b[0m\u001b[0mpd_derivied\u001b[0m\u001b[1;33m)\u001b[0m\u001b[1;33m\u001b[0m\u001b[1;33m\u001b[0m\u001b[0m\n\u001b[0m\u001b[0;32m     41\u001b[0m     \u001b[1;32mreturn\u001b[0m \u001b[0mcategories_derived_with_boundaries\u001b[0m\u001b[1;33m(\u001b[0m\u001b[0mpd_derivied\u001b[0m\u001b[1;33m,\u001b[0m \u001b[0mboundaries\u001b[0m\u001b[1;33m)\u001b[0m\u001b[1;33m\u001b[0m\u001b[1;33m\u001b[0m\u001b[0m\n\u001b[0;32m     42\u001b[0m \u001b[1;33m\u001b[0m\u001b[0m\n",
      "\u001b[1;32mc:\\Users\\do2vl\\Desktop\\soft-project\\soft-proj\\labs\\algorithms.py\u001b[0m in \u001b[0;36mgenerate_boundary\u001b[1;34m(pd_derivied)\u001b[0m\n\u001b[0;32m     14\u001b[0m     \u001b[0mderived\u001b[0m \u001b[1;33m=\u001b[0m \u001b[0mlist\u001b[0m\u001b[1;33m(\u001b[0m\u001b[0mset\u001b[0m\u001b[1;33m(\u001b[0m\u001b[0mpd_derivied\u001b[0m\u001b[1;33m.\u001b[0m\u001b[0mto_numpy\u001b[0m\u001b[1;33m(\u001b[0m\u001b[1;33m)\u001b[0m\u001b[1;33m)\u001b[0m\u001b[1;33m)\u001b[0m\u001b[1;33m\u001b[0m\u001b[1;33m\u001b[0m\u001b[0m\n\u001b[0;32m     15\u001b[0m     \u001b[1;32mif\u001b[0m  \u001b[0mlen\u001b[0m\u001b[1;33m(\u001b[0m\u001b[0mderived\u001b[0m\u001b[1;33m)\u001b[0m \u001b[1;33m<\u001b[0m \u001b[1;36m5\u001b[0m \u001b[1;33m:\u001b[0m\u001b[1;33m\u001b[0m\u001b[1;33m\u001b[0m\u001b[0m\n\u001b[1;32m---> 16\u001b[1;33m         \u001b[1;32mraise\u001b[0m \u001b[0mException\u001b[0m\u001b[1;33m(\u001b[0m\u001b[1;34m\"can't category derived, not enough unique values.\"\u001b[0m\u001b[1;33m)\u001b[0m\u001b[1;33m\u001b[0m\u001b[1;33m\u001b[0m\u001b[0m\n\u001b[0m\u001b[0;32m     17\u001b[0m     \u001b[0mderived\u001b[0m\u001b[1;33m.\u001b[0m\u001b[0msort\u001b[0m\u001b[1;33m(\u001b[0m\u001b[1;33m)\u001b[0m\u001b[1;33m\u001b[0m\u001b[1;33m\u001b[0m\u001b[0m\n\u001b[0;32m     18\u001b[0m     \u001b[0mstep\u001b[0m \u001b[1;33m=\u001b[0m \u001b[0mlen\u001b[0m\u001b[1;33m(\u001b[0m\u001b[0mderived\u001b[0m\u001b[1;33m)\u001b[0m\u001b[1;33m//\u001b[0m\u001b[1;36m5\u001b[0m \u001b[1;31m# 5 categories\u001b[0m\u001b[1;33m\u001b[0m\u001b[1;33m\u001b[0m\u001b[0m\n",
      "\u001b[1;31mException\u001b[0m: can't category derived, not enough unique values."
     ]
    }
   ],
   "source": [
    "import algorithms\n",
    "from data_manipulation import filter, avg_filter\n",
    "from algorithms import stepwise_regression\n",
    "\n",
    "\n",
    "in_threshold = 0.3\n",
    "out_threshold = 0.05\n",
    "\n",
    "sderived = 'quality of sleep'\n",
    "data = algorithms.load_data('./grandma.csv', sderived)\n",
    "lbasics = list(data.columns.values)\n",
    "lbasics.remove(sderived)\n",
    "\n",
    "print(f'num days: {data.shape[0]}')\n",
    "\n",
    "(fit_model, param_in_model, cur_pvalue) = stepwise_regression(data, sderived, lbasics, in_threshold, out_threshold)\n",
    "print(f'param_in_model: {param_in_model}')\n",
    "print(f'cur_pvalue: {cur_pvalue}')\n",
    "\n",
    "# print(fit_model.summary())\n",
    "print(fit_model.model.exog_names)\n",
    "print(fit_model.params.values.round(2))\n",
    "\n",
    "import evaluation\n",
    "distance = evaluation.distance_vec(data, sderived, param_in_model, fit_model)\n",
    "print(f'accuracy: {evaluation.accuracy(distance)}')"
   ]
  },
  {
   "cell_type": "markdown",
   "metadata": {},
   "source": [
    "## Roman"
   ]
  },
  {
   "cell_type": "code",
   "execution_count": 10,
   "metadata": {},
   "outputs": [
    {
     "name": "stdout",
     "output_type": "stream",
     "text": [
      "num days: 12\n",
      "param_in_model: ['quality of sleep', 'qualitiy of sleep', 'time socializing', 'mood', 'phiscal activity', 'cognative load', 'water']\n",
      "cur_pvalue: 0.04300469264170288\n",
      "['quality of sleep', 'qualitiy of sleep', 'time socializing', 'mood', 'phiscal activity', 'cognative load', 'water', '1/2', '2/3', '3/4', '4/5']\n",
      "[  95.86  -38.2   143.56   47.68  239.56 -167.46  216.19  122.56    5.29\n",
      "    4.71    4.44]\n",
      "accuracy: 13\n"
     ]
    }
   ],
   "source": [
    "import algorithms\n",
    "from data_manipulation import filter, avg_filter\n",
    "from algorithms import stepwise_regression\n",
    "\n",
    "\n",
    "in_threshold = 0.3\n",
    "out_threshold = 0.05\n",
    "\n",
    "sderived = 'amount of sleep'\n",
    "data = algorithms.load_data('./Roman.csv', sderived)\n",
    "lbasics = list(data.columns.values)\n",
    "lbasics.remove(sderived)\n",
    "\n",
    "print(f'num days: {data.shape[0]}')\n",
    "\n",
    "(fit_model, param_in_model, cur_pvalue) = stepwise_regression(data, sderived, lbasics, in_threshold, out_threshold)\n",
    "print(f'param_in_model: {param_in_model}')\n",
    "print(f'cur_pvalue: {cur_pvalue}')\n",
    "\n",
    "# print(fit_model.summary())\n",
    "print(fit_model.model.exog_names)\n",
    "print(fit_model.params.values.round(2))\n",
    "\n",
    "import evaluation\n",
    "distance = evaluation.distance_vec(data, sderived, param_in_model, fit_model)\n",
    "print(f'accuracy: {evaluation.accuracy(distance)}')"
   ]
  },
  {
   "cell_type": "code",
   "execution_count": 13,
   "metadata": {},
   "outputs": [
    {
     "ename": "Exception",
     "evalue": "can't category derived, not enough unique values.",
     "output_type": "error",
     "traceback": [
      "\u001b[1;31m---------------------------------------------------------------------------\u001b[0m",
      "\u001b[1;31mException\u001b[0m                                 Traceback (most recent call last)",
      "\u001b[1;32m~\\AppData\\Local\\Temp/ipykernel_1276/3112078036.py\u001b[0m in \u001b[0;36m<module>\u001b[1;34m\u001b[0m\n\u001b[0;32m      8\u001b[0m \u001b[1;33m\u001b[0m\u001b[0m\n\u001b[0;32m      9\u001b[0m \u001b[0msderived\u001b[0m \u001b[1;33m=\u001b[0m \u001b[1;34m'quality of sleep'\u001b[0m\u001b[1;33m\u001b[0m\u001b[1;33m\u001b[0m\u001b[0m\n\u001b[1;32m---> 10\u001b[1;33m \u001b[0mdata\u001b[0m \u001b[1;33m=\u001b[0m \u001b[0malgorithms\u001b[0m\u001b[1;33m.\u001b[0m\u001b[0mload_data\u001b[0m\u001b[1;33m(\u001b[0m\u001b[1;34m'./Roman.csv'\u001b[0m\u001b[1;33m,\u001b[0m \u001b[0msderived\u001b[0m\u001b[1;33m)\u001b[0m\u001b[1;33m\u001b[0m\u001b[1;33m\u001b[0m\u001b[0m\n\u001b[0m\u001b[0;32m     11\u001b[0m \u001b[0mlbasics\u001b[0m \u001b[1;33m=\u001b[0m \u001b[0mlist\u001b[0m\u001b[1;33m(\u001b[0m\u001b[0mdata\u001b[0m\u001b[1;33m.\u001b[0m\u001b[0mcolumns\u001b[0m\u001b[1;33m.\u001b[0m\u001b[0mvalues\u001b[0m\u001b[1;33m)\u001b[0m\u001b[1;33m\u001b[0m\u001b[1;33m\u001b[0m\u001b[0m\n\u001b[0;32m     12\u001b[0m \u001b[0mlbasics\u001b[0m\u001b[1;33m.\u001b[0m\u001b[0mremove\u001b[0m\u001b[1;33m(\u001b[0m\u001b[0msderived\u001b[0m\u001b[1;33m)\u001b[0m\u001b[1;33m\u001b[0m\u001b[1;33m\u001b[0m\u001b[0m\n",
      "\u001b[1;32mc:\\Users\\do2vl\\Desktop\\soft-project\\soft-proj\\labs\\algorithms.py\u001b[0m in \u001b[0;36mload_data\u001b[1;34m(csv_path, sderived)\u001b[0m\n\u001b[0;32m     54\u001b[0m \u001b[1;32mdef\u001b[0m \u001b[0mload_data\u001b[0m\u001b[1;33m(\u001b[0m\u001b[0mcsv_path\u001b[0m\u001b[1;33m,\u001b[0m \u001b[0msderived\u001b[0m\u001b[1;33m)\u001b[0m\u001b[1;33m:\u001b[0m\u001b[1;33m\u001b[0m\u001b[1;33m\u001b[0m\u001b[0m\n\u001b[0;32m     55\u001b[0m     \u001b[0mdata_diam\u001b[0m \u001b[1;33m=\u001b[0m \u001b[0mpd\u001b[0m\u001b[1;33m.\u001b[0m\u001b[0mread_csv\u001b[0m\u001b[1;33m(\u001b[0m\u001b[0mcsv_path\u001b[0m\u001b[1;33m,\u001b[0m \u001b[0mdtype\u001b[0m \u001b[1;33m=\u001b[0m  \u001b[0mnp\u001b[0m\u001b[1;33m.\u001b[0m\u001b[0mdouble\u001b[0m\u001b[1;33m)\u001b[0m\u001b[1;33m\u001b[0m\u001b[1;33m\u001b[0m\u001b[0m\n\u001b[1;32m---> 56\u001b[1;33m     \u001b[0mcat_derivied\u001b[0m \u001b[1;33m=\u001b[0m \u001b[0mcategories_derived\u001b[0m\u001b[1;33m(\u001b[0m\u001b[0mdata_diam\u001b[0m\u001b[1;33m[\u001b[0m\u001b[0msderived\u001b[0m\u001b[1;33m]\u001b[0m\u001b[1;33m)\u001b[0m\u001b[1;33m\u001b[0m\u001b[1;33m\u001b[0m\u001b[0m\n\u001b[0m\u001b[0;32m     57\u001b[0m     \u001b[0mdata_diam\u001b[0m\u001b[1;33m[\u001b[0m\u001b[0msderived\u001b[0m\u001b[1;33m]\u001b[0m \u001b[1;33m=\u001b[0m \u001b[0mcat_derivied\u001b[0m\u001b[1;33m\u001b[0m\u001b[1;33m\u001b[0m\u001b[0m\n\u001b[0;32m     58\u001b[0m     \u001b[1;32mreturn\u001b[0m \u001b[0mdata_diam\u001b[0m\u001b[1;33m\u001b[0m\u001b[1;33m\u001b[0m\u001b[0m\n",
      "\u001b[1;32mc:\\Users\\do2vl\\Desktop\\soft-project\\soft-proj\\labs\\algorithms.py\u001b[0m in \u001b[0;36mcategories_derived\u001b[1;34m(pd_derivied)\u001b[0m\n\u001b[0;32m     38\u001b[0m \u001b[1;33m\u001b[0m\u001b[0m\n\u001b[0;32m     39\u001b[0m \u001b[1;32mdef\u001b[0m \u001b[0mcategories_derived\u001b[0m\u001b[1;33m(\u001b[0m\u001b[0mpd_derivied\u001b[0m\u001b[1;33m)\u001b[0m\u001b[1;33m:\u001b[0m\u001b[1;33m\u001b[0m\u001b[1;33m\u001b[0m\u001b[0m\n\u001b[1;32m---> 40\u001b[1;33m     \u001b[0mboundaries\u001b[0m \u001b[1;33m=\u001b[0m \u001b[0mgenerate_boundary\u001b[0m\u001b[1;33m(\u001b[0m\u001b[0mpd_derivied\u001b[0m\u001b[1;33m)\u001b[0m\u001b[1;33m\u001b[0m\u001b[1;33m\u001b[0m\u001b[0m\n\u001b[0m\u001b[0;32m     41\u001b[0m     \u001b[1;32mreturn\u001b[0m \u001b[0mcategories_derived_with_boundaries\u001b[0m\u001b[1;33m(\u001b[0m\u001b[0mpd_derivied\u001b[0m\u001b[1;33m,\u001b[0m \u001b[0mboundaries\u001b[0m\u001b[1;33m)\u001b[0m\u001b[1;33m\u001b[0m\u001b[1;33m\u001b[0m\u001b[0m\n\u001b[0;32m     42\u001b[0m \u001b[1;33m\u001b[0m\u001b[0m\n",
      "\u001b[1;32mc:\\Users\\do2vl\\Desktop\\soft-project\\soft-proj\\labs\\algorithms.py\u001b[0m in \u001b[0;36mgenerate_boundary\u001b[1;34m(pd_derivied)\u001b[0m\n\u001b[0;32m     14\u001b[0m     \u001b[0mderived\u001b[0m \u001b[1;33m=\u001b[0m \u001b[0mlist\u001b[0m\u001b[1;33m(\u001b[0m\u001b[0mset\u001b[0m\u001b[1;33m(\u001b[0m\u001b[0mpd_derivied\u001b[0m\u001b[1;33m.\u001b[0m\u001b[0mto_numpy\u001b[0m\u001b[1;33m(\u001b[0m\u001b[1;33m)\u001b[0m\u001b[1;33m)\u001b[0m\u001b[1;33m)\u001b[0m\u001b[1;33m\u001b[0m\u001b[1;33m\u001b[0m\u001b[0m\n\u001b[0;32m     15\u001b[0m     \u001b[1;32mif\u001b[0m  \u001b[0mlen\u001b[0m\u001b[1;33m(\u001b[0m\u001b[0mderived\u001b[0m\u001b[1;33m)\u001b[0m \u001b[1;33m<\u001b[0m \u001b[1;36m5\u001b[0m \u001b[1;33m:\u001b[0m\u001b[1;33m\u001b[0m\u001b[1;33m\u001b[0m\u001b[0m\n\u001b[1;32m---> 16\u001b[1;33m         \u001b[1;32mraise\u001b[0m \u001b[0mException\u001b[0m\u001b[1;33m(\u001b[0m\u001b[1;34m\"can't category derived, not enough unique values.\"\u001b[0m\u001b[1;33m)\u001b[0m\u001b[1;33m\u001b[0m\u001b[1;33m\u001b[0m\u001b[0m\n\u001b[0m\u001b[0;32m     17\u001b[0m     \u001b[0mderived\u001b[0m\u001b[1;33m.\u001b[0m\u001b[0msort\u001b[0m\u001b[1;33m(\u001b[0m\u001b[1;33m)\u001b[0m\u001b[1;33m\u001b[0m\u001b[1;33m\u001b[0m\u001b[0m\n\u001b[0;32m     18\u001b[0m     \u001b[0mstep\u001b[0m \u001b[1;33m=\u001b[0m \u001b[0mlen\u001b[0m\u001b[1;33m(\u001b[0m\u001b[0mderived\u001b[0m\u001b[1;33m)\u001b[0m\u001b[1;33m//\u001b[0m\u001b[1;36m5\u001b[0m \u001b[1;31m# 5 categories\u001b[0m\u001b[1;33m\u001b[0m\u001b[1;33m\u001b[0m\u001b[0m\n",
      "\u001b[1;31mException\u001b[0m: can't category derived, not enough unique values."
     ]
    }
   ],
   "source": [
    "import algorithms\n",
    "from data_manipulation import filter, avg_filter\n",
    "from algorithms import stepwise_regression\n",
    "\n",
    "\n",
    "in_threshold = 0.3\n",
    "out_threshold = 0.05\n",
    "\n",
    "sderived = 'quality of sleep'\n",
    "data = algorithms.load_data('./Roman.csv', sderived)\n",
    "lbasics = list(data.columns.values)\n",
    "lbasics.remove(sderived)\n",
    "\n",
    "print(f'num days: {data.shape[0]}')\n",
    "\n",
    "(fit_model, param_in_model, cur_pvalue) = stepwise_regression(data, sderived, lbasics, in_threshold, out_threshold)\n",
    "print(f'param_in_model: {param_in_model}')\n",
    "print(f'cur_pvalue: {cur_pvalue}')\n",
    "\n",
    "# print(fit_model.summary())\n",
    "print(fit_model.model.exog_names)\n",
    "print(fit_model.params.values.round(2))\n",
    "\n",
    "import evaluation\n",
    "distance = evaluation.distance_vec(data, sderived, param_in_model, fit_model)\n",
    "print(f'accuracy: {evaluation.accuracy(distance)}')"
   ]
  }
 ],
 "metadata": {
  "interpreter": {
   "hash": "ad2bdc8ecc057115af97d19610ffacc2b4e99fae6737bb82f5d7fb13d2f2c186"
  },
  "kernelspec": {
   "display_name": "Python 3.9.12 ('base')",
   "language": "python",
   "name": "python3"
  },
  "language_info": {
   "codemirror_mode": {
    "name": "ipython",
    "version": 3
   },
   "file_extension": ".py",
   "mimetype": "text/x-python",
   "name": "python",
   "nbconvert_exporter": "python",
   "pygments_lexer": "ipython3",
   "version": "3.9.12"
  },
  "orig_nbformat": 4
 },
 "nbformat": 4,
 "nbformat_minor": 2
}
