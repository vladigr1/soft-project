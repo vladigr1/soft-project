{
 "cells": [
  {
   "cell_type": "markdown",
   "metadata": {},
   "source": [
    "# Lab 5 /6 - num categories\n",
    "\n",
    "run steypwise on data\n",
    "\n"
   ]
  },
  {
   "cell_type": "markdown",
   "metadata": {},
   "source": [
    "## Vlad data"
   ]
  },
  {
   "cell_type": "code",
   "execution_count": 1,
   "metadata": {},
   "outputs": [
    {
     "name": "stdout",
     "output_type": "stream",
     "text": [
      "num days: 15\n",
      "param_in_model: ['water', 'mood', 'cognitive load']\n",
      "cur_pvalue: 0.0347563459016164\n",
      "['water', 'mood', 'cognitive load', '0/1', '1/2', '2/3', '3/4']\n",
      "[-0.61  0.34 -0.06 -4.43 -0.17 -0.65 -0.21]\n",
      "accuracy: 11\n"
     ]
    }
   ],
   "source": [
    "import algorithms\n",
    "from data_manipulation import filter, avg_filter\n",
    "from algorithms import stepwise_regression\n",
    "\n",
    "import warnings\n",
    "warnings.filterwarnings(\"ignore\") # ignore warning\n",
    "\n",
    "\n",
    "in_threshold = 0.3\n",
    "out_threshold = 0.05\n",
    "num_categories = 5\n",
    "\n",
    "sderived = 'quality of sleep'\n",
    "data = algorithms.load_data('15days.csv', sderived, num_categories)\n",
    "lbasics = list(data.columns.values)\n",
    "lbasics.remove(sderived)\n",
    "\n",
    "print(f'num days: {data.shape[0]}')\n",
    "\n",
    "(fit_model, param_in_model, cur_pvalue) = stepwise_regression(data, sderived, lbasics, in_threshold, out_threshold)\n",
    "print(f'param_in_model: {param_in_model}')\n",
    "print(f'cur_pvalue: {cur_pvalue}')\n",
    "\n",
    "# print(fit_model.summary())\n",
    "print(fit_model.model.exog_names)\n",
    "print(fit_model.params.values.round(2))\n",
    "\n",
    "import evaluation\n",
    "distance = evaluation.distance_vec(data, sderived, param_in_model, fit_model)\n",
    "print(f'accuracy: {evaluation.accuracy(distance)}')"
   ]
  },
  {
   "cell_type": "code",
   "execution_count": 13,
   "metadata": {},
   "outputs": [
    {
     "name": "stdout",
     "output_type": "stream",
     "text": [
      "num days: 15\n",
      "param_in_model: ['water']\n",
      "cur_pvalue: 0.7024708751734997\n",
      "['water', '0/1']\n",
      "[-0.62 -2.97]\n",
      "accuracy: 5\n"
     ]
    }
   ],
   "source": [
    "import algorithms\n",
    "from data_manipulation import filter, avg_filter\n",
    "from algorithms import stepwise_regression\n",
    "\n",
    "\n",
    "in_threshold = 0.3\n",
    "out_threshold = 0.05\n",
    "num_categories = 2\n",
    "\n",
    "sderived = 'quality of sleep'\n",
    "data = algorithms.load_data('15days.csv', sderived, num_categories)\n",
    "lbasics = list(data.columns.values)\n",
    "lbasics.remove(sderived)\n",
    "\n",
    "print(f'num days: {data.shape[0]}')\n",
    "\n",
    "(fit_model, param_in_model, cur_pvalue) = stepwise_regression(data, sderived, lbasics, in_threshold, out_threshold)\n",
    "print(f'param_in_model: {param_in_model}')\n",
    "print(f'cur_pvalue: {cur_pvalue}')\n",
    "\n",
    "# print(fit_model.summary())\n",
    "print(fit_model.model.exog_names)\n",
    "print(fit_model.params.values.round(2))\n",
    "\n",
    "import evaluation\n",
    "distance = evaluation.distance_vec(data, sderived, param_in_model, fit_model)\n",
    "print(f'accuracy: {evaluation.accuracy(distance)}')"
   ]
  },
  {
   "cell_type": "markdown",
   "metadata": {},
   "source": [
    "# Mom Data"
   ]
  },
  {
   "cell_type": "code",
   "execution_count": 11,
   "metadata": {},
   "outputs": [
    {
     "name": "stdout",
     "output_type": "stream",
     "text": [
      "num days: 15\n",
      "param_in_model: ['time socializing']\n",
      "cur_pvalue: 0.6498971385949506\n",
      "['time socializing', '0/1', '1/2', '2/3']\n",
      "[ 0.59 -1.37  0.77  0.73]\n",
      "    derived  pred  dist\n",
      "0         3     2     1\n",
      "1         2     2     0\n",
      "2         1     1     0\n",
      "3         3     3     0\n",
      "4         3     2     1\n",
      "5         2     2     0\n",
      "6         1     1     0\n",
      "7         1     1     0\n",
      "8         2     2     0\n",
      "9         2     2     0\n",
      "10        3     2     1\n",
      "11        0     3     3\n",
      "12        1     3     2\n",
      "13        2     2     0\n",
      "14        2     2     0\n",
      "accuracy: 8\n"
     ]
    }
   ],
   "source": [
    "import algorithms\n",
    "from data_manipulation import filter, avg_filter\n",
    "from algorithms import stepwise_regression\n",
    "\n",
    "\n",
    "in_threshold = 0.3\n",
    "out_threshold = 0.05\n",
    "num_categories = 4\n",
    "\n",
    "sderived = 'quality of sleep'\n",
    "data = algorithms.load_data('mama.csv', sderived, num_categories)\n",
    "lbasics = list(data.columns.values)\n",
    "lbasics.remove(sderived)\n",
    "\n",
    "print(f'num days: {data.shape[0]}')\n",
    "\n",
    "(fit_model, param_in_model, cur_pvalue) = stepwise_regression(data, sderived, lbasics, in_threshold, out_threshold)\n",
    "print(f'param_in_model: {param_in_model}')\n",
    "print(f'cur_pvalue: {cur_pvalue}')\n",
    "\n",
    "# print(fit_model.summary())\n",
    "print(fit_model.model.exog_names)\n",
    "print(fit_model.params.values.round(2))\n",
    "\n",
    "import evaluation\n",
    "distance = evaluation.distance_vec(data, sderived, param_in_model, fit_model)\n",
    "print(distance)\n",
    "print(f'accuracy: {evaluation.accuracy(distance)}')"
   ]
  },
  {
   "cell_type": "code",
   "execution_count": 12,
   "metadata": {},
   "outputs": [
    {
     "name": "stdout",
     "output_type": "stream",
     "text": [
      "num days: 15\n",
      "param_in_model: ['time socializing']\n",
      "cur_pvalue: 0.426498949389327\n",
      "['time socializing', '0/1']\n",
      "[0.44 0.6 ]\n",
      "accuracy: 2\n"
     ]
    }
   ],
   "source": [
    "import algorithms\n",
    "from data_manipulation import filter, avg_filter\n",
    "from algorithms import stepwise_regression\n",
    "\n",
    "\n",
    "in_threshold = 0.3\n",
    "out_threshold = 0.05\n",
    "num_categories = 2\n",
    "\n",
    "sderived = 'quality of sleep'\n",
    "data = algorithms.load_data('mama.csv', sderived, num_categories)\n",
    "lbasics = list(data.columns.values)\n",
    "lbasics.remove(sderived)\n",
    "\n",
    "print(f'num days: {data.shape[0]}')\n",
    "\n",
    "(fit_model, param_in_model, cur_pvalue) = stepwise_regression(data, sderived, lbasics, in_threshold, out_threshold)\n",
    "print(f'param_in_model: {param_in_model}')\n",
    "print(f'cur_pvalue: {cur_pvalue}')\n",
    "\n",
    "# print(fit_model.summary())\n",
    "print(fit_model.model.exog_names)\n",
    "print(fit_model.params.values.round(2))\n",
    "\n",
    "import evaluation\n",
    "distance = evaluation.distance_vec(data, sderived, param_in_model, fit_model)\n",
    "print(f'accuracy: {evaluation.accuracy(distance)}')"
   ]
  },
  {
   "cell_type": "markdown",
   "metadata": {},
   "source": [
    "## Grandma"
   ]
  },
  {
   "cell_type": "code",
   "execution_count": 5,
   "metadata": {},
   "outputs": [
    {
     "name": "stdout",
     "output_type": "stream",
     "text": [
      "num days: 15\n",
      "param_in_model: ['phiscal activity']\n",
      "cur_pvalue: 0.07185423689051876\n",
      "['phiscal activity', '0/1']\n",
      "[-0.45 -2.35]\n",
      "accuracy: 3\n"
     ]
    }
   ],
   "source": [
    "import algorithms\n",
    "from data_manipulation import filter, avg_filter\n",
    "from algorithms import stepwise_regression\n",
    "\n",
    "\n",
    "in_threshold = 0.3\n",
    "out_threshold = 0.05\n",
    "\n",
    "sderived = 'amount of sleep'\n",
    "data = algorithms.load_data('./grandma.csv', sderived, num_categories)\n",
    "lbasics = list(data.columns.values)\n",
    "lbasics.remove(sderived)\n",
    "\n",
    "print(f'num days: {data.shape[0]}')\n",
    "\n",
    "(fit_model, param_in_model, cur_pvalue) = stepwise_regression(data, sderived, lbasics, in_threshold, out_threshold)\n",
    "print(f'param_in_model: {param_in_model}')\n",
    "print(f'cur_pvalue: {cur_pvalue}')\n",
    "\n",
    "# print(fit_model.summary())\n",
    "print(fit_model.model.exog_names)\n",
    "print(fit_model.params.values.round(2))\n",
    "\n",
    "import evaluation\n",
    "distance = evaluation.distance_vec(data, sderived, param_in_model, fit_model)\n",
    "print(f'accuracy: {evaluation.accuracy(distance)}')"
   ]
  },
  {
   "cell_type": "code",
   "execution_count": 6,
   "metadata": {},
   "outputs": [
    {
     "name": "stdout",
     "output_type": "stream",
     "text": [
      "num days: 15\n",
      "param_in_model: ['phiscal activity']\n",
      "cur_pvalue: 0.07185423689051876\n",
      "['phiscal activity', '0/1']\n",
      "[-0.45 -2.35]\n",
      "accuracy: 3\n"
     ]
    }
   ],
   "source": [
    "import algorithms\n",
    "from data_manipulation import filter, avg_filter\n",
    "from algorithms import stepwise_regression\n",
    "\n",
    "\n",
    "in_threshold = 0.3\n",
    "out_threshold = 0.05\n",
    "\n",
    "sderived = 'quality of sleep'\n",
    "data = algorithms.load_data('./grandma.csv', sderived, num_categories)\n",
    "lbasics = list(data.columns.values)\n",
    "lbasics.remove(sderived)\n",
    "\n",
    "print(f'num days: {data.shape[0]}')\n",
    "\n",
    "(fit_model, param_in_model, cur_pvalue) = stepwise_regression(data, sderived, lbasics, in_threshold, out_threshold)\n",
    "print(f'param_in_model: {param_in_model}')\n",
    "print(f'cur_pvalue: {cur_pvalue}')\n",
    "\n",
    "# print(fit_model.summary())\n",
    "print(fit_model.model.exog_names)\n",
    "print(fit_model.params.values.round(2))\n",
    "\n",
    "import evaluation\n",
    "distance = evaluation.distance_vec(data, sderived, param_in_model, fit_model)\n",
    "print(f'accuracy: {evaluation.accuracy(distance)}')"
   ]
  },
  {
   "cell_type": "markdown",
   "metadata": {},
   "source": [
    "## Roman"
   ]
  },
  {
   "cell_type": "code",
   "execution_count": 7,
   "metadata": {},
   "outputs": [
    {
     "name": "stdout",
     "output_type": "stream",
     "text": [
      "num days: 12\n",
      "param_in_model: ['time socializing']\n",
      "cur_pvalue: 0.6700978876143663\n",
      "['time socializing', '0/1']\n",
      "[2.06 2.43]\n",
      "accuracy: 3\n"
     ]
    }
   ],
   "source": [
    "import algorithms\n",
    "from data_manipulation import filter, avg_filter\n",
    "from algorithms import stepwise_regression\n",
    "\n",
    "\n",
    "in_threshold = 0.3\n",
    "out_threshold = 0.05\n",
    "\n",
    "sderived = 'amount of sleep'\n",
    "data = algorithms.load_data('./Roman.csv', sderived, num_categories)\n",
    "lbasics = list(data.columns.values)\n",
    "lbasics.remove(sderived)\n",
    "\n",
    "print(f'num days: {data.shape[0]}')\n",
    "\n",
    "(fit_model, param_in_model, cur_pvalue) = stepwise_regression(data, sderived, lbasics, in_threshold, out_threshold)\n",
    "print(f'param_in_model: {param_in_model}')\n",
    "print(f'cur_pvalue: {cur_pvalue}')\n",
    "\n",
    "# print(fit_model.summary())\n",
    "print(fit_model.model.exog_names)\n",
    "print(fit_model.params.values.round(2))\n",
    "\n",
    "import evaluation\n",
    "distance = evaluation.distance_vec(data, sderived, param_in_model, fit_model)\n",
    "print(f'accuracy: {evaluation.accuracy(distance)}')"
   ]
  },
  {
   "cell_type": "code",
   "execution_count": 8,
   "metadata": {},
   "outputs": [
    {
     "name": "stdout",
     "output_type": "stream",
     "text": [
      "num days: 12\n",
      "param_in_model: ['time socializing']\n",
      "cur_pvalue: 0.3281832618806704\n",
      "['time socializing', '0/1']\n",
      "[-0.65 -2.94]\n",
      "accuracy: 1\n"
     ]
    }
   ],
   "source": [
    "import algorithms\n",
    "from data_manipulation import filter, avg_filter\n",
    "from algorithms import stepwise_regression\n",
    "\n",
    "\n",
    "in_threshold = 0.3\n",
    "out_threshold = 0.05\n",
    "\n",
    "sderived = 'quality of sleep'\n",
    "data = algorithms.load_data('./Roman.csv', sderived, num_categories)\n",
    "lbasics = list(data.columns.values)\n",
    "lbasics.remove(sderived)\n",
    "\n",
    "print(f'num days: {data.shape[0]}')\n",
    "\n",
    "(fit_model, param_in_model, cur_pvalue) = stepwise_regression(data, sderived, lbasics, in_threshold, out_threshold)\n",
    "print(f'param_in_model: {param_in_model}')\n",
    "print(f'cur_pvalue: {cur_pvalue}')\n",
    "\n",
    "# print(fit_model.summary())\n",
    "print(fit_model.model.exog_names)\n",
    "print(fit_model.params.values.round(2))\n",
    "\n",
    "import evaluation\n",
    "distance = evaluation.distance_vec(data, sderived, param_in_model, fit_model)\n",
    "print(f'accuracy: {evaluation.accuracy(distance)}')"
   ]
  }
 ],
 "metadata": {
  "interpreter": {
   "hash": "ad2bdc8ecc057115af97d19610ffacc2b4e99fae6737bb82f5d7fb13d2f2c186"
  },
  "kernelspec": {
   "display_name": "Python 3.9.12 ('base')",
   "language": "python",
   "name": "python3"
  },
  "language_info": {
   "codemirror_mode": {
    "name": "ipython",
    "version": 3
   },
   "file_extension": ".py",
   "mimetype": "text/x-python",
   "name": "python",
   "nbconvert_exporter": "python",
   "pygments_lexer": "ipython3",
   "version": "3.9.12"
  },
  "orig_nbformat": 4
 },
 "nbformat": 4,
 "nbformat_minor": 2
}
