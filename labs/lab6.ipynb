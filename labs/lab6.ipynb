{
 "cells": [
  {
   "cell_type": "markdown",
   "metadata": {},
   "source": [
    "# Lab 5 /6 - num categories\n",
    "\n",
    "run steypwise on data\n",
    "\n"
   ]
  },
  {
   "cell_type": "markdown",
   "metadata": {},
   "source": [
    "## Vlad data"
   ]
  },
  {
   "cell_type": "code",
   "execution_count": 1,
   "metadata": {},
   "outputs": [
    {
     "name": "stdout",
     "output_type": "stream",
     "text": [
      "num days: 15\n",
      "param_in_model: ['quality of sleep']\n",
      "cur_pvalue: 0.3286878849452297\n",
      "['quality of sleep', '0/1', '1/2', '2/3', '3/4']\n",
      "[ 0.31 -1.98  0.29 -0.3   0.83]\n",
      "accuracy: 10\n"
     ]
    }
   ],
   "source": [
    "import algorithms\n",
    "from data_manipulation import filter, avg_filter\n",
    "from algorithms import stepwise_regression\n",
    "\n",
    "import warnings\n",
    "warnings.filterwarnings(\"ignore\") # ignore warning\n",
    "\n",
    "\n",
    "in_threshold = 0.3\n",
    "out_threshold = 0.05\n",
    "num_categories = 5\n",
    "\n",
    "sderived = 'amount of sleep'\n",
    "data = algorithms.load_data('15days.csv', sderived, num_categories)\n",
    "lbasics = list(data.columns.values)\n",
    "lbasics.remove(sderived)\n",
    "\n",
    "print(f'num days: {data.shape[0]}')\n",
    "\n",
    "(fit_model, param_in_model, cur_pvalue) = stepwise_regression(data, sderived, lbasics, in_threshold, out_threshold)\n",
    "print(f'param_in_model: {param_in_model}')\n",
    "print(f'cur_pvalue: {cur_pvalue}')\n",
    "\n",
    "# print(fit_model.summary())\n",
    "print(fit_model.model.exog_names)\n",
    "print(fit_model.params.values.round(2))\n",
    "\n",
    "import evaluation\n",
    "distance = evaluation.distance_vec(data, sderived, param_in_model, fit_model)\n",
    "print(f'accuracy: {evaluation.accuracy(distance)}')"
   ]
  },
  {
   "cell_type": "code",
   "execution_count": 2,
   "metadata": {},
   "outputs": [
    {
     "name": "stdout",
     "output_type": "stream",
     "text": [
      "num days: 15\n",
      "param_in_model: ['water', 'mood', 'cognitive load']\n",
      "cur_pvalue: 0.0347563459016164\n",
      "['water', 'mood', 'cognitive load', '0/1', '1/2', '2/3', '3/4']\n",
      "[-0.61  0.34 -0.06 -4.43 -0.17 -0.65 -0.21]\n",
      "accuracy: 11\n"
     ]
    }
   ],
   "source": [
    "import algorithms\n",
    "from data_manipulation import filter, avg_filter\n",
    "from algorithms import stepwise_regression\n",
    "\n",
    "\n",
    "in_threshold = 0.3\n",
    "out_threshold = 0.05\n",
    "\n",
    "sderived = 'quality of sleep'\n",
    "data = algorithms.load_data('15days.csv', sderived, num_categories)\n",
    "lbasics = list(data.columns.values)\n",
    "lbasics.remove(sderived)\n",
    "\n",
    "print(f'num days: {data.shape[0]}')\n",
    "\n",
    "(fit_model, param_in_model, cur_pvalue) = stepwise_regression(data, sderived, lbasics, in_threshold, out_threshold)\n",
    "print(f'param_in_model: {param_in_model}')\n",
    "print(f'cur_pvalue: {cur_pvalue}')\n",
    "\n",
    "# print(fit_model.summary())\n",
    "print(fit_model.model.exog_names)\n",
    "print(fit_model.params.values.round(2))\n",
    "\n",
    "import evaluation\n",
    "distance = evaluation.distance_vec(data, sderived, param_in_model, fit_model)\n",
    "print(f'accuracy: {evaluation.accuracy(distance)}')"
   ]
  },
  {
   "cell_type": "markdown",
   "metadata": {},
   "source": [
    "# Mom Data"
   ]
  },
  {
   "cell_type": "code",
   "execution_count": 3,
   "metadata": {},
   "outputs": [
    {
     "name": "stdout",
     "output_type": "stream",
     "text": [
      "num days: 15\n",
      "param_in_model: ['time socializing', 'water']\n",
      "cur_pvalue: 0.24482196723074326\n",
      "['time socializing', 'water', '0/1', '1/2', '2/3', '3/4']\n",
      "[ 0.36  0.86 -0.66 -0.21  0.36  1.09]\n",
      "    derived  pred  dist\n",
      "0         3     3     0\n",
      "1         3     3     0\n",
      "2         2     3     1\n",
      "3         4     3     1\n",
      "4         3     3     0\n",
      "5         3     3     0\n",
      "6         2     3     1\n",
      "7         1     2     1\n",
      "8         3     3     0\n",
      "9         3     3     0\n",
      "10        4     3     1\n",
      "11        0     3     3\n",
      "12        2     3     1\n",
      "13        3     3     0\n",
      "14        3     3     0\n",
      "accuracy: 9\n"
     ]
    }
   ],
   "source": [
    "import algorithms\n",
    "from data_manipulation import filter, avg_filter\n",
    "from algorithms import stepwise_regression\n",
    "\n",
    "\n",
    "in_threshold = 0.3\n",
    "out_threshold = 0.05\n",
    "\n",
    "sderived = 'amount of sleep'\n",
    "data = algorithms.load_data('mama.csv', sderived, num_categories)\n",
    "lbasics = list(data.columns.values)\n",
    "lbasics.remove(sderived)\n",
    "\n",
    "print(f'num days: {data.shape[0]}')\n",
    "\n",
    "(fit_model, param_in_model, cur_pvalue) = stepwise_regression(data, sderived, lbasics, in_threshold, out_threshold)\n",
    "print(f'param_in_model: {param_in_model}')\n",
    "print(f'cur_pvalue: {cur_pvalue}')\n",
    "\n",
    "# print(fit_model.summary())\n",
    "print(fit_model.model.exog_names)\n",
    "print(fit_model.params.values.round(2))\n",
    "\n",
    "import evaluation\n",
    "distance = evaluation.distance_vec(data, sderived, param_in_model, fit_model)\n",
    "print(distance)\n",
    "print(f'accuracy: {evaluation.accuracy(distance)}')"
   ]
  },
  {
   "cell_type": "code",
   "execution_count": 4,
   "metadata": {},
   "outputs": [
    {
     "ename": "Exception",
     "evalue": "can't category derived, not enough unique values.",
     "output_type": "error",
     "traceback": [
      "\u001b[1;31m---------------------------------------------------------------------------\u001b[0m",
      "\u001b[1;31mException\u001b[0m                                 Traceback (most recent call last)",
      "\u001b[1;32me:\\soft-proj\\labs\\lab6.ipynb Cell 7'\u001b[0m in \u001b[0;36m<cell line: 10>\u001b[1;34m()\u001b[0m\n\u001b[0;32m      <a href='vscode-notebook-cell:/e%3A/soft-proj/labs/lab6.ipynb#ch0000006?line=6'>7</a>\u001b[0m out_threshold \u001b[39m=\u001b[39m \u001b[39m0.05\u001b[39m\n\u001b[0;32m      <a href='vscode-notebook-cell:/e%3A/soft-proj/labs/lab6.ipynb#ch0000006?line=8'>9</a>\u001b[0m sderived \u001b[39m=\u001b[39m \u001b[39m'\u001b[39m\u001b[39mquality of sleep\u001b[39m\u001b[39m'\u001b[39m\n\u001b[1;32m---> <a href='vscode-notebook-cell:/e%3A/soft-proj/labs/lab6.ipynb#ch0000006?line=9'>10</a>\u001b[0m data \u001b[39m=\u001b[39m algorithms\u001b[39m.\u001b[39;49mload_data(\u001b[39m'\u001b[39;49m\u001b[39mmama.csv\u001b[39;49m\u001b[39m'\u001b[39;49m, sderived, num_categories)\n\u001b[0;32m     <a href='vscode-notebook-cell:/e%3A/soft-proj/labs/lab6.ipynb#ch0000006?line=10'>11</a>\u001b[0m lbasics \u001b[39m=\u001b[39m \u001b[39mlist\u001b[39m(data\u001b[39m.\u001b[39mcolumns\u001b[39m.\u001b[39mvalues)\n\u001b[0;32m     <a href='vscode-notebook-cell:/e%3A/soft-proj/labs/lab6.ipynb#ch0000006?line=11'>12</a>\u001b[0m lbasics\u001b[39m.\u001b[39mremove(sderived)\n",
      "File \u001b[1;32me:\\soft-proj\\labs\\algorithms.py:56\u001b[0m, in \u001b[0;36mload_data\u001b[1;34m(csv_path, sderived, num_categories)\u001b[0m\n\u001b[0;32m     <a href='file:///e%3A/soft-proj/labs/algorithms.py?line=53'>54</a>\u001b[0m \u001b[39mdef\u001b[39;00m \u001b[39mload_data\u001b[39m(csv_path, sderived , num_categories \u001b[39m=\u001b[39m \u001b[39m5\u001b[39m):\n\u001b[0;32m     <a href='file:///e%3A/soft-proj/labs/algorithms.py?line=54'>55</a>\u001b[0m     data_diam \u001b[39m=\u001b[39m pd\u001b[39m.\u001b[39mread_csv(csv_path, dtype \u001b[39m=\u001b[39m  np\u001b[39m.\u001b[39mdouble)\n\u001b[1;32m---> <a href='file:///e%3A/soft-proj/labs/algorithms.py?line=55'>56</a>\u001b[0m     cat_derivied \u001b[39m=\u001b[39m categories_derived(data_diam[sderived], num_categories)\n\u001b[0;32m     <a href='file:///e%3A/soft-proj/labs/algorithms.py?line=56'>57</a>\u001b[0m     data_diam[sderived] \u001b[39m=\u001b[39m cat_derivied\n\u001b[0;32m     <a href='file:///e%3A/soft-proj/labs/algorithms.py?line=57'>58</a>\u001b[0m     \u001b[39mreturn\u001b[39;00m data_diam\n",
      "File \u001b[1;32me:\\soft-proj\\labs\\algorithms.py:40\u001b[0m, in \u001b[0;36mcategories_derived\u001b[1;34m(pd_derivied, num_categories)\u001b[0m\n\u001b[0;32m     <a href='file:///e%3A/soft-proj/labs/algorithms.py?line=38'>39</a>\u001b[0m \u001b[39mdef\u001b[39;00m \u001b[39mcategories_derived\u001b[39m(pd_derivied, num_categories \u001b[39m=\u001b[39m \u001b[39m5\u001b[39m):\n\u001b[1;32m---> <a href='file:///e%3A/soft-proj/labs/algorithms.py?line=39'>40</a>\u001b[0m     boundaries \u001b[39m=\u001b[39m generate_boundary(pd_derivied, num_categories)\n\u001b[0;32m     <a href='file:///e%3A/soft-proj/labs/algorithms.py?line=40'>41</a>\u001b[0m     \u001b[39mreturn\u001b[39;00m categories_derived_with_boundaries(pd_derivied, boundaries, num_categories)\n",
      "File \u001b[1;32me:\\soft-proj\\labs\\algorithms.py:16\u001b[0m, in \u001b[0;36mgenerate_boundary\u001b[1;34m(pd_derivied, num_categories)\u001b[0m\n\u001b[0;32m     <a href='file:///e%3A/soft-proj/labs/algorithms.py?line=13'>14</a>\u001b[0m derived \u001b[39m=\u001b[39m \u001b[39mlist\u001b[39m(\u001b[39mset\u001b[39m(pd_derivied\u001b[39m.\u001b[39mto_numpy()))\n\u001b[0;32m     <a href='file:///e%3A/soft-proj/labs/algorithms.py?line=14'>15</a>\u001b[0m \u001b[39mif\u001b[39;00m  \u001b[39mlen\u001b[39m(derived) \u001b[39m<\u001b[39m num_categories :\n\u001b[1;32m---> <a href='file:///e%3A/soft-proj/labs/algorithms.py?line=15'>16</a>\u001b[0m     \u001b[39mraise\u001b[39;00m \u001b[39mException\u001b[39;00m(\u001b[39m\"\u001b[39m\u001b[39mcan\u001b[39m\u001b[39m'\u001b[39m\u001b[39mt category derived, not enough unique values.\u001b[39m\u001b[39m\"\u001b[39m)\n\u001b[0;32m     <a href='file:///e%3A/soft-proj/labs/algorithms.py?line=16'>17</a>\u001b[0m derived\u001b[39m.\u001b[39msort()\n\u001b[0;32m     <a href='file:///e%3A/soft-proj/labs/algorithms.py?line=17'>18</a>\u001b[0m step \u001b[39m=\u001b[39m \u001b[39mlen\u001b[39m(derived)\u001b[39m/\u001b[39m\u001b[39m/\u001b[39mnum_categories\n",
      "\u001b[1;31mException\u001b[0m: can't category derived, not enough unique values."
     ]
    }
   ],
   "source": [
    "import algorithms\n",
    "from data_manipulation import filter, avg_filter\n",
    "from algorithms import stepwise_regression\n",
    "\n",
    "\n",
    "in_threshold = 0.3\n",
    "out_threshold = 0.05\n",
    "\n",
    "sderived = 'quality of sleep'\n",
    "data = algorithms.load_data('mama.csv', sderived, num_categories)\n",
    "lbasics = list(data.columns.values)\n",
    "lbasics.remove(sderived)\n",
    "\n",
    "print(f'num days: {data.shape[0]}')\n",
    "\n",
    "(fit_model, param_in_model, cur_pvalue) = stepwise_regression(data, sderived, lbasics, in_threshold, out_threshold)\n",
    "print(f'param_in_model: {param_in_model}')\n",
    "print(f'cur_pvalue: {cur_pvalue}')\n",
    "\n",
    "# print(fit_model.summary())\n",
    "print(fit_model.model.exog_names)\n",
    "print(fit_model.params.values.round(2))\n",
    "\n",
    "import evaluation\n",
    "distance = evaluation.distance_vec(data, sderived, param_in_model, fit_model)\n",
    "print(f'accuracy: {evaluation.accuracy(distance)}')"
   ]
  },
  {
   "cell_type": "markdown",
   "metadata": {},
   "source": [
    "## Grandma"
   ]
  },
  {
   "cell_type": "code",
   "execution_count": null,
   "metadata": {},
   "outputs": [
    {
     "name": "stdout",
     "output_type": "stream",
     "text": [
      "num days: 15\n",
      "param_in_model: ['qualitiy of sleep', 'phiscal activity']\n",
      "cur_pvalue: 0.24150193161220107\n",
      "['qualitiy of sleep', 'phiscal activity', '0/1', '1/2']\n",
      "[ 1.06 -0.16 -1.81  0.5 ]\n",
      "accuracy: 3\n"
     ]
    }
   ],
   "source": [
    "import algorithms\n",
    "from data_manipulation import filter, avg_filter\n",
    "from algorithms import stepwise_regression\n",
    "\n",
    "\n",
    "in_threshold = 0.3\n",
    "out_threshold = 0.05\n",
    "\n",
    "sderived = 'amount of sleep'\n",
    "data = algorithms.load_data('./grandma.csv', sderived, num_categories)\n",
    "lbasics = list(data.columns.values)\n",
    "lbasics.remove(sderived)\n",
    "\n",
    "print(f'num days: {data.shape[0]}')\n",
    "\n",
    "(fit_model, param_in_model, cur_pvalue) = stepwise_regression(data, sderived, lbasics, in_threshold, out_threshold)\n",
    "print(f'param_in_model: {param_in_model}')\n",
    "print(f'cur_pvalue: {cur_pvalue}')\n",
    "\n",
    "# print(fit_model.summary())\n",
    "print(fit_model.model.exog_names)\n",
    "print(fit_model.params.values.round(2))\n",
    "\n",
    "import evaluation\n",
    "distance = evaluation.distance_vec(data, sderived, param_in_model, fit_model)\n",
    "print(f'accuracy: {evaluation.accuracy(distance)}')"
   ]
  },
  {
   "cell_type": "code",
   "execution_count": null,
   "metadata": {},
   "outputs": [
    {
     "name": "stdout",
     "output_type": "stream",
     "text": [
      "num days: 15\n",
      "param_in_model: ['qualitiy of sleep', 'phiscal activity']\n",
      "cur_pvalue: 0.24150193161220107\n",
      "['qualitiy of sleep', 'phiscal activity', '0/1', '1/2']\n",
      "[ 1.06 -0.16 -1.81  0.5 ]\n",
      "accuracy: 3\n"
     ]
    }
   ],
   "source": [
    "import algorithms\n",
    "from data_manipulation import filter, avg_filter\n",
    "from algorithms import stepwise_regression\n",
    "\n",
    "\n",
    "in_threshold = 0.3\n",
    "out_threshold = 0.05\n",
    "\n",
    "sderived = 'quality of sleep'\n",
    "data = algorithms.load_data('./grandma.csv', sderived, num_categories)\n",
    "lbasics = list(data.columns.values)\n",
    "lbasics.remove(sderived)\n",
    "\n",
    "print(f'num days: {data.shape[0]}')\n",
    "\n",
    "(fit_model, param_in_model, cur_pvalue) = stepwise_regression(data, sderived, lbasics, in_threshold, out_threshold)\n",
    "print(f'param_in_model: {param_in_model}')\n",
    "print(f'cur_pvalue: {cur_pvalue}')\n",
    "\n",
    "# print(fit_model.summary())\n",
    "print(fit_model.model.exog_names)\n",
    "print(fit_model.params.values.round(2))\n",
    "\n",
    "import evaluation\n",
    "distance = evaluation.distance_vec(data, sderived, param_in_model, fit_model)\n",
    "print(f'accuracy: {evaluation.accuracy(distance)}')"
   ]
  },
  {
   "cell_type": "markdown",
   "metadata": {},
   "source": [
    "## Roman"
   ]
  },
  {
   "cell_type": "code",
   "execution_count": null,
   "metadata": {},
   "outputs": [
    {
     "name": "stdout",
     "output_type": "stream",
     "text": [
      "num days: 12\n",
      "param_in_model: ['time socializing']\n",
      "cur_pvalue: 0.533607988270724\n",
      "['time socializing', '0/1', '1/2']\n",
      "[ 1.2  -0.52  0.74]\n",
      "accuracy: 6\n"
     ]
    }
   ],
   "source": [
    "import algorithms\n",
    "from data_manipulation import filter, avg_filter\n",
    "from algorithms import stepwise_regression\n",
    "\n",
    "\n",
    "in_threshold = 0.3\n",
    "out_threshold = 0.05\n",
    "\n",
    "sderived = 'amount of sleep'\n",
    "data = algorithms.load_data('./Roman.csv', sderived, num_categories)\n",
    "lbasics = list(data.columns.values)\n",
    "lbasics.remove(sderived)\n",
    "\n",
    "print(f'num days: {data.shape[0]}')\n",
    "\n",
    "(fit_model, param_in_model, cur_pvalue) = stepwise_regression(data, sderived, lbasics, in_threshold, out_threshold)\n",
    "print(f'param_in_model: {param_in_model}')\n",
    "print(f'cur_pvalue: {cur_pvalue}')\n",
    "\n",
    "# print(fit_model.summary())\n",
    "print(fit_model.model.exog_names)\n",
    "print(fit_model.params.values.round(2))\n",
    "\n",
    "import evaluation\n",
    "distance = evaluation.distance_vec(data, sderived, param_in_model, fit_model)\n",
    "print(f'accuracy: {evaluation.accuracy(distance)}')"
   ]
  },
  {
   "cell_type": "code",
   "execution_count": null,
   "metadata": {},
   "outputs": [
    {
     "ename": "Exception",
     "evalue": "can't category derived, not enough unique values.",
     "output_type": "error",
     "traceback": [
      "\u001b[1;31m---------------------------------------------------------------------------\u001b[0m",
      "\u001b[1;31mException\u001b[0m                                 Traceback (most recent call last)",
      "\u001b[1;32m~\\AppData\\Local\\Temp/ipykernel_17644/2462927656.py\u001b[0m in \u001b[0;36m<module>\u001b[1;34m\u001b[0m\n\u001b[0;32m      8\u001b[0m \u001b[1;33m\u001b[0m\u001b[0m\n\u001b[0;32m      9\u001b[0m \u001b[0msderived\u001b[0m \u001b[1;33m=\u001b[0m \u001b[1;34m'quality of sleep'\u001b[0m\u001b[1;33m\u001b[0m\u001b[1;33m\u001b[0m\u001b[0m\n\u001b[1;32m---> 10\u001b[1;33m \u001b[0mdata\u001b[0m \u001b[1;33m=\u001b[0m \u001b[0malgorithms\u001b[0m\u001b[1;33m.\u001b[0m\u001b[0mload_data\u001b[0m\u001b[1;33m(\u001b[0m\u001b[1;34m'./Roman.csv'\u001b[0m\u001b[1;33m,\u001b[0m \u001b[0msderived\u001b[0m\u001b[1;33m,\u001b[0m \u001b[0mnum_categories\u001b[0m\u001b[1;33m)\u001b[0m\u001b[1;33m\u001b[0m\u001b[1;33m\u001b[0m\u001b[0m\n\u001b[0m\u001b[0;32m     11\u001b[0m \u001b[0mlbasics\u001b[0m \u001b[1;33m=\u001b[0m \u001b[0mlist\u001b[0m\u001b[1;33m(\u001b[0m\u001b[0mdata\u001b[0m\u001b[1;33m.\u001b[0m\u001b[0mcolumns\u001b[0m\u001b[1;33m.\u001b[0m\u001b[0mvalues\u001b[0m\u001b[1;33m)\u001b[0m\u001b[1;33m\u001b[0m\u001b[1;33m\u001b[0m\u001b[0m\n\u001b[0;32m     12\u001b[0m \u001b[0mlbasics\u001b[0m\u001b[1;33m.\u001b[0m\u001b[0mremove\u001b[0m\u001b[1;33m(\u001b[0m\u001b[0msderived\u001b[0m\u001b[1;33m)\u001b[0m\u001b[1;33m\u001b[0m\u001b[1;33m\u001b[0m\u001b[0m\n",
      "\u001b[1;32mc:\\Users\\do2vl\\Desktop\\soft-project\\soft-proj\\labs\\algorithms.py\u001b[0m in \u001b[0;36mload_data\u001b[1;34m(csv_path, sderived, num_categories)\u001b[0m\n\u001b[0;32m     54\u001b[0m \u001b[1;32mdef\u001b[0m \u001b[0mload_data\u001b[0m\u001b[1;33m(\u001b[0m\u001b[0mcsv_path\u001b[0m\u001b[1;33m,\u001b[0m \u001b[0msderived\u001b[0m \u001b[1;33m,\u001b[0m \u001b[0mnum_categories\u001b[0m \u001b[1;33m=\u001b[0m \u001b[1;36m5\u001b[0m\u001b[1;33m)\u001b[0m\u001b[1;33m:\u001b[0m\u001b[1;33m\u001b[0m\u001b[1;33m\u001b[0m\u001b[0m\n\u001b[0;32m     55\u001b[0m     \u001b[0mdata_diam\u001b[0m \u001b[1;33m=\u001b[0m \u001b[0mpd\u001b[0m\u001b[1;33m.\u001b[0m\u001b[0mread_csv\u001b[0m\u001b[1;33m(\u001b[0m\u001b[0mcsv_path\u001b[0m\u001b[1;33m,\u001b[0m \u001b[0mdtype\u001b[0m \u001b[1;33m=\u001b[0m  \u001b[0mnp\u001b[0m\u001b[1;33m.\u001b[0m\u001b[0mdouble\u001b[0m\u001b[1;33m)\u001b[0m\u001b[1;33m\u001b[0m\u001b[1;33m\u001b[0m\u001b[0m\n\u001b[1;32m---> 56\u001b[1;33m     \u001b[0mcat_derivied\u001b[0m \u001b[1;33m=\u001b[0m \u001b[0mcategories_derived\u001b[0m\u001b[1;33m(\u001b[0m\u001b[0mdata_diam\u001b[0m\u001b[1;33m[\u001b[0m\u001b[0msderived\u001b[0m\u001b[1;33m]\u001b[0m\u001b[1;33m,\u001b[0m \u001b[0mnum_categories\u001b[0m\u001b[1;33m)\u001b[0m\u001b[1;33m\u001b[0m\u001b[1;33m\u001b[0m\u001b[0m\n\u001b[0m\u001b[0;32m     57\u001b[0m     \u001b[0mdata_diam\u001b[0m\u001b[1;33m[\u001b[0m\u001b[0msderived\u001b[0m\u001b[1;33m]\u001b[0m \u001b[1;33m=\u001b[0m \u001b[0mcat_derivied\u001b[0m\u001b[1;33m\u001b[0m\u001b[1;33m\u001b[0m\u001b[0m\n\u001b[0;32m     58\u001b[0m     \u001b[1;32mreturn\u001b[0m \u001b[0mdata_diam\u001b[0m\u001b[1;33m\u001b[0m\u001b[1;33m\u001b[0m\u001b[0m\n",
      "\u001b[1;32mc:\\Users\\do2vl\\Desktop\\soft-project\\soft-proj\\labs\\algorithms.py\u001b[0m in \u001b[0;36mcategories_derived\u001b[1;34m(pd_derivied, num_categories)\u001b[0m\n\u001b[0;32m     38\u001b[0m \u001b[1;33m\u001b[0m\u001b[0m\n\u001b[0;32m     39\u001b[0m \u001b[1;32mdef\u001b[0m \u001b[0mcategories_derived\u001b[0m\u001b[1;33m(\u001b[0m\u001b[0mpd_derivied\u001b[0m\u001b[1;33m,\u001b[0m \u001b[0mnum_categories\u001b[0m \u001b[1;33m=\u001b[0m \u001b[1;36m5\u001b[0m\u001b[1;33m)\u001b[0m\u001b[1;33m:\u001b[0m\u001b[1;33m\u001b[0m\u001b[1;33m\u001b[0m\u001b[0m\n\u001b[1;32m---> 40\u001b[1;33m     \u001b[0mboundaries\u001b[0m \u001b[1;33m=\u001b[0m \u001b[0mgenerate_boundary\u001b[0m\u001b[1;33m(\u001b[0m\u001b[0mpd_derivied\u001b[0m\u001b[1;33m,\u001b[0m \u001b[0mnum_categories\u001b[0m\u001b[1;33m)\u001b[0m\u001b[1;33m\u001b[0m\u001b[1;33m\u001b[0m\u001b[0m\n\u001b[0m\u001b[0;32m     41\u001b[0m     \u001b[1;32mreturn\u001b[0m \u001b[0mcategories_derived_with_boundaries\u001b[0m\u001b[1;33m(\u001b[0m\u001b[0mpd_derivied\u001b[0m\u001b[1;33m,\u001b[0m \u001b[0mboundaries\u001b[0m\u001b[1;33m,\u001b[0m \u001b[0mnum_categories\u001b[0m\u001b[1;33m)\u001b[0m\u001b[1;33m\u001b[0m\u001b[1;33m\u001b[0m\u001b[0m\n\u001b[0;32m     42\u001b[0m \u001b[1;33m\u001b[0m\u001b[0m\n",
      "\u001b[1;32mc:\\Users\\do2vl\\Desktop\\soft-project\\soft-proj\\labs\\algorithms.py\u001b[0m in \u001b[0;36mgenerate_boundary\u001b[1;34m(pd_derivied, num_categories)\u001b[0m\n\u001b[0;32m     14\u001b[0m     \u001b[0mderived\u001b[0m \u001b[1;33m=\u001b[0m \u001b[0mlist\u001b[0m\u001b[1;33m(\u001b[0m\u001b[0mset\u001b[0m\u001b[1;33m(\u001b[0m\u001b[0mpd_derivied\u001b[0m\u001b[1;33m.\u001b[0m\u001b[0mto_numpy\u001b[0m\u001b[1;33m(\u001b[0m\u001b[1;33m)\u001b[0m\u001b[1;33m)\u001b[0m\u001b[1;33m)\u001b[0m\u001b[1;33m\u001b[0m\u001b[1;33m\u001b[0m\u001b[0m\n\u001b[0;32m     15\u001b[0m     \u001b[1;32mif\u001b[0m  \u001b[0mlen\u001b[0m\u001b[1;33m(\u001b[0m\u001b[0mderived\u001b[0m\u001b[1;33m)\u001b[0m \u001b[1;33m<\u001b[0m \u001b[0mnum_categories\u001b[0m \u001b[1;33m:\u001b[0m\u001b[1;33m\u001b[0m\u001b[1;33m\u001b[0m\u001b[0m\n\u001b[1;32m---> 16\u001b[1;33m         \u001b[1;32mraise\u001b[0m \u001b[0mException\u001b[0m\u001b[1;33m(\u001b[0m\u001b[1;34m\"can't category derived, not enough unique values.\"\u001b[0m\u001b[1;33m)\u001b[0m\u001b[1;33m\u001b[0m\u001b[1;33m\u001b[0m\u001b[0m\n\u001b[0m\u001b[0;32m     17\u001b[0m     \u001b[0mderived\u001b[0m\u001b[1;33m.\u001b[0m\u001b[0msort\u001b[0m\u001b[1;33m(\u001b[0m\u001b[1;33m)\u001b[0m\u001b[1;33m\u001b[0m\u001b[1;33m\u001b[0m\u001b[0m\n\u001b[0;32m     18\u001b[0m     \u001b[0mstep\u001b[0m \u001b[1;33m=\u001b[0m \u001b[0mlen\u001b[0m\u001b[1;33m(\u001b[0m\u001b[0mderived\u001b[0m\u001b[1;33m)\u001b[0m\u001b[1;33m//\u001b[0m\u001b[0mnum_categories\u001b[0m\u001b[1;33m\u001b[0m\u001b[1;33m\u001b[0m\u001b[0m\n",
      "\u001b[1;31mException\u001b[0m: can't category derived, not enough unique values."
     ]
    }
   ],
   "source": [
    "import algorithms\n",
    "from data_manipulation import filter, avg_filter\n",
    "from algorithms import stepwise_regression\n",
    "\n",
    "\n",
    "in_threshold = 0.3\n",
    "out_threshold = 0.05\n",
    "\n",
    "sderived = 'quality of sleep'\n",
    "data = algorithms.load_data('./Roman.csv', sderived, num_categories)\n",
    "lbasics = list(data.columns.values)\n",
    "lbasics.remove(sderived)\n",
    "\n",
    "print(f'num days: {data.shape[0]}')\n",
    "\n",
    "(fit_model, param_in_model, cur_pvalue) = stepwise_regression(data, sderived, lbasics, in_threshold, out_threshold)\n",
    "print(f'param_in_model: {param_in_model}')\n",
    "print(f'cur_pvalue: {cur_pvalue}')\n",
    "\n",
    "# print(fit_model.summary())\n",
    "print(fit_model.model.exog_names)\n",
    "print(fit_model.params.values.round(2))\n",
    "\n",
    "import evaluation\n",
    "distance = evaluation.distance_vec(data, sderived, param_in_model, fit_model)\n",
    "print(f'accuracy: {evaluation.accuracy(distance)}')"
   ]
  }
 ],
 "metadata": {
  "interpreter": {
   "hash": "ad2bdc8ecc057115af97d19610ffacc2b4e99fae6737bb82f5d7fb13d2f2c186"
  },
  "kernelspec": {
   "display_name": "Python 3.9.12 ('base')",
   "language": "python",
   "name": "python3"
  },
  "language_info": {
   "codemirror_mode": {
    "name": "ipython",
    "version": 3
   },
   "file_extension": ".py",
   "mimetype": "text/x-python",
   "name": "python",
   "nbconvert_exporter": "python",
   "pygments_lexer": "ipython3",
   "version": "3.9.12"
  },
  "orig_nbformat": 4
 },
 "nbformat": 4,
 "nbformat_minor": 2
}
