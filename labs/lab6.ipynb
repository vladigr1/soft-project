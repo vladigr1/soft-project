{
 "cells": [
  {
   "cell_type": "markdown",
   "metadata": {},
   "source": [
    "# Lab 5 /6 - num categories\n",
    "\n",
    "run steypwise on data\n",
    "\n"
   ]
  },
  {
   "cell_type": "markdown",
   "metadata": {},
   "source": [
    "## Vlad data"
   ]
  },
  {
   "cell_type": "code",
   "execution_count": 6,
   "metadata": {},
   "outputs": [
    {
     "name": "stdout",
     "output_type": "stream",
     "text": [
      "num days: 15\n",
      "param_in_model: ['water', 'quality of sleep', 'mood', 'physical activity', 'cognitive load']\n",
      "cur_pvalue: 0.0017761975656375697\n",
      "['water', 'quality of sleep', 'mood', 'physical activity', 'cognitive load', '1/2', '2/3']\n",
      "[ 1.17  0.56 -0.49  0.4  -0.31 -1.05  1.08]\n",
      "accuracy: 14\n"
     ]
    }
   ],
   "source": [
    "import algorithms\n",
    "from data_manipulation import filter, avg_filter\n",
    "from algorithms import stepwise_regression\n",
    "\n",
    "import warnings\n",
    "warnings.filterwarnings(\"ignore\") # ignore warning\n",
    "\n",
    "\n",
    "in_threshold = 0.3\n",
    "out_threshold = 0.05\n",
    "num_categories = 3\n",
    "\n",
    "sderived = 'amount of sleep'\n",
    "data = algorithms.load_data('15days.csv', sderived, num_categories)\n",
    "lbasics = list(data.columns.values)\n",
    "lbasics.remove(sderived)\n",
    "\n",
    "print(f'num days: {data.shape[0]}')\n",
    "\n",
    "(fit_model, param_in_model, cur_pvalue) = stepwise_regression(data, sderived, lbasics, in_threshold, out_threshold)\n",
    "print(f'param_in_model: {param_in_model}')\n",
    "print(f'cur_pvalue: {cur_pvalue}')\n",
    "\n",
    "# print(fit_model.summary())\n",
    "print(fit_model.model.exog_names)\n",
    "print(fit_model.params.values.round(2))\n",
    "\n",
    "import evaluation\n",
    "distance = evaluation.distance_vec(data, sderived, param_in_model, fit_model)\n",
    "print(f'accuracy: {evaluation.accuracy(distance)}')"
   ]
  },
  {
   "cell_type": "code",
   "execution_count": 7,
   "metadata": {},
   "outputs": [
    {
     "name": "stdout",
     "output_type": "stream",
     "text": [
      "num days: 15\n",
      "param_in_model: ['cognitive load', 'water', 'mood', 'amount of sleep', 'physical activity']\n",
      "cur_pvalue: 0.0006300727332541092\n",
      "['cognitive load', 'water', 'mood', 'amount of sleep', 'physical activity', '1/2', '2/3']\n",
      "[-0.46 -1.17 -0.4   0.16  0.47 -6.71  1.04]\n",
      "accuracy: 16\n"
     ]
    }
   ],
   "source": [
    "import algorithms\n",
    "from data_manipulation import filter, avg_filter\n",
    "from algorithms import stepwise_regression\n",
    "\n",
    "\n",
    "in_threshold = 0.3\n",
    "out_threshold = 0.05\n",
    "\n",
    "sderived = 'quality of sleep'\n",
    "data = algorithms.load_data('15days.csv', sderived, num_categories)\n",
    "lbasics = list(data.columns.values)\n",
    "lbasics.remove(sderived)\n",
    "\n",
    "print(f'num days: {data.shape[0]}')\n",
    "\n",
    "(fit_model, param_in_model, cur_pvalue) = stepwise_regression(data, sderived, lbasics, in_threshold, out_threshold)\n",
    "print(f'param_in_model: {param_in_model}')\n",
    "print(f'cur_pvalue: {cur_pvalue}')\n",
    "\n",
    "# print(fit_model.summary())\n",
    "print(fit_model.model.exog_names)\n",
    "print(fit_model.params.values.round(2))\n",
    "\n",
    "import evaluation\n",
    "distance = evaluation.distance_vec(data, sderived, param_in_model, fit_model)\n",
    "print(f'accuracy: {evaluation.accuracy(distance)}')"
   ]
  },
  {
   "cell_type": "markdown",
   "metadata": {},
   "source": [
    "# Mom Data"
   ]
  },
  {
   "cell_type": "code",
   "execution_count": 8,
   "metadata": {},
   "outputs": [
    {
     "name": "stdout",
     "output_type": "stream",
     "text": [
      "num days: 15\n",
      "param_in_model: ['quality of sleep', 'time socializing', 'mood', 'phiscal activity', 'cognative load']\n",
      "cur_pvalue: 3.79767364382881e-05\n",
      "['quality of sleep', 'time socializing', 'mood', 'phiscal activity', 'cognative load', '1/2', '2/3']\n",
      "[ 110.33 -150.56   -2.07   92.63   41.24   64.16    4.13]\n",
      "accuracy: 15\n"
     ]
    }
   ],
   "source": [
    "import algorithms\n",
    "from data_manipulation import filter, avg_filter\n",
    "from algorithms import stepwise_regression\n",
    "\n",
    "\n",
    "in_threshold = 0.3\n",
    "out_threshold = 0.05\n",
    "\n",
    "sderived = 'amount of sleep'\n",
    "data = algorithms.load_data('mama.csv', sderived, num_categories)\n",
    "lbasics = list(data.columns.values)\n",
    "lbasics.remove(sderived)\n",
    "\n",
    "print(f'num days: {data.shape[0]}')\n",
    "\n",
    "(fit_model, param_in_model, cur_pvalue) = stepwise_regression(data, sderived, lbasics, in_threshold, out_threshold)\n",
    "print(f'param_in_model: {param_in_model}')\n",
    "print(f'cur_pvalue: {cur_pvalue}')\n",
    "\n",
    "# print(fit_model.summary())\n",
    "print(fit_model.model.exog_names)\n",
    "print(fit_model.params.values.round(2))\n",
    "\n",
    "import evaluation\n",
    "distance = evaluation.distance_vec(data, sderived, param_in_model, fit_model)\n",
    "print(f'accuracy: {evaluation.accuracy(distance)}')"
   ]
  },
  {
   "cell_type": "code",
   "execution_count": 9,
   "metadata": {},
   "outputs": [
    {
     "name": "stdout",
     "output_type": "stream",
     "text": [
      "num days: 15\n",
      "param_in_model: ['water', 'time socializing', 'mood', 'amount of sleep', 'phiscal activity']\n",
      "cur_pvalue: 0.0001724243979238595\n",
      "['water', 'time socializing', 'mood', 'amount of sleep', 'phiscal activity', '1/2', '2/3']\n",
      "[-124.51  -63.15  -48.16  127.52  103.65  342.11    5.55]\n",
      "accuracy: 15\n"
     ]
    }
   ],
   "source": [
    "import algorithms\n",
    "from data_manipulation import filter, avg_filter\n",
    "from algorithms import stepwise_regression\n",
    "\n",
    "\n",
    "in_threshold = 0.3\n",
    "out_threshold = 0.05\n",
    "\n",
    "sderived = 'quality of sleep'\n",
    "data = algorithms.load_data('mama.csv', sderived, num_categories)\n",
    "lbasics = list(data.columns.values)\n",
    "lbasics.remove(sderived)\n",
    "\n",
    "print(f'num days: {data.shape[0]}')\n",
    "\n",
    "(fit_model, param_in_model, cur_pvalue) = stepwise_regression(data, sderived, lbasics, in_threshold, out_threshold)\n",
    "print(f'param_in_model: {param_in_model}')\n",
    "print(f'cur_pvalue: {cur_pvalue}')\n",
    "\n",
    "# print(fit_model.summary())\n",
    "print(fit_model.model.exog_names)\n",
    "print(fit_model.params.values.round(2))\n",
    "\n",
    "import evaluation\n",
    "distance = evaluation.distance_vec(data, sderived, param_in_model, fit_model)\n",
    "print(f'accuracy: {evaluation.accuracy(distance)}')"
   ]
  },
  {
   "cell_type": "markdown",
   "metadata": {},
   "source": [
    "## Grandma"
   ]
  },
  {
   "cell_type": "code",
   "execution_count": 10,
   "metadata": {},
   "outputs": [
    {
     "name": "stdout",
     "output_type": "stream",
     "text": [
      "num days: 15\n",
      "param_in_model: ['qualitiy of sleep', 'mood', 'phiscal activity']\n",
      "cur_pvalue: 4.0208637391789656e-05\n",
      "['qualitiy of sleep', 'mood', 'phiscal activity', '1/2', '2/3']\n",
      "[ 0.6   0.34 -0.07 -2.49  0.54]\n",
      "accuracy: 15\n"
     ]
    }
   ],
   "source": [
    "import algorithms\n",
    "from data_manipulation import filter, avg_filter\n",
    "from algorithms import stepwise_regression\n",
    "\n",
    "\n",
    "in_threshold = 0.3\n",
    "out_threshold = 0.05\n",
    "\n",
    "sderived = 'amount of sleep'\n",
    "data = algorithms.load_data('./grandma.csv', sderived, num_categories)\n",
    "lbasics = list(data.columns.values)\n",
    "lbasics.remove(sderived)\n",
    "\n",
    "print(f'num days: {data.shape[0]}')\n",
    "\n",
    "(fit_model, param_in_model, cur_pvalue) = stepwise_regression(data, sderived, lbasics, in_threshold, out_threshold)\n",
    "print(f'param_in_model: {param_in_model}')\n",
    "print(f'cur_pvalue: {cur_pvalue}')\n",
    "\n",
    "# print(fit_model.summary())\n",
    "print(fit_model.model.exog_names)\n",
    "print(fit_model.params.values.round(2))\n",
    "\n",
    "import evaluation\n",
    "distance = evaluation.distance_vec(data, sderived, param_in_model, fit_model)\n",
    "print(f'accuracy: {evaluation.accuracy(distance)}')"
   ]
  },
  {
   "cell_type": "code",
   "execution_count": 11,
   "metadata": {},
   "outputs": [
    {
     "name": "stdout",
     "output_type": "stream",
     "text": [
      "num days: 15\n",
      "param_in_model: ['qualitiy of sleep', 'mood', 'amount of sleep']\n",
      "cur_pvalue: 7.97558845896097e-05\n",
      "['qualitiy of sleep', 'mood', 'amount of sleep', '1/2', '2/3']\n",
      "[-41.8   31.04  62.37 221.53   4.34]\n",
      "accuracy: 15\n"
     ]
    }
   ],
   "source": [
    "import algorithms\n",
    "from data_manipulation import filter, avg_filter\n",
    "from algorithms import stepwise_regression\n",
    "\n",
    "\n",
    "in_threshold = 0.3\n",
    "out_threshold = 0.05\n",
    "\n",
    "sderived = 'quality of sleep'\n",
    "data = algorithms.load_data('./grandma.csv', sderived, num_categories)\n",
    "lbasics = list(data.columns.values)\n",
    "lbasics.remove(sderived)\n",
    "\n",
    "print(f'num days: {data.shape[0]}')\n",
    "\n",
    "(fit_model, param_in_model, cur_pvalue) = stepwise_regression(data, sderived, lbasics, in_threshold, out_threshold)\n",
    "print(f'param_in_model: {param_in_model}')\n",
    "print(f'cur_pvalue: {cur_pvalue}')\n",
    "\n",
    "# print(fit_model.summary())\n",
    "print(fit_model.model.exog_names)\n",
    "print(fit_model.params.values.round(2))\n",
    "\n",
    "import evaluation\n",
    "distance = evaluation.distance_vec(data, sderived, param_in_model, fit_model)\n",
    "print(f'accuracy: {evaluation.accuracy(distance)}')"
   ]
  },
  {
   "cell_type": "markdown",
   "metadata": {},
   "source": [
    "## Roman"
   ]
  },
  {
   "cell_type": "code",
   "execution_count": 12,
   "metadata": {},
   "outputs": [
    {
     "name": "stdout",
     "output_type": "stream",
     "text": [
      "num days: 12\n",
      "param_in_model: ['quality of sleep', 'qualitiy of sleep', 'time socializing', 'mood', 'phiscal activity', 'cognative load', 'water']\n",
      "cur_pvalue: 0.005360657316053963\n",
      "['quality of sleep', 'qualitiy of sleep', 'time socializing', 'mood', 'phiscal activity', 'cognative load', 'water', '1/2', '2/3']\n",
      "[ 213.91   82.38   95.92   45.27  130.19 -172.52   -7.34   -4.06    5.75]\n",
      "accuracy: 12\n"
     ]
    }
   ],
   "source": [
    "import algorithms\n",
    "from data_manipulation import filter, avg_filter\n",
    "from algorithms import stepwise_regression\n",
    "\n",
    "\n",
    "in_threshold = 0.3\n",
    "out_threshold = 0.05\n",
    "\n",
    "sderived = 'amount of sleep'\n",
    "data = algorithms.load_data('./Roman.csv', sderived, num_categories)\n",
    "lbasics = list(data.columns.values)\n",
    "lbasics.remove(sderived)\n",
    "\n",
    "print(f'num days: {data.shape[0]}')\n",
    "\n",
    "(fit_model, param_in_model, cur_pvalue) = stepwise_regression(data, sderived, lbasics, in_threshold, out_threshold)\n",
    "print(f'param_in_model: {param_in_model}')\n",
    "print(f'cur_pvalue: {cur_pvalue}')\n",
    "\n",
    "# print(fit_model.summary())\n",
    "print(fit_model.model.exog_names)\n",
    "print(fit_model.params.values.round(2))\n",
    "\n",
    "import evaluation\n",
    "distance = evaluation.distance_vec(data, sderived, param_in_model, fit_model)\n",
    "print(f'accuracy: {evaluation.accuracy(distance)}')"
   ]
  },
  {
   "cell_type": "code",
   "execution_count": 13,
   "metadata": {},
   "outputs": [
    {
     "ename": "Exception",
     "evalue": "can't category derived, not enough unique values.",
     "output_type": "error",
     "traceback": [
      "\u001b[1;31m---------------------------------------------------------------------------\u001b[0m",
      "\u001b[1;31mException\u001b[0m                                 Traceback (most recent call last)",
      "\u001b[1;32m~\\AppData\\Local\\Temp/ipykernel_18656/2462927656.py\u001b[0m in \u001b[0;36m<module>\u001b[1;34m\u001b[0m\n\u001b[0;32m      8\u001b[0m \u001b[1;33m\u001b[0m\u001b[0m\n\u001b[0;32m      9\u001b[0m \u001b[0msderived\u001b[0m \u001b[1;33m=\u001b[0m \u001b[1;34m'quality of sleep'\u001b[0m\u001b[1;33m\u001b[0m\u001b[1;33m\u001b[0m\u001b[0m\n\u001b[1;32m---> 10\u001b[1;33m \u001b[0mdata\u001b[0m \u001b[1;33m=\u001b[0m \u001b[0malgorithms\u001b[0m\u001b[1;33m.\u001b[0m\u001b[0mload_data\u001b[0m\u001b[1;33m(\u001b[0m\u001b[1;34m'./Roman.csv'\u001b[0m\u001b[1;33m,\u001b[0m \u001b[0msderived\u001b[0m\u001b[1;33m,\u001b[0m \u001b[0mnum_categories\u001b[0m\u001b[1;33m)\u001b[0m\u001b[1;33m\u001b[0m\u001b[1;33m\u001b[0m\u001b[0m\n\u001b[0m\u001b[0;32m     11\u001b[0m \u001b[0mlbasics\u001b[0m \u001b[1;33m=\u001b[0m \u001b[0mlist\u001b[0m\u001b[1;33m(\u001b[0m\u001b[0mdata\u001b[0m\u001b[1;33m.\u001b[0m\u001b[0mcolumns\u001b[0m\u001b[1;33m.\u001b[0m\u001b[0mvalues\u001b[0m\u001b[1;33m)\u001b[0m\u001b[1;33m\u001b[0m\u001b[1;33m\u001b[0m\u001b[0m\n\u001b[0;32m     12\u001b[0m \u001b[0mlbasics\u001b[0m\u001b[1;33m.\u001b[0m\u001b[0mremove\u001b[0m\u001b[1;33m(\u001b[0m\u001b[0msderived\u001b[0m\u001b[1;33m)\u001b[0m\u001b[1;33m\u001b[0m\u001b[1;33m\u001b[0m\u001b[0m\n",
      "\u001b[1;32mc:\\Users\\do2vl\\Desktop\\soft-project\\soft-proj\\labs\\algorithms.py\u001b[0m in \u001b[0;36mload_data\u001b[1;34m(csv_path, sderived, num_categories)\u001b[0m\n\u001b[0;32m     54\u001b[0m \u001b[1;32mdef\u001b[0m \u001b[0mload_data\u001b[0m\u001b[1;33m(\u001b[0m\u001b[0mcsv_path\u001b[0m\u001b[1;33m,\u001b[0m \u001b[0msderived\u001b[0m \u001b[1;33m,\u001b[0m \u001b[0mnum_categories\u001b[0m \u001b[1;33m=\u001b[0m \u001b[1;36m5\u001b[0m\u001b[1;33m)\u001b[0m\u001b[1;33m:\u001b[0m\u001b[1;33m\u001b[0m\u001b[1;33m\u001b[0m\u001b[0m\n\u001b[0;32m     55\u001b[0m     \u001b[0mdata_diam\u001b[0m \u001b[1;33m=\u001b[0m \u001b[0mpd\u001b[0m\u001b[1;33m.\u001b[0m\u001b[0mread_csv\u001b[0m\u001b[1;33m(\u001b[0m\u001b[0mcsv_path\u001b[0m\u001b[1;33m,\u001b[0m \u001b[0mdtype\u001b[0m \u001b[1;33m=\u001b[0m  \u001b[0mnp\u001b[0m\u001b[1;33m.\u001b[0m\u001b[0mdouble\u001b[0m\u001b[1;33m)\u001b[0m\u001b[1;33m\u001b[0m\u001b[1;33m\u001b[0m\u001b[0m\n\u001b[1;32m---> 56\u001b[1;33m     \u001b[0mcat_derivied\u001b[0m \u001b[1;33m=\u001b[0m \u001b[0mcategories_derived\u001b[0m\u001b[1;33m(\u001b[0m\u001b[0mdata_diam\u001b[0m\u001b[1;33m[\u001b[0m\u001b[0msderived\u001b[0m\u001b[1;33m]\u001b[0m\u001b[1;33m,\u001b[0m \u001b[0mnum_categories\u001b[0m\u001b[1;33m)\u001b[0m\u001b[1;33m\u001b[0m\u001b[1;33m\u001b[0m\u001b[0m\n\u001b[0m\u001b[0;32m     57\u001b[0m     \u001b[0mdata_diam\u001b[0m\u001b[1;33m[\u001b[0m\u001b[0msderived\u001b[0m\u001b[1;33m]\u001b[0m \u001b[1;33m=\u001b[0m \u001b[0mcat_derivied\u001b[0m\u001b[1;33m\u001b[0m\u001b[1;33m\u001b[0m\u001b[0m\n\u001b[0;32m     58\u001b[0m     \u001b[1;32mreturn\u001b[0m \u001b[0mdata_diam\u001b[0m\u001b[1;33m\u001b[0m\u001b[1;33m\u001b[0m\u001b[0m\n",
      "\u001b[1;32mc:\\Users\\do2vl\\Desktop\\soft-project\\soft-proj\\labs\\algorithms.py\u001b[0m in \u001b[0;36mcategories_derived\u001b[1;34m(pd_derivied, num_categories)\u001b[0m\n\u001b[0;32m     38\u001b[0m \u001b[1;33m\u001b[0m\u001b[0m\n\u001b[0;32m     39\u001b[0m \u001b[1;32mdef\u001b[0m \u001b[0mcategories_derived\u001b[0m\u001b[1;33m(\u001b[0m\u001b[0mpd_derivied\u001b[0m\u001b[1;33m,\u001b[0m \u001b[0mnum_categories\u001b[0m \u001b[1;33m=\u001b[0m \u001b[1;36m5\u001b[0m\u001b[1;33m)\u001b[0m\u001b[1;33m:\u001b[0m\u001b[1;33m\u001b[0m\u001b[1;33m\u001b[0m\u001b[0m\n\u001b[1;32m---> 40\u001b[1;33m     \u001b[0mboundaries\u001b[0m \u001b[1;33m=\u001b[0m \u001b[0mgenerate_boundary\u001b[0m\u001b[1;33m(\u001b[0m\u001b[0mpd_derivied\u001b[0m\u001b[1;33m,\u001b[0m \u001b[0mnum_categories\u001b[0m\u001b[1;33m)\u001b[0m\u001b[1;33m\u001b[0m\u001b[1;33m\u001b[0m\u001b[0m\n\u001b[0m\u001b[0;32m     41\u001b[0m     \u001b[1;32mreturn\u001b[0m \u001b[0mcategories_derived_with_boundaries\u001b[0m\u001b[1;33m(\u001b[0m\u001b[0mpd_derivied\u001b[0m\u001b[1;33m,\u001b[0m \u001b[0mboundaries\u001b[0m\u001b[1;33m,\u001b[0m \u001b[0mnum_categories\u001b[0m\u001b[1;33m)\u001b[0m\u001b[1;33m\u001b[0m\u001b[1;33m\u001b[0m\u001b[0m\n\u001b[0;32m     42\u001b[0m \u001b[1;33m\u001b[0m\u001b[0m\n",
      "\u001b[1;32mc:\\Users\\do2vl\\Desktop\\soft-project\\soft-proj\\labs\\algorithms.py\u001b[0m in \u001b[0;36mgenerate_boundary\u001b[1;34m(pd_derivied, num_categories)\u001b[0m\n\u001b[0;32m     14\u001b[0m     \u001b[0mderived\u001b[0m \u001b[1;33m=\u001b[0m \u001b[0mlist\u001b[0m\u001b[1;33m(\u001b[0m\u001b[0mset\u001b[0m\u001b[1;33m(\u001b[0m\u001b[0mpd_derivied\u001b[0m\u001b[1;33m.\u001b[0m\u001b[0mto_numpy\u001b[0m\u001b[1;33m(\u001b[0m\u001b[1;33m)\u001b[0m\u001b[1;33m)\u001b[0m\u001b[1;33m)\u001b[0m\u001b[1;33m\u001b[0m\u001b[1;33m\u001b[0m\u001b[0m\n\u001b[0;32m     15\u001b[0m     \u001b[1;32mif\u001b[0m  \u001b[0mlen\u001b[0m\u001b[1;33m(\u001b[0m\u001b[0mderived\u001b[0m\u001b[1;33m)\u001b[0m \u001b[1;33m<\u001b[0m \u001b[0mnum_categories\u001b[0m \u001b[1;33m:\u001b[0m\u001b[1;33m\u001b[0m\u001b[1;33m\u001b[0m\u001b[0m\n\u001b[1;32m---> 16\u001b[1;33m         \u001b[1;32mraise\u001b[0m \u001b[0mException\u001b[0m\u001b[1;33m(\u001b[0m\u001b[1;34m\"can't category derived, not enough unique values.\"\u001b[0m\u001b[1;33m)\u001b[0m\u001b[1;33m\u001b[0m\u001b[1;33m\u001b[0m\u001b[0m\n\u001b[0m\u001b[0;32m     17\u001b[0m     \u001b[0mderived\u001b[0m\u001b[1;33m.\u001b[0m\u001b[0msort\u001b[0m\u001b[1;33m(\u001b[0m\u001b[1;33m)\u001b[0m\u001b[1;33m\u001b[0m\u001b[1;33m\u001b[0m\u001b[0m\n\u001b[0;32m     18\u001b[0m     \u001b[0mstep\u001b[0m \u001b[1;33m=\u001b[0m \u001b[0mlen\u001b[0m\u001b[1;33m(\u001b[0m\u001b[0mderived\u001b[0m\u001b[1;33m)\u001b[0m\u001b[1;33m//\u001b[0m\u001b[0mnum_categories\u001b[0m\u001b[1;33m\u001b[0m\u001b[1;33m\u001b[0m\u001b[0m\n",
      "\u001b[1;31mException\u001b[0m: can't category derived, not enough unique values."
     ]
    }
   ],
   "source": [
    "import algorithms\n",
    "from data_manipulation import filter, avg_filter\n",
    "from algorithms import stepwise_regression\n",
    "\n",
    "\n",
    "in_threshold = 0.3\n",
    "out_threshold = 0.05\n",
    "\n",
    "sderived = 'quality of sleep'\n",
    "data = algorithms.load_data('./Roman.csv', sderived, num_categories)\n",
    "lbasics = list(data.columns.values)\n",
    "lbasics.remove(sderived)\n",
    "\n",
    "print(f'num days: {data.shape[0]}')\n",
    "\n",
    "(fit_model, param_in_model, cur_pvalue) = stepwise_regression(data, sderived, lbasics, in_threshold, out_threshold)\n",
    "print(f'param_in_model: {param_in_model}')\n",
    "print(f'cur_pvalue: {cur_pvalue}')\n",
    "\n",
    "# print(fit_model.summary())\n",
    "print(fit_model.model.exog_names)\n",
    "print(fit_model.params.values.round(2))\n",
    "\n",
    "import evaluation\n",
    "distance = evaluation.distance_vec(data, sderived, param_in_model, fit_model)\n",
    "print(f'accuracy: {evaluation.accuracy(distance)}')"
   ]
  }
 ],
 "metadata": {
  "interpreter": {
   "hash": "8e78747238e939523e0ccabebcbcad03fef5307bc0952566b45b121ad126abc3"
  },
  "kernelspec": {
   "display_name": "Python 3.8.11 ('base')",
   "language": "python",
   "name": "python3"
  },
  "language_info": {
   "codemirror_mode": {
    "name": "ipython",
    "version": 3
   },
   "file_extension": ".py",
   "mimetype": "text/x-python",
   "name": "python",
   "nbconvert_exporter": "python",
   "pygments_lexer": "ipython3",
   "version": "3.8.11"
  },
  "orig_nbformat": 4
 },
 "nbformat": 4,
 "nbformat_minor": 2
}
