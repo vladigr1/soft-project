{
 "cells": [
  {
   "cell_type": "markdown",
   "metadata": {},
   "source": [
    "# Load files"
   ]
  },
  {
   "cell_type": "code",
   "execution_count": 1,
   "metadata": {},
   "outputs": [
    {
     "name": "stdout",
     "output_type": "stream",
     "text": [
      "   mood  water\n",
      "0   4.0    2.0\n",
      "1   5.0    1.0\n"
     ]
    }
   ],
   "source": [
    "import pandas as pd\n",
    "import numpy as np\n",
    "from algorithms import load_data\n",
    "data_diam = load_data('data.csv')\n",
    "print(data_diam[['mood', 'water']][0:2])"
   ]
  },
  {
   "cell_type": "markdown",
   "metadata": {},
   "source": [
    "# Ordinal logistic regression - playground\n",
    "\n",
    "test logistic regression on derived modd and basic amount sleep phiscal activity and water\n",
    "\n",
    "The method determines which solver from scipy.optimize is used, and it can be chosen from among the following strings:\n",
    "\n",
    "*    ‘newton’ for Newton-Raphson, ‘nm’ for Nelder-Mead\n",
    "\n",
    "*    ‘bfgs’ for Broyden-Fletcher-Goldfarb-Shanno (BFGS)\n",
    "\n",
    "*   ‘lbfgs’ for limited-memory BFGS with optional box constraints\n",
    "\n",
    "*    ‘powell’ for modified Powell’s method\n",
    "\n",
    "*    ‘cg’ for conjugate gradient\n",
    "\n",
    "*   ‘ncg’ for Newton-conjugate gradient\n",
    "\n",
    "*   ‘basinhopping’ for global basin-hopping solver\n",
    "\n",
    "*   ‘minimize’ for generic wrapper of scipy minimize (BFGS by default)\n"
   ]
  },
  {
   "cell_type": "code",
   "execution_count": 2,
   "metadata": {},
   "outputs": [
    {
     "name": "stdout",
     "output_type": "stream",
     "text": [
      "                             OrderedModel Results                             \n",
      "==============================================================================\n",
      "Dep. Variable:                   mood   Log-Likelihood:            -1.0450e-05\n",
      "Model:                   OrderedModel   AIC:                             14.00\n",
      "Method:            Maximum Likelihood   BIC:                             12.54\n",
      "Date:                Mon, 16 May 2022                                         \n",
      "Time:                        08:48:04                                         \n",
      "No. Observations:                   6                                         \n",
      "Df Residuals:                      -1                                         \n",
      "Df Model:                           7                                         \n",
      "=====================================================================================\n",
      "                        coef    std err          z      P>|z|      [0.025      0.975]\n",
      "-------------------------------------------------------------------------------------\n",
      "amount of sleep     112.4381    3.2e+06   3.52e-05      1.000   -6.27e+06    6.27e+06\n",
      "physical activity   -88.0881    3.2e+06  -2.75e-05      1.000   -6.27e+06    6.27e+06\n",
      "water              -263.1780   1.06e+06     -0.000      1.000   -2.08e+06    2.08e+06\n",
      "1.0/2.0            -951.1628   1.06e+06     -0.001      0.999   -2.09e+06    2.08e+06\n",
      "2.0/3.0               3.8598    196.124      0.020      0.984    -380.537     388.257\n",
      "3.0/4.0               5.1829    210.222      0.025      0.980    -406.845     417.211\n",
      "4.0/5.0               6.1544    122.395      0.050      0.960    -233.734     246.043\n",
      "=====================================================================================\n"
     ]
    }
   ],
   "source": [
    "from statsmodels.miscmodels.ordinal_model import OrderedModel\n",
    "import numpy as np\n",
    "np.seterr(divide='ignore', invalid='ignore')\n",
    "\n",
    "derived = 'mood'\n",
    "lbasics = ['amount of sleep',  'physical activity', 'water']\n",
    "from algorithms import generateOLR\n",
    "res_log = generateOLR(data_diam, derived, lbasics)\n",
    "print(res_log.summary())"
   ]
  },
  {
   "cell_type": "markdown",
   "metadata": {},
   "source": [
    "# check t value to p value"
   ]
  },
  {
   "cell_type": "code",
   "execution_count": 3,
   "metadata": {},
   "outputs": [
    {
     "name": "stdout",
     "output_type": "stream",
     "text": [
      "res/pvalue: 0.2665662286967403\n"
     ]
    }
   ],
   "source": [
    "from algorithms import ttest \n",
    "res = ttest(res_log, data_diam, 'mood', ['amount of sleep',  'physical activity', 'water'])\n",
    "print(f'res/pvalue: {res}')"
   ]
  },
  {
   "cell_type": "markdown",
   "metadata": {},
   "source": [
    "# pred"
   ]
  },
  {
   "cell_type": "code",
   "execution_count": 4,
   "metadata": {},
   "outputs": [
    {
     "name": "stdout",
     "output_type": "stream",
     "text": [
      "[[0.1  0.2  0.2  0.1  0.4 ]\n",
      " [0.4  0.4  0.1  0.04 0.06]]\n",
      "(2, 5)\n",
      "[4, 0]\n",
      "[4.0, 2.0]\n"
     ]
    }
   ],
   "source": [
    "pred_row = np.array(\n",
    "    [[0.1, 0.2, 0.2, 0.1 , 0.4],\n",
    "    [0.4, 0.4, 0.1, 0.04, 0.06],\n",
    "    ]\n",
    ")\n",
    "print(pred_row)\n",
    "print(pred_row.shape)\n",
    "max_val = pred_row[:].max(1).reshape((-1,1))\n",
    "# print(max_val)\n",
    "(pred_i , pred_j) = np.where(pred_row == max_val) # get list indexe\n",
    "pred = list(map(lambda x: pred_j[x], set(pred_i)))\n",
    "print(pred)\n",
    "\n",
    "index_vec = np.array([1,2,3,4,5])\n",
    "pred = [np.sum(np.multiply(index_vec,pred_row[i][:])).round() for i in range(pred_row.shape[0])]\n",
    "print(pred)"
   ]
  },
  {
   "cell_type": "markdown",
   "metadata": {},
   "source": []
  },
  {
   "cell_type": "markdown",
   "metadata": {},
   "source": [
    "# Stepwise"
   ]
  },
  {
   "cell_type": "code",
   "execution_count": 5,
   "metadata": {},
   "outputs": [
    {
     "name": "stdout",
     "output_type": "stream",
     "text": [
      "   mood amount of sleep  physical activity  cognative load  water  \\\n",
      "0   4.0               4                5.0             2.0    2.0   \n",
      "1   5.0               1                1.0             3.0    1.0   \n",
      "2   4.0               5                4.0             2.0    2.0   \n",
      "3   1.0               3                4.0             5.0    4.0   \n",
      "4   2.0               2                1.0             3.0    4.0   \n",
      "5   3.0               3                2.0             2.0    4.0   \n",
      "\n",
      "   quality of sleep  \n",
      "0               5.0  \n",
      "1               3.0  \n",
      "2               4.0  \n",
      "3               2.0  \n",
      "4               2.0  \n",
      "5               3.0  \n",
      "add-params: ['cognative load'], pvalue: 0.13062572116925905\n",
      "add-params: ['cognative load', 'physical activity'], pvalue: 0.13062572116925905\n",
      "add-params: ['cognative load', 'physical activity', 'amount of sleep'], pvalue: 0.2107520298688622\n",
      "add-params: ['cognative load', 'physical activity', 'amount of sleep', 'water'], pvalue: 0.2665662286967403\n",
      "add-params: ['cognative load', 'physical activity', 'amount of sleep', 'water', 'quality of sleep'], pvalue: 0.2665662286967403\n",
      "param_in_model: ['cognative load', 'physical activity', 'amount of sleep', 'water', 'quality of sleep']\n"
     ]
    }
   ],
   "source": [
    "import numpy as np\n",
    "from algorithms import generateOLR\n",
    "from algorithms import ttest\n",
    "from copy import copy\n",
    "\n",
    "import warnings\n",
    "warnings.filterwarnings(\"ignore\") # ignore warning\n",
    "\n",
    "print(data_diam)\n",
    "\n",
    "data = data_diam\n",
    "in_threshold = 0.3\n",
    "out_threshold = 0.2\n",
    "sderived = 'mood'\n",
    "lbasics = list(data.columns.values)\n",
    "lbasics.remove(sderived)\n",
    "from algorithms import stepwise_regression\n",
    "(fit_model, param_in_model) = stepwise_regression(data, sderived, lbasics, in_threshold, out_threshold)\n",
    "print(f'param_in_model: {param_in_model}')\n"
   ]
  },
  {
   "cell_type": "markdown",
   "metadata": {},
   "source": [
    "# Acurcay and distance vector"
   ]
  },
  {
   "cell_type": "code",
   "execution_count": 6,
   "metadata": {},
   "outputs": [
    {
     "name": "stdout",
     "output_type": "stream",
     "text": [
      "   derived  pred  dist\n",
      "0      4.0     3   1.0\n",
      "1      5.0     4   1.0\n",
      "2      4.0     3   2.0\n",
      "3      1.0     0   1.0\n",
      "4      2.0     1   1.0\n",
      "5      3.0     2   1.0\n",
      "accuracy: 7.0\n"
     ]
    }
   ],
   "source": [
    "import pandas as pd\n",
    "import numpy as np\n",
    "\n",
    "from evaluation import distance_vec\n",
    "data = data_diam\n",
    "sderived = 'mood'\n",
    "lbasics = param_in_model\n",
    "distance = distance_vec(data, sderived, lbasics, fit_model)\n",
    "\n",
    "\n",
    "distance['dist'][2] = 2\n",
    "print(distance)\n",
    "from evaluation import accuracy\n",
    "print(f'accuracy: {accuracy(distance)}')"
   ]
  },
  {
   "cell_type": "markdown",
   "metadata": {},
   "source": [
    "# Filters"
   ]
  },
  {
   "cell_type": "code",
   "execution_count": 19,
   "metadata": {},
   "outputs": [
    {
     "name": "stdout",
     "output_type": "stream",
     "text": [
      "[2, 5]\n"
     ]
    }
   ],
   "source": [
    "from data_manipulation import avg_filter, filter\n",
    "\n",
    "data = [ 1,2,3,4,5,6]\n",
    "filter_size = 3\n",
    "func = avg_filter(filter_size)\n",
    "res = filter(data, func, filter_size)\n",
    "\n",
    "\n",
    "print(res)"
   ]
  }
 ],
 "metadata": {
  "interpreter": {
   "hash": "8e78747238e939523e0ccabebcbcad03fef5307bc0952566b45b121ad126abc3"
  },
  "kernelspec": {
   "display_name": "Python 3.8.11 ('base')",
   "language": "python",
   "name": "python3"
  },
  "language_info": {
   "codemirror_mode": {
    "name": "ipython",
    "version": 3
   },
   "file_extension": ".py",
   "mimetype": "text/x-python",
   "name": "python",
   "nbconvert_exporter": "python",
   "pygments_lexer": "ipython3",
   "version": "3.8.11"
  },
  "orig_nbformat": 4
 },
 "nbformat": 4,
 "nbformat_minor": 2
}
