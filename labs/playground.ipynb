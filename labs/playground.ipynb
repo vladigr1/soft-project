{
 "cells": [
  {
   "cell_type": "markdown",
   "metadata": {},
   "source": [
    "# Load files"
   ]
  },
  {
   "cell_type": "code",
   "execution_count": null,
   "metadata": {},
   "outputs": [],
   "source": [
    "import pandas as pd\n",
    "import numpy as np\n",
    "from algorithms import load_data\n",
    "data_diam = load_data('data.csv','mood')\n",
    "print(data_diam[['mood', 'water']][0:2])"
   ]
  },
  {
   "cell_type": "markdown",
   "metadata": {},
   "source": [
    "# Ordinal logistic regression - playground\n",
    "\n",
    "test logistic regression on derived modd and basic amount sleep phiscal activity and water\n",
    "\n",
    "The method determines which solver from scipy.optimize is used, and it can be chosen from among the following strings:\n",
    "\n",
    "*    ‘newton’ for Newton-Raphson, ‘nm’ for Nelder-Mead\n",
    "\n",
    "*    ‘bfgs’ for Broyden-Fletcher-Goldfarb-Shanno (BFGS)\n",
    "\n",
    "*   ‘lbfgs’ for limited-memory BFGS with optional box constraints\n",
    "\n",
    "*    ‘powell’ for modified Powell’s method\n",
    "\n",
    "*    ‘cg’ for conjugate gradient\n",
    "\n",
    "*   ‘ncg’ for Newton-conjugate gradient\n",
    "\n",
    "*   ‘basinhopping’ for global basin-hopping solver\n",
    "\n",
    "*   ‘minimize’ for generic wrapper of scipy minimize (BFGS by default)\n"
   ]
  },
  {
   "cell_type": "code",
   "execution_count": null,
   "metadata": {},
   "outputs": [],
   "source": [
    "from statsmodels.miscmodels.ordinal_model import OrderedModel\n",
    "import numpy as np\n",
    "np.seterr(divide='ignore', invalid='ignore')\n",
    "\n",
    "derived = 'mood'\n",
    "lbasics = ['amount of sleep',  'physical activity', 'water']\n",
    "from algorithms import generateOLR\n",
    "res_log = generateOLR(data_diam, derived, lbasics)\n",
    "print(res_log.summary())"
   ]
  },
  {
   "cell_type": "markdown",
   "metadata": {},
   "source": [
    "# check t value to p value"
   ]
  },
  {
   "cell_type": "code",
   "execution_count": null,
   "metadata": {},
   "outputs": [],
   "source": [
    "from algorithms import ttest \n",
    "res = ttest(res_log, data_diam, 'mood', ['amount of sleep',  'physical activity', 'water'])\n",
    "print(f'res/pvalue: {res}')"
   ]
  },
  {
   "cell_type": "markdown",
   "metadata": {},
   "source": [
    "# pred"
   ]
  },
  {
   "cell_type": "code",
   "execution_count": null,
   "metadata": {},
   "outputs": [],
   "source": [
    "pred_row = np.array(\n",
    "    [[0.1, 0.2, 0.2, 0.1 , 0.4],\n",
    "    [0.4, 0.4, 0.1, 0.04, 0.06],\n",
    "    ]\n",
    ")\n",
    "print(pred_row)\n",
    "print(pred_row.shape)\n",
    "max_val = pred_row[:].max(1).reshape((-1,1))\n",
    "# print(max_val)\n",
    "(pred_i , pred_j) = np.where(pred_row == max_val) # get list indexe\n",
    "pred = list(map(lambda x: pred_j[x], set(pred_i)))\n",
    "print(pred)\n",
    "\n",
    "index_vec = np.array([1,2,3,4,5])\n",
    "pred = [np.sum(np.multiply(index_vec,pred_row[i][:])).round() for i in range(pred_row.shape[0])]\n",
    "print(pred)"
   ]
  },
  {
   "cell_type": "markdown",
   "metadata": {},
   "source": []
  },
  {
   "cell_type": "markdown",
   "metadata": {},
   "source": [
    "# Stepwise"
   ]
  },
  {
   "cell_type": "code",
   "execution_count": null,
   "metadata": {},
   "outputs": [],
   "source": [
    "import numpy as np\n",
    "from algorithms import generateOLR\n",
    "from algorithms import ttest\n",
    "from copy import copy\n",
    "\n",
    "import warnings\n",
    "warnings.filterwarnings(\"ignore\") # ignore warning\n",
    "\n",
    "#print(data_diam)\n",
    "\n",
    "data = data_diam\n",
    "in_threshold = 0.3\n",
    "out_threshold = 0.2\n",
    "sderived = 'mood'\n",
    "lbasics = list(data.columns.values)\n",
    "lbasics.remove(sderived)\n",
    "from algorithms import stepwise_regression\n",
    "(fit_model, param_in_model, cur_pvalue) = stepwise_regression(data, sderived, lbasics, in_threshold, out_threshold)\n",
    "print(fit_model.summary())\n",
    "print(f'param_in_model: {param_in_model}')\n"
   ]
  },
  {
   "cell_type": "markdown",
   "metadata": {},
   "source": [
    "# Acurcay and distance vector"
   ]
  },
  {
   "cell_type": "code",
   "execution_count": null,
   "metadata": {},
   "outputs": [],
   "source": [
    "import pandas as pd\n",
    "import numpy as np\n",
    "\n",
    "from evaluation import distance_vec\n",
    "data = data_diam\n",
    "sderived = 'mood'\n",
    "lbasics = param_in_model\n",
    "distance = distance_vec(data, sderived, lbasics, fit_model)\n",
    "\n",
    "\n",
    "distance['dist'][2] = 2\n",
    "print(distance)\n",
    "from evaluation import accuracy\n",
    "print(f'accuracy: {accuracy(distance)}')"
   ]
  },
  {
   "cell_type": "markdown",
   "metadata": {},
   "source": [
    "# Filters"
   ]
  },
  {
   "cell_type": "code",
   "execution_count": null,
   "metadata": {},
   "outputs": [],
   "source": [
    "from data_manipulation import avg_filter, filter\n",
    "import numpy as np\n",
    "\n",
    "data = [ 1,2,3,4,5,6]\n",
    "for i in range(3,5):\n",
    "    print(data[1:i])\n",
    "filter_size = 2\n",
    "func = avg_filter(filter_size)\n",
    "res = filter(data, func, filter_size)\n",
    "print(res)"
   ]
  },
  {
   "cell_type": "code",
   "execution_count": null,
   "metadata": {},
   "outputs": [],
   "source": [
    "from data_manipulation import avg_filter, filter\n",
    "import numpy as np\n",
    "# filter before\n",
    "import pandas as pd\n",
    "\n",
    "\n",
    "data = [ 1,2,3,4,5,6]\n",
    "for i in range(3,5):\n",
    "    print(data[1:i])\n",
    "filter_size = 2\n",
    "func = avg_filter(filter_size)\n",
    "data_diam = pd.read_csv(\"data.csv\", dtype=np.double)\n",
    "print(data_diam)\n",
    "lparams = list(data_diam.columns.values)\n",
    "\n",
    "size_sample = data_diam.shape[0]\n",
    "\n",
    "\n",
    "\n",
    "data = np.empty((size_sample-filter_size+1, len(lparams)), dtype=np.double)\n",
    "for i, param in enumerate(lparams):\n",
    "    data[:,i] = filter(data_diam[param].values, func,filter_size)\n",
    "\n",
    "print(data)\n",
    "\n",
    "#df = pd.DataFrame(data, columns=lparams)\n",
    "#print(df)\n",
    "\n",
    "lfilters = [ func ] * len(lparams)\n",
    "from algorithms import load_data_with_fiters\n",
    "sderived = \"amount of sleep\"\n",
    "df = load_data_with_fiters(\"30days.csv\", sderived, lfilters, filter_size)\n",
    "print(df)\n"
   ]
  },
  {
   "cell_type": "markdown",
   "metadata": {},
   "source": [
    "# Evaluation graph"
   ]
  },
  {
   "cell_type": "code",
   "execution_count": 7,
   "metadata": {},
   "outputs": [
    {
     "name": "stdout",
     "output_type": "stream",
     "text": [
      "    mood amount of sleep  physical activity  cognitive load  water  \\\n",
      "0    4.0               3                1.0             0.0    1.5   \n",
      "1    4.0               4                0.0             0.0    1.5   \n",
      "2    1.0               5                3.0             2.0    3.0   \n",
      "3    0.0               5                0.0             3.0    4.0   \n",
      "4    2.0               5               -2.0             0.0    4.0   \n",
      "5    2.5               5                1.5             1.5    5.0   \n",
      "6    2.5               2                0.0             3.0    4.0   \n",
      "7    3.5               1               -3.5             3.0    2.5   \n",
      "8    3.0               2               -0.5             3.0    4.0   \n",
      "9    2.0               2               -1.0             1.5    5.0   \n",
      "10   2.5               4                0.0             2.0    5.0   \n",
      "11   2.5               5                0.5             0.5    3.5   \n",
      "12   3.5               5                0.5             0.5    3.0   \n",
      "13   4.0               5                4.5             2.5    3.5   \n",
      "14   2.0               5                1.5             3.0    2.5   \n",
      "\n",
      "    quality of sleep  \n",
      "0                3.0  \n",
      "1                2.0  \n",
      "2                1.0  \n",
      "3               -1.0  \n",
      "4                0.0  \n",
      "5                2.5  \n",
      "6                3.5  \n",
      "7                0.5  \n",
      "8               -2.5  \n",
      "9               -3.5  \n",
      "10              -1.0  \n",
      "11               3.0  \n",
      "12               2.5  \n",
      "13               2.0  \n",
      "14               2.5  \n"
     ]
    },
    {
     "name": "stderr",
     "output_type": "stream",
     "text": [
      "c:\\Users\\do2vl\\anaconda3\\lib\\site-packages\\statsmodels\\base\\model.py:592: HessianInversionWarning: Inverting hessian failed, no bse or cov_params available\n",
      "  warnings.warn('Inverting hessian failed, no bse or cov_params '\n",
      "c:\\Users\\do2vl\\anaconda3\\lib\\site-packages\\statsmodels\\base\\model.py:592: HessianInversionWarning: Inverting hessian failed, no bse or cov_params available\n",
      "  warnings.warn('Inverting hessian failed, no bse or cov_params '\n"
     ]
    },
    {
     "data": {
      "image/png": "[encoded data removed]",
      "text/plain": [
       "<Figure size 432x288 with 1 Axes>"
      ]
     },
     "metadata": {
      "needs_background": "light"
     },
     "output_type": "display_data"
    }
   ],
   "source": [
    "from data_manipulation import avg_filter, filter\n",
    "import numpy as np\n",
    "# filter before\n",
    "import pandas as pd\n",
    "from evaluation import distance_vec, accuracy\n",
    "from algorithms import stepwise_regression\n",
    "\n",
    "filter_size = 2\n",
    "func = avg_filter(filter_size)\n",
    "in_threshold = 0.3\n",
    "out_threshold = 0.2\n",
    "lfilters = [ func ] * 6\n",
    "\n",
    "\n",
    "from algorithms import load_data_with_fiters\n",
    "sderived = \"amount of sleep\"\n",
    "df = load_data_with_fiters(\"30days.csv\", sderived, lfilters, filter_size)\n",
    "lbasics = list(df.columns.values)\n",
    "lbasics.remove(sderived)\n",
    "\n",
    "\n",
    "print(df.iloc[:15,:])\n",
    "\n",
    "amount_of_days = 15\n",
    "size_data = 25\n",
    "\n",
    "x = []\n",
    "y = []\n",
    "for i in range(size_data-amount_of_days+1):\n",
    "    cur_data = df.iloc[i:i+amount_of_days,:]\n",
    "    if len(x) == 7:\n",
    "        break\n",
    "    try:\n",
    "        (fit_model, param_in_model, cur_pvalue) = stepwise_regression(cur_data, sderived, lbasics)\n",
    "    except:\n",
    "        continue\n",
    "    ac = accuracy(distance_vec(cur_data, sderived, param_in_model, fit_model))\n",
    "    x.append(cur_pvalue)\n",
    "    y.append(ac)\n",
    "\n",
    "\n",
    "import numpy as np\n",
    "import matplotlib.pyplot as plt\n",
    "\n",
    "\n",
    "N = len(x)\n",
    "c = range(N)\n",
    "\n",
    "fig, ax = plt.subplots()\n",
    "\n",
    "scatter = ax.scatter(x, y, c=c)\n",
    "plt.xlabel(\"p-value\")\n",
    "plt.ylabel(\"accuracy\")\n",
    "\n",
    "# produce a legend with the unique colors from the scatter\n",
    "legend1 = ax.legend(*scatter.legend_elements(),\n",
    "                    loc=\"upper right\", title=\"Model number\")\n",
    "ax.add_artist(legend1)\n",
    "\n",
    "plt.show()\n",
    "\n"
   ]
  },
  {
   "cell_type": "code",
   "execution_count": 2,
   "metadata": {},
   "outputs": [
    {
     "name": "stderr",
     "output_type": "stream",
     "text": [
      "c:\\Users\\do2vl\\anaconda3\\lib\\site-packages\\statsmodels\\base\\model.py:592: HessianInversionWarning: Inverting hessian failed, no bse or cov_params available\n",
      "  warnings.warn('Inverting hessian failed, no bse or cov_params '\n",
      "c:\\Users\\do2vl\\anaconda3\\lib\\site-packages\\statsmodels\\base\\model.py:592: HessianInversionWarning: Inverting hessian failed, no bse or cov_params available\n",
      "  warnings.warn('Inverting hessian failed, no bse or cov_params '\n"
     ]
    },
    {
     "data": {
      "image/png": "[encoded data removed]",
      "text/plain": [
       "<Figure size 432x288 with 1 Axes>"
      ]
     },
     "metadata": {
      "needs_background": "light"
     },
     "output_type": "display_data"
    }
   ],
   "source": [
    "from data_manipulation import avg_filter, filter\n",
    "import numpy as np\n",
    "# filter before\n",
    "import pandas as pd\n",
    "from evaluation import distance_vec, accuracy, evaluation_graph\n",
    "from algorithms import stepwise_regression\n",
    "\n",
    "filter_size = 2\n",
    "func = avg_filter(filter_size)\n",
    "in_threshold = 0.3\n",
    "out_threshold = 0.2\n",
    "lfilters = [ func ] * 6\n",
    "\n",
    "\n",
    "from algorithms import load_data_with_fiters\n",
    "sderived = \"amount of sleep\"\n",
    "df = load_data_with_fiters(\"30days.csv\", sderived, lfilters, filter_size)\n",
    "lbasics = list(df.columns.values)\n",
    "lbasics.remove(sderived)\n",
    "\n",
    "amount_of_days = 15\n",
    "\n",
    "x, y = evaluation_graph(data, sderived, lbasics, amount_of_days, stepwise_regression )\n",
    "import numpy as np\n",
    "import matplotlib.pyplot as plt\n",
    "\n",
    "\n",
    "N = len(x)\n",
    "c = range(N)\n",
    "\n",
    "fig, ax = plt.subplots()\n",
    "\n",
    "scatter = ax.scatter(x, y, c=c)\n",
    "plt.xlabel(\"p-value\")\n",
    "plt.ylabel(\"accuracy\")\n",
    "\n",
    "# produce a legend with the unique colors from the scatter\n",
    "legend1 = ax.legend(*scatter.legend_elements(),\n",
    "                loc=\"upper right\", title=\"Model number\")\n",
    "ax.add_artist(legend1)\n",
    "plt.show()"
   ]
  },
  {
   "cell_type": "markdown",
   "metadata": {},
   "source": [
    "# BestSubset"
   ]
  },
  {
   "cell_type": "code",
   "execution_count": 13,
   "metadata": {},
   "outputs": [
    {
     "name": "stdout",
     "output_type": "stream",
     "text": [
      "['mood', 'physical activity', 'water']\n",
      "0.010310876563463172\n"
     ]
    },
    {
     "data": {
      "text/html": [
       "<table class=\"simpletable\">\n",
       "<caption>OrderedModel Results</caption>\n",
       "<tr>\n",
       "  <th>Dep. Variable:</th>      <td>amount of sleep</td>  <th>  Log-Likelihood:    </th> <td> -31.877</td>\n",
       "</tr>\n",
       "<tr>\n",
       "  <th>Model:</th>               <td>OrderedModel</td>    <th>  AIC:               </th> <td>   77.75</td>\n",
       "</tr>\n",
       "<tr>\n",
       "  <th>Method:</th>           <td>Maximum Likelihood</td> <th>  BIC:               </th> <td>   87.33</td>\n",
       "</tr>\n",
       "<tr>\n",
       "  <th>Date:</th>              <td>Mon, 23 May 2022</td>  <th>                     </th>     <td> </td>   \n",
       "</tr>\n",
       "<tr>\n",
       "  <th>Time:</th>                  <td>17:28:41</td>      <th>                     </th>     <td> </td>   \n",
       "</tr>\n",
       "<tr>\n",
       "  <th>No. Observations:</th>       <td>    29</td>       <th>                     </th>     <td> </td>   \n",
       "</tr>\n",
       "<tr>\n",
       "  <th>Df Residuals:</th>           <td>    22</td>       <th>                     </th>     <td> </td>   \n",
       "</tr>\n",
       "<tr>\n",
       "  <th>Df Model:</th>               <td>     7</td>       <th>                     </th>     <td> </td>   \n",
       "</tr>\n",
       "</table>\n",
       "<table class=\"simpletable\">\n",
       "<tr>\n",
       "          <td></td>             <th>coef</th>     <th>std err</th>      <th>z</th>      <th>P>|z|</th>  <th>[0.025</th>    <th>0.975]</th>  \n",
       "</tr>\n",
       "<tr>\n",
       "  <th>mood</th>              <td>   -0.6252</td> <td>    0.287</td> <td>   -2.179</td> <td> 0.029</td> <td>   -1.188</td> <td>   -0.063</td>\n",
       "</tr>\n",
       "<tr>\n",
       "  <th>physical activity</th> <td>    0.6538</td> <td>    0.239</td> <td>    2.730</td> <td> 0.006</td> <td>    0.184</td> <td>    1.123</td>\n",
       "</tr>\n",
       "<tr>\n",
       "  <th>water</th>             <td>   -0.2318</td> <td>    0.355</td> <td>   -0.652</td> <td> 0.514</td> <td>   -0.928</td> <td>    0.465</td>\n",
       "</tr>\n",
       "<tr>\n",
       "  <th>1/2</th>               <td>   -5.6540</td> <td>    1.840</td> <td>   -3.072</td> <td> 0.002</td> <td>   -9.261</td> <td>   -2.047</td>\n",
       "</tr>\n",
       "<tr>\n",
       "  <th>2/3</th>               <td>    0.8397</td> <td>    0.485</td> <td>    1.733</td> <td> 0.083</td> <td>   -0.110</td> <td>    1.789</td>\n",
       "</tr>\n",
       "<tr>\n",
       "  <th>3/4</th>               <td>   -0.0280</td> <td>    0.469</td> <td>   -0.060</td> <td> 0.952</td> <td>   -0.947</td> <td>    0.891</td>\n",
       "</tr>\n",
       "<tr>\n",
       "  <th>4/5</th>               <td>   -0.0695</td> <td>    0.417</td> <td>   -0.166</td> <td> 0.868</td> <td>   -0.888</td> <td>    0.749</td>\n",
       "</tr>\n",
       "</table>"
      ],
      "text/plain": [
       "<class 'statsmodels.iolib.summary.Summary'>\n",
       "\"\"\"\n",
       "                             OrderedModel Results                             \n",
       "==============================================================================\n",
       "Dep. Variable:        amount of sleep   Log-Likelihood:                -31.877\n",
       "Model:                   OrderedModel   AIC:                             77.75\n",
       "Method:            Maximum Likelihood   BIC:                             87.33\n",
       "Date:                Mon, 23 May 2022                                         \n",
       "Time:                        17:28:41                                         \n",
       "No. Observations:                  29                                         \n",
       "Df Residuals:                      22                                         \n",
       "Df Model:                           7                                         \n",
       "=====================================================================================\n",
       "                        coef    std err          z      P>|z|      [0.025      0.975]\n",
       "-------------------------------------------------------------------------------------\n",
       "mood                 -0.6252      0.287     -2.179      0.029      -1.188      -0.063\n",
       "physical activity     0.6538      0.239      2.730      0.006       0.184       1.123\n",
       "water                -0.2318      0.355     -0.652      0.514      -0.928       0.465\n",
       "1/2                  -5.6540      1.840     -3.072      0.002      -9.261      -2.047\n",
       "2/3                   0.8397      0.485      1.733      0.083      -0.110       1.789\n",
       "3/4                  -0.0280      0.469     -0.060      0.952      -0.947       0.891\n",
       "4/5                  -0.0695      0.417     -0.166      0.868      -0.888       0.749\n",
       "=====================================================================================\n",
       "\"\"\""
      ]
     },
     "execution_count": 13,
     "metadata": {},
     "output_type": "execute_result"
    }
   ],
   "source": [
    "from data_manipulation import avg_filter, filter\n",
    "import numpy as np\n",
    "# filter before\n",
    "import pandas as pd\n",
    "from evaluation import distance_vec, accuracy, evaluation_graph\n",
    "from algorithms import ttest, generateOLR\n",
    "\n",
    "\n",
    "filter_size = 2\n",
    "func = avg_filter(filter_size)\n",
    "in_threshold = 0.3\n",
    "out_threshold = 0.2\n",
    "lfilters = [ func ] * 6\n",
    "\n",
    "\n",
    "from algorithms import load_data_with_fiters\n",
    "sderived = \"amount of sleep\"\n",
    "df = load_data_with_fiters(\"30days.csv\", sderived, lfilters, filter_size)\n",
    "lbasics = list(df.columns.values)\n",
    "lbasics.remove(sderived)\n",
    "\n",
    "a = ['a']\n",
    "b = a + ['b']\n",
    "c = a + ['c']\n",
    "\n",
    "\n",
    "def best_subset(data, sderived, lbasics, cur_params=[], index=0):\n",
    "    if index == len(lbasics):\n",
    "        if cur_params == []:\n",
    "            return (None, None, 1)\n",
    "        fit_model = generateOLR(data, sderived, cur_params)\n",
    "        pvalue = ttest(fit_model, data, sderived, cur_params)\n",
    "        return (fit_model, cur_params, pvalue)\n",
    "    \n",
    "    (fit_model_with_i, cur_params_with_i, pvalue_with_i) = best_subset(data, sderived, lbasics,cur_params+[lbasics[index]], index+1)\n",
    "    (fit_model_without_i, cur_params_without_i, pvalue_without_i) = best_subset(data, sderived, lbasics,cur_params, index+1)\n",
    "    if pvalue_with_i < pvalue_without_i:\n",
    "        return (fit_model_with_i, cur_params_with_i, pvalue_with_i) \n",
    "    else:\n",
    "        return (fit_model_without_i, cur_params_without_i, pvalue_without_i)\n",
    "\n",
    "\n",
    "(fit_model_with_i, cur_params_with_i, pvalue_with_i) = best_subset(df, sderived, lbasics)\n",
    "print(cur_params_with_i)\n",
    "print(pvalue_with_i)\n",
    "fit_model_with_i.summary()"
   ]
  },
  {
   "cell_type": "markdown",
   "metadata": {},
   "source": [
    "# Spearman Corelation filtering"
   ]
  },
  {
   "cell_type": "code",
   "execution_count": 2,
   "metadata": {},
   "outputs": [
    {
     "name": "stdout",
     "output_type": "stream",
     "text": [
      "[('a', 1), ('b', 2), ('c', 3)]\n",
      "0.10058324913026247\n",
      "2\n",
      "['mood', 'physical activity', 'cognitive load', 'water', 'quality of sleep']\n",
      "['physical activity', 'mood']\n"
     ]
    }
   ],
   "source": [
    "from scipy.stats import spearmanr\n",
    "from data_manipulation import avg_filter, filter\n",
    "import numpy as np\n",
    "# filter before\n",
    "import pandas as pd\n",
    "from evaluation import distance_vec, accuracy, evaluation_graph\n",
    "from algorithms import ttest, generateOLR\n",
    "\n",
    "\n",
    "filter_size = 2\n",
    "func = avg_filter(filter_size)\n",
    "in_threshold = 0.3\n",
    "out_threshold = 0.2\n",
    "lfilters = [ func ] * 6\n",
    "\n",
    "\n",
    "d = [('c',3),('b',2),('a',1)]\n",
    "sd = d.sort(key = lambda x : x[1])\n",
    "print(d)\n",
    "\n",
    "\n",
    "from algorithms import load_data_with_fiters\n",
    "sderived = \"amount of sleep\"\n",
    "df = load_data_with_fiters(\"30days.csv\", sderived, lfilters, filter_size)\n",
    "lbasics = list(df.columns.values)\n",
    "lbasics.remove(sderived)\n",
    "\n",
    "(correlation, pvalue) = spearmanr(df[sderived], df[lbasics[0]])\n",
    "print(pvalue)\n",
    "\n",
    "\n",
    "pracentage_to_keep = 0.5\n",
    "num_lparam = round(0.5 * len(lbasics))\n",
    "print(num_lparam)\n",
    "\n",
    "print(lbasics)\n",
    "cor_basic = [(parm, spearmanr(df[sderived], df[parm])[1]) for parm in lbasics]\n",
    "\n",
    "cor_basic.sort(key = lambda x: x[1])\n",
    "\n",
    "print([param[0] for param in cor_basic[:num_lparam]])\n"
   ]
  },
  {
   "cell_type": "code",
   "execution_count": 1,
   "metadata": {},
   "outputs": [
    {
     "name": "stdout",
     "output_type": "stream",
     "text": [
      "['physical activity', 'mood']\n",
      "['physical activity', 'mood']\n",
      "0.019494740057652404\n"
     ]
    },
    {
     "data": {
      "text/html": [
       "<table class=\"simpletable\">\n",
       "<caption>OrderedModel Results</caption>\n",
       "<tr>\n",
       "  <th>Dep. Variable:</th>      <td>amount of sleep</td>  <th>  Log-Likelihood:    </th> <td> -32.092</td>\n",
       "</tr>\n",
       "<tr>\n",
       "  <th>Model:</th>               <td>OrderedModel</td>    <th>  AIC:               </th> <td>   76.18</td>\n",
       "</tr>\n",
       "<tr>\n",
       "  <th>Method:</th>           <td>Maximum Likelihood</td> <th>  BIC:               </th> <td>   84.39</td>\n",
       "</tr>\n",
       "<tr>\n",
       "  <th>Date:</th>              <td>Mon, 23 May 2022</td>  <th>                     </th>     <td> </td>   \n",
       "</tr>\n",
       "<tr>\n",
       "  <th>Time:</th>                  <td>18:39:56</td>      <th>                     </th>     <td> </td>   \n",
       "</tr>\n",
       "<tr>\n",
       "  <th>No. Observations:</th>       <td>    29</td>       <th>                     </th>     <td> </td>   \n",
       "</tr>\n",
       "<tr>\n",
       "  <th>Df Residuals:</th>           <td>    23</td>       <th>                     </th>     <td> </td>   \n",
       "</tr>\n",
       "<tr>\n",
       "  <th>Df Model:</th>               <td>     6</td>       <th>                     </th>     <td> </td>   \n",
       "</tr>\n",
       "</table>\n",
       "<table class=\"simpletable\">\n",
       "<tr>\n",
       "          <td></td>             <th>coef</th>     <th>std err</th>      <th>z</th>      <th>P>|z|</th>  <th>[0.025</th>    <th>0.975]</th>  \n",
       "</tr>\n",
       "<tr>\n",
       "  <th>physical activity</th> <td>    0.6424</td> <td>    0.235</td> <td>    2.734</td> <td> 0.006</td> <td>    0.182</td> <td>    1.103</td>\n",
       "</tr>\n",
       "<tr>\n",
       "  <th>mood</th>              <td>   -0.6305</td> <td>    0.280</td> <td>   -2.251</td> <td> 0.024</td> <td>   -1.180</td> <td>   -0.081</td>\n",
       "</tr>\n",
       "<tr>\n",
       "  <th>1/2</th>               <td>   -4.9004</td> <td>    1.398</td> <td>   -3.506</td> <td> 0.000</td> <td>   -7.640</td> <td>   -2.161</td>\n",
       "</tr>\n",
       "<tr>\n",
       "  <th>2/3</th>               <td>    0.8332</td> <td>    0.492</td> <td>    1.694</td> <td> 0.090</td> <td>   -0.131</td> <td>    1.797</td>\n",
       "</tr>\n",
       "<tr>\n",
       "  <th>3/4</th>               <td>   -0.0542</td> <td>    0.469</td> <td>   -0.116</td> <td> 0.908</td> <td>   -0.972</td> <td>    0.864</td>\n",
       "</tr>\n",
       "<tr>\n",
       "  <th>4/5</th>               <td>   -0.0680</td> <td>    0.417</td> <td>   -0.163</td> <td> 0.871</td> <td>   -0.885</td> <td>    0.749</td>\n",
       "</tr>\n",
       "</table>"
      ],
      "text/plain": [
       "<class 'statsmodels.iolib.summary.Summary'>\n",
       "\"\"\"\n",
       "                             OrderedModel Results                             \n",
       "==============================================================================\n",
       "Dep. Variable:        amount of sleep   Log-Likelihood:                -32.092\n",
       "Model:                   OrderedModel   AIC:                             76.18\n",
       "Method:            Maximum Likelihood   BIC:                             84.39\n",
       "Date:                Mon, 23 May 2022                                         \n",
       "Time:                        18:39:56                                         \n",
       "No. Observations:                  29                                         \n",
       "Df Residuals:                      23                                         \n",
       "Df Model:                           6                                         \n",
       "=====================================================================================\n",
       "                        coef    std err          z      P>|z|      [0.025      0.975]\n",
       "-------------------------------------------------------------------------------------\n",
       "physical activity     0.6424      0.235      2.734      0.006       0.182       1.103\n",
       "mood                 -0.6305      0.280     -2.251      0.024      -1.180      -0.081\n",
       "1/2                  -4.9004      1.398     -3.506      0.000      -7.640      -2.161\n",
       "2/3                   0.8332      0.492      1.694      0.090      -0.131       1.797\n",
       "3/4                  -0.0542      0.469     -0.116      0.908      -0.972       0.864\n",
       "4/5                  -0.0680      0.417     -0.163      0.871      -0.885       0.749\n",
       "=====================================================================================\n",
       "\"\"\""
      ]
     },
     "execution_count": 1,
     "metadata": {},
     "output_type": "execute_result"
    }
   ],
   "source": [
    "from scipy.stats import spearmanr\n",
    "from data_manipulation import avg_filter, filter\n",
    "import numpy as np\n",
    "# filter before\n",
    "import pandas as pd\n",
    "from evaluation import distance_vec, accuracy, evaluation_graph\n",
    "from algorithms import ttest,best_subset_with_spearman,filter_lbasic_with_spearman\n",
    "\n",
    "\n",
    "filter_size = 2\n",
    "func = avg_filter(filter_size)\n",
    "in_threshold = 0.3\n",
    "out_threshold = 0.2\n",
    "lfilters = [ func ] * 6\n",
    "from algorithms import load_data_with_fiters\n",
    "sderived = \"amount of sleep\"\n",
    "df = load_data_with_fiters(\"30days.csv\", sderived, lfilters, filter_size)\n",
    "lbasics = list(df.columns.values)\n",
    "lbasics.remove(sderived)\n",
    "\n",
    "spear_param = filter_lbasic_with_spearman(df, sderived, lbasics)\n",
    "print(spear_param)\n",
    "(fit_model_with_i, cur_params_with_i, pvalue_with_i) = best_subset_with_spearman(df, sderived, lbasics)\n",
    "print(cur_params_with_i)\n",
    "print(pvalue_with_i)\n",
    "fit_model_with_i.summary()"
   ]
  }
 ],
 "metadata": {
  "interpreter": {
   "hash": "8e78747238e939523e0ccabebcbcad03fef5307bc0952566b45b121ad126abc3"
  },
  "kernelspec": {
   "display_name": "Python 3.8.11 ('base')",
   "language": "python",
   "name": "python3"
  },
  "language_info": {
   "codemirror_mode": {
    "name": "ipython",
    "version": 3
   },
   "file_extension": ".py",
   "mimetype": "text/x-python",
   "name": "python",
   "nbconvert_exporter": "python",
   "pygments_lexer": "ipython3",
   "version": "3.8.11"
  },
  "orig_nbformat": 4
 },
 "nbformat": 4,
 "nbformat_minor": 2
}
