{
 "cells": [
  {
   "cell_type": "markdown",
   "metadata": {},
   "source": [
    "# all data models"
   ]
  },
  {
   "cell_type": "code",
   "execution_count": 7,
   "metadata": {},
   "outputs": [
    {
     "name": "stdout",
     "output_type": "stream",
     "text": [
      "['a.json', 'asd.json', 'sleep analysis 3.json']\n",
      "a.json\n"
     ]
    }
   ],
   "source": [
    "mypath = \"./Data/DataModel/\"\n",
    "from os import listdir\n",
    "from os.path import isfile, join, basename\n",
    "onlyfiles = [f for f in listdir(mypath) if isfile(join(mypath, f))]\n",
    "print(onlyfiles)\n",
    "import data_model as dm\n",
    "print(basename(mypath + onlyfiles[0]))\n",
    "#dm = dm.DataModel(dm.json_file_to_data_model(mypath + onlyfiles[0]))\n"
   ]
  },
  {
   "cell_type": "markdown",
   "metadata": {},
   "source": [
    "# generate form"
   ]
  },
  {
   "cell_type": "code",
   "execution_count": 8,
   "metadata": {},
   "outputs": [],
   "source": [
    "import pandas as pd\n",
    "import numpy as np\n",
    "\n",
    "df = pd.DataFrame(columns=['a','b','c'])\n",
    "data = 4*[pd.Series(3*[np.nan], index=df.columns )]\n",
    "mod_df  = df.append(data, ignore_index=True)\n",
    "mod_df.to_csv('./test.csv')"
   ]
  },
  {
   "cell_type": "code",
   "execution_count": 9,
   "metadata": {},
   "outputs": [
    {
     "name": "stdout",
     "output_type": "stream",
     "text": [
      "[<param.Parameter object at 0x0000022135B39F70>, <param.Parameter object at 0x0000022135B39BB0>]\n"
     ]
    }
   ],
   "source": [
    "from data_model import DataModel\n",
    "from param import parms\n",
    "\n",
    "parms = list(parms.values())\n",
    "dm = DataModel('Test', parms[0], [parms[1], parms[2]],14)\n",
    "print(dm.basic_parameeters())\n",
    "\n",
    " "
   ]
  },
  {
   "cell_type": "markdown",
   "metadata": {},
   "source": [
    "# pandas add series"
   ]
  },
  {
   "cell_type": "code",
   "execution_count": 11,
   "metadata": {},
   "outputs": [
    {
     "name": "stdout",
     "output_type": "stream",
     "text": [
      "    physical activity  cognative load  water consumption\n",
      "0                 5.0             5.0               -1.0\n",
      "1                -3.0            -3.0                1.0\n",
      "2                 3.0             3.0               -1.0\n",
      "3                 3.0             3.0                5.0\n",
      "4                -3.0            -3.0                1.0\n",
      "5                -1.0            -1.0               -1.0\n",
      "6                 4.0             4.0                4.0\n",
      "7                -4.0            -4.0                2.0\n",
      "8                -3.0            -3.0                4.0\n",
      "9                 2.0             2.0                2.0\n",
      "10               -4.0            -4.0                1.0\n",
      "11                4.0             4.0                3.0\n",
      "12               -3.0            -3.0               -2.0\n",
      "13                4.0             4.0                3.0\n",
      "['water consumption', 'cognative load']\n",
      "['water consumption', 'cognative load', '1/2', '2/3', '3/4', '4/5']\n",
      "[  -9.67376157   59.42885277 -235.76533801    4.52926668    4.96104576\n",
      "    4.75303814]\n"
     ]
    }
   ],
   "source": [
    "import pandas as pd\n",
    "import numpy as np\n",
    "df =  pd.DataFrame(columns=['a', 'b', 'c'])\n",
    "luints = ['a', 'b', 'c']\n",
    "data = [pd.Series(luints, index=df.columns )]\n",
    "data_diam = pd.read_csv('./filled_form.csv')\n",
    "#data_diam = data_diam.drop([0])\n",
    "#data_diam = data_diam.drop(data_diam.columns[[0]], axis=1)\n",
    "\n",
    "\n",
    "values = data_diam.values\n",
    "# print(values[:4,:4])\n",
    "values = values[1:,1:]\n",
    "# print(values[:4,:4])\n",
    "values = np.array(values, dtype=np.double)\n",
    "# print(values[:4,:4])\n",
    "\n",
    "data_diam = pd.DataFrame(values, columns=data_diam.columns[1:], )\n",
    "print(data_diam)\n",
    "# print(data_diam.iloc[:,0])\n",
    "import sys\n",
    "sys.path.insert(0, \"./labs\")\n",
    "from labs.algorithms import categories_derived, stepwise_regression\n",
    "\n",
    "sderived = str(data_diam.columns[0])\n",
    "lbasics = list(data_diam.columns)\n",
    "\n",
    "cat_derivied = categories_derived(data_diam.iloc[:,0])\n",
    "data_diam.iloc[:,0] = cat_derivied\n",
    "\n",
    "\n",
    "lbasics.remove(sderived)\n",
    "\n",
    "(fit_model, param_in_model, cur_pvalue) = stepwise_regression(data_diam, sderived, lbasics)\n",
    "print(param_in_model)\n",
    "\n",
    "print(list(fit_model.params.index))\n",
    "print(fit_model.params.values)"
   ]
  }
 ],
 "metadata": {
  "interpreter": {
   "hash": "8e78747238e939523e0ccabebcbcad03fef5307bc0952566b45b121ad126abc3"
  },
  "kernelspec": {
   "display_name": "Python 3.8.11 ('base')",
   "language": "python",
   "name": "python3"
  },
  "language_info": {
   "codemirror_mode": {
    "name": "ipython",
    "version": 3
   },
   "file_extension": ".py",
   "mimetype": "text/x-python",
   "name": "python",
   "nbconvert_exporter": "python",
   "pygments_lexer": "ipython3",
   "version": "3.8.11"
  },
  "orig_nbformat": 4
 },
 "nbformat": 4,
 "nbformat_minor": 2
}
