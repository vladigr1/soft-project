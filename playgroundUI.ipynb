{
 "cells": [
  {
   "cell_type": "markdown",
   "metadata": {},
   "source": [
    "# all data models"
   ]
  },
  {
   "cell_type": "code",
   "execution_count": null,
   "metadata": {},
   "outputs": [],
   "source": [
    "mypath = \"./Data/DataModel/\"\n",
    "from os import listdir\n",
    "from os.path import isfile, join, basename\n",
    "onlyfiles = [f for f in listdir(mypath) if isfile(join(mypath, f))]\n",
    "print(onlyfiles)\n",
    "import data_model as dm\n",
    "print(basename(mypath + onlyfiles[0]))\n",
    "#dm = dm.DataModel(dm.json_file_to_data_model(mypath + onlyfiles[0]))\n"
   ]
  },
  {
   "cell_type": "markdown",
   "metadata": {},
   "source": [
    "# generate form"
   ]
  },
  {
   "cell_type": "code",
   "execution_count": null,
   "metadata": {},
   "outputs": [],
   "source": [
    "import pandas as pd\n",
    "import numpy as np\n",
    "\n",
    "df = pd.DataFrame(columns=['a','b','c'])\n",
    "data = 4*[pd.Series(3*[np.nan], index=df.columns )]\n",
    "mod_df  = df.append(data, ignore_index=True)\n",
    "mod_df.to_csv('./test.csv')"
   ]
  },
  {
   "cell_type": "code",
   "execution_count": 1,
   "metadata": {},
   "outputs": [
    {
     "name": "stdout",
     "output_type": "stream",
     "text": [
      "[<param.Parameter object at 0x00000187FD2FD460>, <param.Parameter object at 0x00000187FD2FD4F0>]\n"
     ]
    }
   ],
   "source": [
    "from data_model import DataModel\n",
    "from param import parms\n",
    "\n",
    "parms = list(parms.values())\n",
    "dm = DataModel('Test', parms[0], [parms[1], parms[2]],14)\n",
    "print(dm.basic_parameeters())\n",
    "\n",
    " "
   ]
  }
 ],
 "metadata": {
  "interpreter": {
   "hash": "8e78747238e939523e0ccabebcbcad03fef5307bc0952566b45b121ad126abc3"
  },
  "kernelspec": {
   "display_name": "Python 3.8.11 ('base')",
   "language": "python",
   "name": "python3"
  },
  "language_info": {
   "codemirror_mode": {
    "name": "ipython",
    "version": 3
   },
   "file_extension": ".py",
   "mimetype": "text/x-python",
   "name": "python",
   "nbconvert_exporter": "python",
   "pygments_lexer": "ipython3",
   "version": "3.8.11"
  },
  "orig_nbformat": 4
 },
 "nbformat": 4,
 "nbformat_minor": 2
}
