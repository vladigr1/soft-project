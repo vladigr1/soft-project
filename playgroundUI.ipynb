{
 "cells": [
  {
   "cell_type": "markdown",
   "metadata": {},
   "source": [
    "# all data models"
   ]
  },
  {
   "cell_type": "code",
   "execution_count": null,
   "metadata": {},
   "outputs": [],
   "source": [
    "mypath = \"./Data/DataModel/\"\n",
    "from os import listdir\n",
    "from os.path import isfile, join, basename\n",
    "onlyfiles = [f for f in listdir(mypath) if isfile(join(mypath, f))]\n",
    "print(onlyfiles)\n",
    "import data_model as dm\n",
    "print(basename(mypath + onlyfiles[0]))\n",
    "#dm = dm.DataModel(dm.json_file_to_data_model(mypath + onlyfiles[0]))\n"
   ]
  },
  {
   "cell_type": "markdown",
   "metadata": {},
   "source": [
    "# generate form"
   ]
  },
  {
   "cell_type": "code",
   "execution_count": null,
   "metadata": {},
   "outputs": [],
   "source": [
    "import pandas as pd\n",
    "import numpy as np\n",
    "\n",
    "df = pd.DataFrame(columns=['a','b','c'])\n",
    "data = 4*[pd.Series(3*[np.nan], index=df.columns )]\n",
    "mod_df  = df.append(data, ignore_index=True)\n",
    "mod_df.to_csv('./test.csv')"
   ]
  },
  {
   "cell_type": "code",
   "execution_count": null,
   "metadata": {},
   "outputs": [],
   "source": [
    "from data_model import DataModel\n",
    "from param import parms\n",
    "\n",
    "parms = list(parms.values())\n",
    "dm = DataModel('Test', parms[0], [parms[1], parms[2]],14)\n",
    "print(dm.basic_parameeters())\n",
    "\n",
    " "
   ]
  },
  {
   "cell_type": "markdown",
   "metadata": {},
   "source": [
    "# pandas add series"
   ]
  },
  {
   "cell_type": "code",
   "execution_count": null,
   "metadata": {},
   "outputs": [],
   "source": [
    "import pandas as pd\n",
    "import numpy as np\n",
    "df =  pd.DataFrame(columns=['a', 'b', 'c'])\n",
    "luints = ['a', 'b', 'c']\n",
    "data = [pd.Series(luints, index=df.columns )]\n",
    "data_diam = pd.read_csv('./filled_form.csv')\n",
    "#data_diam = data_diam.drop([0])\n",
    "#data_diam = data_diam.drop(data_diam.columns[[0]], axis=1)\n",
    "\n",
    "\n",
    "values = data_diam.values\n",
    "# print(values[:4,:4])\n",
    "values = values[1:,1:]\n",
    "# print(values[:4,:4])\n",
    "values = np.array(values, dtype=np.double)\n",
    "# print(values[:4,:4])\n",
    "\n",
    "data_diam = pd.DataFrame(values, columns=data_diam.columns[1:], )\n",
    "print(data_diam)\n",
    "# print(data_diam.iloc[:,0])\n",
    "import sys\n",
    "sys.path.insert(0, \"./labs\")\n",
    "from labs.algorithms import categories_derived, stepwise_regression\n",
    "\n",
    "sderived = str(data_diam.columns[0])\n",
    "lbasics = list(data_diam.columns)\n",
    "\n",
    "cat_derivied = categories_derived(data_diam.iloc[:,0])\n",
    "data_diam.iloc[:,0] = cat_derivied\n",
    "\n",
    "\n",
    "lbasics.remove(sderived)\n",
    "\n",
    "(fit_model, param_in_model, cur_pvalue) = stepwise_regression(data_diam, sderived, lbasics)\n",
    "print(param_in_model)\n",
    "\n",
    "print(list(fit_model.params.index))\n",
    "print(fit_model.params.values)"
   ]
  },
  {
   "cell_type": "markdown",
   "metadata": {},
   "source": [
    "# Pickle"
   ]
  },
  {
   "cell_type": "code",
   "execution_count": null,
   "metadata": {},
   "outputs": [],
   "source": [
    "import pandas as pd\n",
    "import numpy as np\n",
    "import pickle\n",
    "from report import Report\n",
    "\n",
    "report = Report('./filled_form.csv')\n",
    "with open('./picklTest', 'wb') as file:\n",
    "    pickle.dump(report, file)"
   ]
  },
  {
   "cell_type": "markdown",
   "metadata": {},
   "source": [
    "# reduce "
   ]
  },
  {
   "cell_type": "code",
   "execution_count": null,
   "metadata": {},
   "outputs": [],
   "source": [
    "from functools import reduce\n",
    "\n",
    "a = [1,2,3,4]\n",
    "b = [None, None]\n",
    "c = [1, None]\n",
    "print(reduce(lambda a,b: a & (b is None), b, True ))"
   ]
  },
  {
   "cell_type": "markdown",
   "metadata": {},
   "source": [
    "# report\n"
   ]
  },
  {
   "cell_type": "code",
   "execution_count": 1,
   "metadata": {},
   "outputs": [
    {
     "name": "stdout",
     "output_type": "stream",
     "text": [
      "1    2\n",
      "2    2\n",
      "3    2\n",
      "4    2\n",
      "5    2\n",
      "Name: 1, dtype: int64\n"
     ]
    },
    {
     "data": {
      "text/plain": [
       "<report.Report at 0x203bb904c40>"
      ]
     },
     "execution_count": 1,
     "metadata": {},
     "output_type": "execute_result"
    }
   ],
   "source": [
    "from report import Report\n",
    "import pandas as pd\n",
    "data_diam = pd.DataFrame(6*[[1,2,3]])\n",
    "print(data_diam.iloc[1:,1])\n",
    "Report('./filled_form.csv')"
   ]
  }
 ],
 "metadata": {
  "interpreter": {
   "hash": "8e78747238e939523e0ccabebcbcad03fef5307bc0952566b45b121ad126abc3"
  },
  "kernelspec": {
   "display_name": "Python 3.8.11 ('base')",
   "language": "python",
   "name": "python3"
  },
  "language_info": {
   "codemirror_mode": {
    "name": "ipython",
    "version": 3
   },
   "file_extension": ".py",
   "mimetype": "text/x-python",
   "name": "python",
   "nbconvert_exporter": "python",
   "pygments_lexer": "ipython3",
   "version": "3.8.11"
  },
  "orig_nbformat": 4
 },
 "nbformat": 4,
 "nbformat_minor": 2
}
