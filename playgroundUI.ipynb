{
 "cells": [
  {
   "cell_type": "markdown",
   "metadata": {},
   "source": [
    "# all data models"
   ]
  },
  {
   "cell_type": "code",
   "execution_count": 5,
   "metadata": {},
   "outputs": [
    {
     "name": "stdout",
     "output_type": "stream",
     "text": [
      "['coamwa14.json', 'Test.json']\n",
      "coamwa14.json\n"
     ]
    }
   ],
   "source": [
    "mypath = \"./Data/DataModel/\"\n",
    "from os import listdir\n",
    "from os.path import isfile, join, basename\n",
    "onlyfiles = [f for f in listdir(mypath) if isfile(join(mypath, f))]\n",
    "print(onlyfiles)\n",
    "import data_model as dm\n",
    "print(basename(mypath + onlyfiles[0]))\n",
    "#dm = dm.DataModel(dm.json_file_to_data_model(mypath + onlyfiles[0]))\n"
   ]
  }
 ],
 "metadata": {
  "interpreter": {
   "hash": "8e78747238e939523e0ccabebcbcad03fef5307bc0952566b45b121ad126abc3"
  },
  "kernelspec": {
   "display_name": "Python 3.8.11 ('base')",
   "language": "python",
   "name": "python3"
  },
  "language_info": {
   "codemirror_mode": {
    "name": "ipython",
    "version": 3
   },
   "file_extension": ".py",
   "mimetype": "text/x-python",
   "name": "python",
   "nbconvert_exporter": "python",
   "pygments_lexer": "ipython3",
   "version": "3.8.11"
  },
  "orig_nbformat": 4
 },
 "nbformat": 4,
 "nbformat_minor": 2
}
